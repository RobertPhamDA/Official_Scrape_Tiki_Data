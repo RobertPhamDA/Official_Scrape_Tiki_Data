{
 "cells": [
  {
   "cell_type": "code",
   "execution_count": 16,
   "id": "9d5b000c",
   "metadata": {},
   "outputs": [],
   "source": [
    "import pandas as pd\n",
    "import requests\n",
    "import time\n",
    "import random\n",
    "from tqdm import tqdm"
   ]
  },
  {
   "cell_type": "code",
   "execution_count": 18,
   "id": "b95b6aaf",
   "metadata": {},
   "outputs": [
    {
     "name": "stdout",
     "output_type": "stream",
     "text": [
      "request success!!!\n",
      "request success!!!\n",
      "request success!!!\n",
      "request success!!!\n",
      "request success!!!\n",
      "request success!!!\n",
      "request success!!!\n",
      "request success!!!\n",
      "request success!!!\n",
      "request success!!!\n"
     ]
    }
   ],
   "source": [
    "\n",
    "\n",
    "# cookies = {\n",
    "#     'TIKI_GUEST_TOKEN': '8jWSuIDBb2NGVzr6hsUZXpkP1FRin7lY',\n",
    "#     'TOKENS': '{%22access_token%22:%228jWSuIDBb2NGVzr6hsUZXpkP1FRin7lY%22%2C%22expires_in%22:157680000%2C%22expires_at%22:1763654224277%2C%22guest_token%22:%228jWSuIDBb2NGVzr6hsUZXpkP1FRin7lY%22}',\n",
    "#     'amp_99d374': 'eSc-_0HT1um7cb57E7dwA0...1enloc6a2.1enlpc1q6.b.i.t',\n",
    "#     'amp_99d374_tiki.vn': 'eSc-_0HT1um7cb57E7dwA0...1enloc6a2.1enlp8817.3.1.1',\n",
    "#     '_gcl_au': '1.1.559117409.1605974236',\n",
    "#     '_ants_utm_v2': '',\n",
    "#     '_pk_id.638735871.2fc5': 'b92ae025fbbdb31f.1605974236.1.1605975278.1605974236.',\n",
    "#     '_pk_ses.638735871.2fc5': '*',\n",
    "#     '_trackity': '70e316b0-96f2-dbe1-a2ed-43ff60419991',\n",
    "#     '_ga_NKX31X43RV': 'GS1.1.1605974235.1.1.1605975326.0',\n",
    "#     '_ga': 'GA1.1.657946765.1605974236',\n",
    "#     'ai_client_id': '11935756853.1605974227',\n",
    "#     'an_session': 'zizkzrzjzlzizqzlzqzjzdzizizqzgzmzkzmzlzrzmzgzdzizlzjzmzqzkznzhzhzkzdzizhzdzizlzjzmzqzkznzhzhzkzdzizlzjzmzqzkznzhzhzkzdzjzdzhzqzdzizd2f27zdzjzdzlzmzmznzq',\n",
    "#     'au_aid': '11935756853',\n",
    "#     'dgs': '1605975268%3A3%3A0',\n",
    "#     'au_gt': '1605974227146',\n",
    "#     '_ants_services': '%5B%22cuid%22%5D',\n",
    "#     '__admUTMtime': '1605974236',\n",
    "#     '__iid': '749',\n",
    "#     '__su': '0',\n",
    "#     '_bs': 'bb9a32f6-ab13-ce80-92d6-57fd3fd6e4c8',\n",
    "#     '_gid': 'GA1.2.867846791.1605974237',\n",
    "#     '_fbp': 'fb.1.1605974237134.1297408816',\n",
    "#     '_hjid': 'f152cf33-7323-4410-b9ae-79f6622ebc48',\n",
    "#     '_hjFirstSeen': '1',\n",
    "#     '_hjIncludedInPageviewSample': '1',\n",
    "#     '_hjAbsoluteSessionInProgress': '0',\n",
    "#     '_hjIncludedInSessionSample': '1',\n",
    "#     'tiki_client_id': '657946765.1605974236',\n",
    "#     '__gads': 'ID=ae56424189ecccbe-227eb8e1d6c400a8:T=1605974229:RT=1605974229:S=ALNI_MZFWYf2BAjzCSiRNLC3bKI-W_7YHA',\n",
    "#     'proxy_s_sv': '1605976041662',\n",
    "#     'TKSESSID': '8bcd49b02e1e16aa1cdb795c54d7b460',\n",
    "#     'TIKI_RECOMMENDATION': '21dd50e7f7c194df673ea3b717459249',\n",
    "#     'cto_bundle': 'V9Dkml9NVXNkQmJ6aEVLcXNqbHdjcVZoQ0l5RXpOMlRybjdDT0JrUnNxVXc2bHd0N2J3Y2FCdmZVQXdYY1QlMkJYUmxXSHZ2UEFwd3IzRHhzRWJYMlQlMkJsQjhjQlA1JTJCcExyRzlUQk5CYUdMdjl2STNQanVsa3cycHd3SHElMkJabnI3dzNhREpZcFVyandyM1d1QWpJbWYxT1UyWDdHZyUzRCUzRA',\n",
    "#     'TIKI_RECENTLYVIEWED': '58259141',\n",
    "#     '_ants_event_his': '%7B%22action%22%3A%22view%22%2C%22time%22%3A1605974691247%7D',\n",
    "#     '_gat': '1',\n",
    "# }\n",
    "\n",
    "headers = {\n",
    "    'User-Agent': 'Mozilla/5.0 (Windows NT 6.3; Win64; x64; rv:83.0) Gecko/20100101 Firefox/83.0',\n",
    "    'Accept': 'application/json, text/plain, */*',\n",
    "    'Accept-Language': 'vi-VN,vi;q=0.8,en-US;q=0.5,en;q=0.3',\n",
    "    'Referer': 'https://tiki.vn/?src=header_tiki',\n",
    "    'x-guest-token': '8jWSuIDBb2NGVzr6hsUZXpkP1FRin7lY',\n",
    "    'Connection': 'keep-alive',\n",
    "    'TE': 'Trailers',\n",
    "}\n",
    "\n",
    "params = {\n",
    "    'limit': '48',\n",
    "    'include': 'sale-attrs,badges,product_links,brand,category,stock_item,advertisement',\n",
    "    'aggregations': '1',\n",
    "    'trackity_id': '70e316b0-96f2-dbe1-a2ed-43ff60419991',\n",
    "    'category': '1883',\n",
    "    'page': '1',\n",
    "    'src': 'c1883',\n",
    "    'urlKey':  'nha-cua-doi-song',\n",
    "}\n",
    "\n",
    "product_id = []\n",
    "for i in range(1, 11):\n",
    "    params['page'] = i\n",
    "    response = requests.get('https://tiki.vn/api/v2/products', headers=headers, params=params)#, cookies=cookies)\n",
    "    if response.status_code == 200:\n",
    "        print('request success!!!')\n",
    "        for record in response.json().get('data'):\n",
    "            product_id.append({'id': record.get('id')})\n",
    "    time.sleep(random.randrange(3, 10))\n",
    "\n",
    "df = pd.DataFrame(product_id)\n",
    "df.to_csv('product_id_ncds.csv', index=False)"
   ]
  },
  {
   "cell_type": "code",
   "execution_count": 79,
   "id": "e9faa3fd",
   "metadata": {},
   "outputs": [
    {
     "name": "stdout",
     "output_type": "stream",
     "text": [
      "            id\n",
      "0    176309243\n",
      "1    276478995\n",
      "2    275511640\n",
      "3    275570245\n",
      "4    276120162\n",
      "..         ...\n",
      "425   85029571\n",
      "426   33507502\n",
      "427   28079716\n",
      "428   23536038\n",
      "429    8282408\n",
      "\n",
      "[430 rows x 1 columns]\n"
     ]
    }
   ],
   "source": [
    "print(df)"
   ]
  },
  {
   "cell_type": "code",
   "execution_count": 60,
   "id": "060bf4e7",
   "metadata": {},
   "outputs": [
    {
     "data": {
      "text/html": [
       "<div>\n",
       "<style scoped>\n",
       "    .dataframe tbody tr th:only-of-type {\n",
       "        vertical-align: middle;\n",
       "    }\n",
       "\n",
       "    .dataframe tbody tr th {\n",
       "        vertical-align: top;\n",
       "    }\n",
       "\n",
       "    .dataframe thead th {\n",
       "        text-align: right;\n",
       "    }\n",
       "</style>\n",
       "<table border=\"1\" class=\"dataframe\">\n",
       "  <thead>\n",
       "    <tr style=\"text-align: right;\">\n",
       "      <th></th>\n",
       "      <th>id</th>\n",
       "      <th>product_id</th>\n",
       "      <th>title</th>\n",
       "      <th>content</th>\n",
       "      <th>thank_count</th>\n",
       "      <th>customer_id</th>\n",
       "      <th>rating</th>\n",
       "      <th>created_at</th>\n",
       "      <th>customer_name</th>\n",
       "      <th>purchased_at</th>\n",
       "    </tr>\n",
       "  </thead>\n",
       "  <tbody>\n",
       "    <tr>\n",
       "      <th>0</th>\n",
       "      <td>20120937</td>\n",
       "      <td>176309243</td>\n",
       "      <td>Cực kì hài lòng</td>\n",
       "      <td>Mua ở Tiki là an tâm nhất. Túi rác cũng dùng c...</td>\n",
       "      <td>1</td>\n",
       "      <td>47241</td>\n",
       "      <td>5</td>\n",
       "      <td>1746695940</td>\n",
       "      <td>Thu Hồi</td>\n",
       "      <td>1746688230</td>\n",
       "    </tr>\n",
       "    <tr>\n",
       "      <th>1</th>\n",
       "      <td>20121413</td>\n",
       "      <td>176309243</td>\n",
       "      <td>Cực kì hài lòng</td>\n",
       "      <td>Túi rác dày, có quai nên dùng rất tiện. Tiki g...</td>\n",
       "      <td>1</td>\n",
       "      <td>5557046</td>\n",
       "      <td>5</td>\n",
       "      <td>1746781907</td>\n",
       "      <td>Nguyễn Phúc Trọng</td>\n",
       "      <td>1746686154</td>\n",
       "    </tr>\n",
       "    <tr>\n",
       "      <th>2</th>\n",
       "      <td>20135334</td>\n",
       "      <td>176309243</td>\n",
       "      <td>Cực kì hài lòng</td>\n",
       "      <td>Có vẻ mỏng nhưng túi chắn chắn và khá lớn. Giá...</td>\n",
       "      <td>0</td>\n",
       "      <td>1596921</td>\n",
       "      <td>5</td>\n",
       "      <td>1749821079</td>\n",
       "      <td>Mai Huong</td>\n",
       "      <td>1749604281</td>\n",
       "    </tr>\n",
       "    <tr>\n",
       "      <th>3</th>\n",
       "      <td>20121519</td>\n",
       "      <td>176309243</td>\n",
       "      <td>Cực kì hài lòng</td>\n",
       "      <td>Săn được deal xịn xò, túi 25L siêu chắc. Giao ...</td>\n",
       "      <td>1</td>\n",
       "      <td>15143103</td>\n",
       "      <td>5</td>\n",
       "      <td>1746800702</td>\n",
       "      <td>Võ Thị Kim Viên</td>\n",
       "      <td>1746693649</td>\n",
       "    </tr>\n",
       "    <tr>\n",
       "      <th>4</th>\n",
       "      <td>20120853</td>\n",
       "      <td>176309243</td>\n",
       "      <td>Cực kì hài lòng</td>\n",
       "      <td>Túi dày chắc chắn giao siêu nhanh . Mua 2 comb...</td>\n",
       "      <td>1</td>\n",
       "      <td>1747824</td>\n",
       "      <td>5</td>\n",
       "      <td>1746691848</td>\n",
       "      <td>Lê thị thúy Kiều</td>\n",
       "      <td>1746687130</td>\n",
       "    </tr>\n",
       "  </tbody>\n",
       "</table>\n",
       "</div>"
      ],
      "text/plain": [
       "         id  product_id            title  \\\n",
       "0  20120937   176309243  Cực kì hài lòng   \n",
       "1  20121413   176309243  Cực kì hài lòng   \n",
       "2  20135334   176309243  Cực kì hài lòng   \n",
       "3  20121519   176309243  Cực kì hài lòng   \n",
       "4  20120853   176309243  Cực kì hài lòng   \n",
       "\n",
       "                                             content  thank_count  \\\n",
       "0  Mua ở Tiki là an tâm nhất. Túi rác cũng dùng c...            1   \n",
       "1  Túi rác dày, có quai nên dùng rất tiện. Tiki g...            1   \n",
       "2  Có vẻ mỏng nhưng túi chắn chắn và khá lớn. Giá...            0   \n",
       "3  Săn được deal xịn xò, túi 25L siêu chắc. Giao ...            1   \n",
       "4  Túi dày chắc chắn giao siêu nhanh . Mua 2 comb...            1   \n",
       "\n",
       "   customer_id  rating  created_at      customer_name  purchased_at  \n",
       "0        47241       5  1746695940            Thu Hồi    1746688230  \n",
       "1      5557046       5  1746781907  Nguyễn Phúc Trọng    1746686154  \n",
       "2      1596921       5  1749821079          Mai Huong    1749604281  \n",
       "3     15143103       5  1746800702    Võ Thị Kim Viên    1746693649  \n",
       "4      1747824       5  1746691848   Lê thị thúy Kiều    1746687130  "
      ]
     },
     "execution_count": 60,
     "metadata": {},
     "output_type": "execute_result"
    }
   ],
   "source": [
    "df_comment.head()"
   ]
  },
  {
   "cell_type": "code",
   "execution_count": null,
   "id": "589fee75",
   "metadata": {},
   "outputs": [],
   "source": [
    "df_comment[\"PurchasedDate\"] = pd.to_datetime(df_comment[\"purchased_at\"], unit='s')"
   ]
  },
  {
   "cell_type": "code",
   "execution_count": 85,
   "id": "f5dd7cbe",
   "metadata": {},
   "outputs": [
    {
     "data": {
      "text/html": [
       "<div>\n",
       "<style scoped>\n",
       "    .dataframe tbody tr th:only-of-type {\n",
       "        vertical-align: middle;\n",
       "    }\n",
       "\n",
       "    .dataframe tbody tr th {\n",
       "        vertical-align: top;\n",
       "    }\n",
       "\n",
       "    .dataframe thead th {\n",
       "        text-align: right;\n",
       "    }\n",
       "</style>\n",
       "<table border=\"1\" class=\"dataframe\">\n",
       "  <thead>\n",
       "    <tr style=\"text-align: right;\">\n",
       "      <th></th>\n",
       "      <th>id</th>\n",
       "      <th>product_id</th>\n",
       "      <th>thank_count</th>\n",
       "      <th>customer_id</th>\n",
       "      <th>rating</th>\n",
       "      <th>created_at</th>\n",
       "      <th>purchased_at</th>\n",
       "      <th>PurchasedDate</th>\n",
       "    </tr>\n",
       "  </thead>\n",
       "  <tbody>\n",
       "    <tr>\n",
       "      <th>count</th>\n",
       "      <td>5.570000e+03</td>\n",
       "      <td>5.570000e+03</td>\n",
       "      <td>5570.000000</td>\n",
       "      <td>5.570000e+03</td>\n",
       "      <td>5570.000000</td>\n",
       "      <td>5.570000e+03</td>\n",
       "      <td>5.570000e+03</td>\n",
       "      <td>5570</td>\n",
       "    </tr>\n",
       "    <tr>\n",
       "      <th>mean</th>\n",
       "      <td>1.892816e+07</td>\n",
       "      <td>1.700390e+08</td>\n",
       "      <td>0.266786</td>\n",
       "      <td>1.301519e+07</td>\n",
       "      <td>4.516338</td>\n",
       "      <td>1.708693e+09</td>\n",
       "      <td>1.706815e+09</td>\n",
       "      <td>2024-02-01 19:13:10.657091840</td>\n",
       "    </tr>\n",
       "    <tr>\n",
       "      <th>min</th>\n",
       "      <td>2.323257e+06</td>\n",
       "      <td>7.188890e+05</td>\n",
       "      <td>0.000000</td>\n",
       "      <td>3.600000e+01</td>\n",
       "      <td>1.000000</td>\n",
       "      <td>1.563529e+09</td>\n",
       "      <td>1.542264e+09</td>\n",
       "      <td>2018-11-15 06:48:10</td>\n",
       "    </tr>\n",
       "    <tr>\n",
       "      <th>25%</th>\n",
       "      <td>1.907671e+07</td>\n",
       "      <td>8.488609e+07</td>\n",
       "      <td>0.000000</td>\n",
       "      <td>6.289707e+06</td>\n",
       "      <td>5.000000</td>\n",
       "      <td>1.681141e+09</td>\n",
       "      <td>1.679131e+09</td>\n",
       "      <td>2023-03-18 09:15:42</td>\n",
       "    </tr>\n",
       "    <tr>\n",
       "      <th>50%</th>\n",
       "      <td>1.993408e+07</td>\n",
       "      <td>1.894921e+08</td>\n",
       "      <td>0.000000</td>\n",
       "      <td>1.194365e+07</td>\n",
       "      <td>5.000000</td>\n",
       "      <td>1.721662e+09</td>\n",
       "      <td>1.720298e+09</td>\n",
       "      <td>2024-07-06 20:28:02</td>\n",
       "    </tr>\n",
       "    <tr>\n",
       "      <th>75%</th>\n",
       "      <td>2.007727e+07</td>\n",
       "      <td>2.725531e+08</td>\n",
       "      <td>0.000000</td>\n",
       "      <td>1.982492e+07</td>\n",
       "      <td>5.000000</td>\n",
       "      <td>1.738905e+09</td>\n",
       "      <td>1.736330e+09</td>\n",
       "      <td>2025-01-08 09:46:57</td>\n",
       "    </tr>\n",
       "    <tr>\n",
       "      <th>max</th>\n",
       "      <td>2.014042e+07</td>\n",
       "      <td>2.778608e+08</td>\n",
       "      <td>48.000000</td>\n",
       "      <td>3.040816e+07</td>\n",
       "      <td>5.000000</td>\n",
       "      <td>1.750996e+09</td>\n",
       "      <td>1.750831e+09</td>\n",
       "      <td>2025-06-25 05:57:50</td>\n",
       "    </tr>\n",
       "    <tr>\n",
       "      <th>std</th>\n",
       "      <td>2.436088e+06</td>\n",
       "      <td>9.141134e+07</td>\n",
       "      <td>2.036194</td>\n",
       "      <td>9.029232e+06</td>\n",
       "      <td>1.053687</td>\n",
       "      <td>3.684195e+07</td>\n",
       "      <td>3.658025e+07</td>\n",
       "      <td>NaN</td>\n",
       "    </tr>\n",
       "  </tbody>\n",
       "</table>\n",
       "</div>"
      ],
      "text/plain": [
       "                 id    product_id  thank_count   customer_id       rating  \\\n",
       "count  5.570000e+03  5.570000e+03  5570.000000  5.570000e+03  5570.000000   \n",
       "mean   1.892816e+07  1.700390e+08     0.266786  1.301519e+07     4.516338   \n",
       "min    2.323257e+06  7.188890e+05     0.000000  3.600000e+01     1.000000   \n",
       "25%    1.907671e+07  8.488609e+07     0.000000  6.289707e+06     5.000000   \n",
       "50%    1.993408e+07  1.894921e+08     0.000000  1.194365e+07     5.000000   \n",
       "75%    2.007727e+07  2.725531e+08     0.000000  1.982492e+07     5.000000   \n",
       "max    2.014042e+07  2.778608e+08    48.000000  3.040816e+07     5.000000   \n",
       "std    2.436088e+06  9.141134e+07     2.036194  9.029232e+06     1.053687   \n",
       "\n",
       "         created_at  purchased_at                  PurchasedDate  \n",
       "count  5.570000e+03  5.570000e+03                           5570  \n",
       "mean   1.708693e+09  1.706815e+09  2024-02-01 19:13:10.657091840  \n",
       "min    1.563529e+09  1.542264e+09            2018-11-15 06:48:10  \n",
       "25%    1.681141e+09  1.679131e+09            2023-03-18 09:15:42  \n",
       "50%    1.721662e+09  1.720298e+09            2024-07-06 20:28:02  \n",
       "75%    1.738905e+09  1.736330e+09            2025-01-08 09:46:57  \n",
       "max    1.750996e+09  1.750831e+09            2025-06-25 05:57:50  \n",
       "std    3.684195e+07  3.658025e+07                            NaN  "
      ]
     },
     "execution_count": 85,
     "metadata": {},
     "output_type": "execute_result"
    }
   ],
   "source": [
    "df_comment.describe()"
   ]
  },
  {
   "cell_type": "code",
   "execution_count": 87,
   "id": "c2aba863",
   "metadata": {},
   "outputs": [
    {
     "data": {
      "text/html": [
       "<div>\n",
       "<style scoped>\n",
       "    .dataframe tbody tr th:only-of-type {\n",
       "        vertical-align: middle;\n",
       "    }\n",
       "\n",
       "    .dataframe tbody tr th {\n",
       "        vertical-align: top;\n",
       "    }\n",
       "\n",
       "    .dataframe thead th {\n",
       "        text-align: right;\n",
       "    }\n",
       "</style>\n",
       "<table border=\"1\" class=\"dataframe\">\n",
       "  <thead>\n",
       "    <tr style=\"text-align: right;\">\n",
       "      <th></th>\n",
       "      <th>id</th>\n",
       "      <th>product_id</th>\n",
       "      <th>title</th>\n",
       "      <th>content</th>\n",
       "      <th>thank_count</th>\n",
       "      <th>customer_id</th>\n",
       "      <th>rating</th>\n",
       "      <th>created_at</th>\n",
       "      <th>customer_name</th>\n",
       "      <th>purchased_at</th>\n",
       "      <th>PurchasedDate</th>\n",
       "    </tr>\n",
       "  </thead>\n",
       "  <tbody>\n",
       "    <tr>\n",
       "      <th>0</th>\n",
       "      <td>20120937</td>\n",
       "      <td>176309243</td>\n",
       "      <td>Cực kì hài lòng</td>\n",
       "      <td>Mua ở Tiki là an tâm nhất. Túi rác cũng dùng c...</td>\n",
       "      <td>1</td>\n",
       "      <td>47241</td>\n",
       "      <td>5</td>\n",
       "      <td>1746695940</td>\n",
       "      <td>Thu Hồi</td>\n",
       "      <td>1746688230</td>\n",
       "      <td>2025-05-08 07:10:30</td>\n",
       "    </tr>\n",
       "    <tr>\n",
       "      <th>1</th>\n",
       "      <td>20121413</td>\n",
       "      <td>176309243</td>\n",
       "      <td>Cực kì hài lòng</td>\n",
       "      <td>Túi rác dày, có quai nên dùng rất tiện. Tiki g...</td>\n",
       "      <td>1</td>\n",
       "      <td>5557046</td>\n",
       "      <td>5</td>\n",
       "      <td>1746781907</td>\n",
       "      <td>Nguyễn Phúc Trọng</td>\n",
       "      <td>1746686154</td>\n",
       "      <td>2025-05-08 06:35:54</td>\n",
       "    </tr>\n",
       "    <tr>\n",
       "      <th>2</th>\n",
       "      <td>20135334</td>\n",
       "      <td>176309243</td>\n",
       "      <td>Cực kì hài lòng</td>\n",
       "      <td>Có vẻ mỏng nhưng túi chắn chắn và khá lớn. Giá...</td>\n",
       "      <td>0</td>\n",
       "      <td>1596921</td>\n",
       "      <td>5</td>\n",
       "      <td>1749821079</td>\n",
       "      <td>Mai Huong</td>\n",
       "      <td>1749604281</td>\n",
       "      <td>2025-06-11 01:11:21</td>\n",
       "    </tr>\n",
       "    <tr>\n",
       "      <th>3</th>\n",
       "      <td>20121519</td>\n",
       "      <td>176309243</td>\n",
       "      <td>Cực kì hài lòng</td>\n",
       "      <td>Săn được deal xịn xò, túi 25L siêu chắc. Giao ...</td>\n",
       "      <td>1</td>\n",
       "      <td>15143103</td>\n",
       "      <td>5</td>\n",
       "      <td>1746800702</td>\n",
       "      <td>Võ Thị Kim Viên</td>\n",
       "      <td>1746693649</td>\n",
       "      <td>2025-05-08 08:40:49</td>\n",
       "    </tr>\n",
       "    <tr>\n",
       "      <th>4</th>\n",
       "      <td>20120853</td>\n",
       "      <td>176309243</td>\n",
       "      <td>Cực kì hài lòng</td>\n",
       "      <td>Túi dày chắc chắn giao siêu nhanh . Mua 2 comb...</td>\n",
       "      <td>1</td>\n",
       "      <td>1747824</td>\n",
       "      <td>5</td>\n",
       "      <td>1746691848</td>\n",
       "      <td>Lê thị thúy Kiều</td>\n",
       "      <td>1746687130</td>\n",
       "      <td>2025-05-08 06:52:10</td>\n",
       "    </tr>\n",
       "    <tr>\n",
       "      <th>5</th>\n",
       "      <td>20136132</td>\n",
       "      <td>176309243</td>\n",
       "      <td>Cực kì hài lòng</td>\n",
       "      <td>Miệng túi bó nên tròng vào thùng sẽ dễ bị rách</td>\n",
       "      <td>0</td>\n",
       "      <td>105402</td>\n",
       "      <td>5</td>\n",
       "      <td>1749998351</td>\n",
       "      <td>Quang Trung</td>\n",
       "      <td>1747752049</td>\n",
       "      <td>2025-05-20 14:40:49</td>\n",
       "    </tr>\n",
       "    <tr>\n",
       "      <th>6</th>\n",
       "      <td>20120944</td>\n",
       "      <td>176309243</td>\n",
       "      <td>Cực kì hài lòng</td>\n",
       "      <td>Chất lượng đảm bảo. Giao hàng đúng hẹn</td>\n",
       "      <td>1</td>\n",
       "      <td>29808899</td>\n",
       "      <td>5</td>\n",
       "      <td>1746697214</td>\n",
       "      <td>NGUYEN THU</td>\n",
       "      <td>1746686328</td>\n",
       "      <td>2025-05-08 06:38:48</td>\n",
       "    </tr>\n",
       "    <tr>\n",
       "      <th>7</th>\n",
       "      <td>20130380</td>\n",
       "      <td>176309243</td>\n",
       "      <td>Cực kì hài lòng</td>\n",
       "      <td>Giao hàng nhanh, có túi tiện dụng</td>\n",
       "      <td>0</td>\n",
       "      <td>11777713</td>\n",
       "      <td>5</td>\n",
       "      <td>1748765947</td>\n",
       "      <td>Lê Văn Thương</td>\n",
       "      <td>1748568303</td>\n",
       "      <td>2025-05-30 01:25:03</td>\n",
       "    </tr>\n",
       "    <tr>\n",
       "      <th>8</th>\n",
       "      <td>20138755</td>\n",
       "      <td>176309243</td>\n",
       "      <td>Cực kì hài lòng</td>\n",
       "      <td>Giao nhanh, okela quá ạ</td>\n",
       "      <td>0</td>\n",
       "      <td>13395152</td>\n",
       "      <td>5</td>\n",
       "      <td>1750571186</td>\n",
       "      <td>Phương Phạm</td>\n",
       "      <td>1750564129</td>\n",
       "      <td>2025-06-22 03:48:49</td>\n",
       "    </tr>\n",
       "    <tr>\n",
       "      <th>9</th>\n",
       "      <td>20134291</td>\n",
       "      <td>176309243</td>\n",
       "      <td>Cực kì hài lòng</td>\n",
       "      <td>Thiết kế tiện lợi.</td>\n",
       "      <td>0</td>\n",
       "      <td>1466599</td>\n",
       "      <td>5</td>\n",
       "      <td>1749605328</td>\n",
       "      <td>Phạm Tva</td>\n",
       "      <td>1748774361</td>\n",
       "      <td>2025-06-01 10:39:21</td>\n",
       "    </tr>\n",
       "    <tr>\n",
       "      <th>10</th>\n",
       "      <td>20120937</td>\n",
       "      <td>176309243</td>\n",
       "      <td>Cực kì hài lòng</td>\n",
       "      <td>Mua ở Tiki là an tâm nhất. Túi rác cũng dùng c...</td>\n",
       "      <td>1</td>\n",
       "      <td>47241</td>\n",
       "      <td>5</td>\n",
       "      <td>1746695940</td>\n",
       "      <td>Thu Hồi</td>\n",
       "      <td>1746688230</td>\n",
       "      <td>2025-05-08 07:10:30</td>\n",
       "    </tr>\n",
       "    <tr>\n",
       "      <th>11</th>\n",
       "      <td>20121413</td>\n",
       "      <td>176309243</td>\n",
       "      <td>Cực kì hài lòng</td>\n",
       "      <td>Túi rác dày, có quai nên dùng rất tiện. Tiki g...</td>\n",
       "      <td>1</td>\n",
       "      <td>5557046</td>\n",
       "      <td>5</td>\n",
       "      <td>1746781907</td>\n",
       "      <td>Nguyễn Phúc Trọng</td>\n",
       "      <td>1746686154</td>\n",
       "      <td>2025-05-08 06:35:54</td>\n",
       "    </tr>\n",
       "    <tr>\n",
       "      <th>12</th>\n",
       "      <td>20135334</td>\n",
       "      <td>176309243</td>\n",
       "      <td>Cực kì hài lòng</td>\n",
       "      <td>Có vẻ mỏng nhưng túi chắn chắn và khá lớn. Giá...</td>\n",
       "      <td>0</td>\n",
       "      <td>1596921</td>\n",
       "      <td>5</td>\n",
       "      <td>1749821079</td>\n",
       "      <td>Mai Huong</td>\n",
       "      <td>1749604281</td>\n",
       "      <td>2025-06-11 01:11:21</td>\n",
       "    </tr>\n",
       "    <tr>\n",
       "      <th>13</th>\n",
       "      <td>20121519</td>\n",
       "      <td>176309243</td>\n",
       "      <td>Cực kì hài lòng</td>\n",
       "      <td>Săn được deal xịn xò, túi 25L siêu chắc. Giao ...</td>\n",
       "      <td>1</td>\n",
       "      <td>15143103</td>\n",
       "      <td>5</td>\n",
       "      <td>1746800702</td>\n",
       "      <td>Võ Thị Kim Viên</td>\n",
       "      <td>1746693649</td>\n",
       "      <td>2025-05-08 08:40:49</td>\n",
       "    </tr>\n",
       "    <tr>\n",
       "      <th>14</th>\n",
       "      <td>20120853</td>\n",
       "      <td>176309243</td>\n",
       "      <td>Cực kì hài lòng</td>\n",
       "      <td>Túi dày chắc chắn giao siêu nhanh . Mua 2 comb...</td>\n",
       "      <td>1</td>\n",
       "      <td>1747824</td>\n",
       "      <td>5</td>\n",
       "      <td>1746691848</td>\n",
       "      <td>Lê thị thúy Kiều</td>\n",
       "      <td>1746687130</td>\n",
       "      <td>2025-05-08 06:52:10</td>\n",
       "    </tr>\n",
       "    <tr>\n",
       "      <th>15</th>\n",
       "      <td>20136132</td>\n",
       "      <td>176309243</td>\n",
       "      <td>Cực kì hài lòng</td>\n",
       "      <td>Miệng túi bó nên tròng vào thùng sẽ dễ bị rách</td>\n",
       "      <td>0</td>\n",
       "      <td>105402</td>\n",
       "      <td>5</td>\n",
       "      <td>1749998351</td>\n",
       "      <td>Quang Trung</td>\n",
       "      <td>1747752049</td>\n",
       "      <td>2025-05-20 14:40:49</td>\n",
       "    </tr>\n",
       "    <tr>\n",
       "      <th>16</th>\n",
       "      <td>20120944</td>\n",
       "      <td>176309243</td>\n",
       "      <td>Cực kì hài lòng</td>\n",
       "      <td>Chất lượng đảm bảo. Giao hàng đúng hẹn</td>\n",
       "      <td>1</td>\n",
       "      <td>29808899</td>\n",
       "      <td>5</td>\n",
       "      <td>1746697214</td>\n",
       "      <td>NGUYEN THU</td>\n",
       "      <td>1746686328</td>\n",
       "      <td>2025-05-08 06:38:48</td>\n",
       "    </tr>\n",
       "    <tr>\n",
       "      <th>17</th>\n",
       "      <td>20130380</td>\n",
       "      <td>176309243</td>\n",
       "      <td>Cực kì hài lòng</td>\n",
       "      <td>Giao hàng nhanh, có túi tiện dụng</td>\n",
       "      <td>0</td>\n",
       "      <td>11777713</td>\n",
       "      <td>5</td>\n",
       "      <td>1748765947</td>\n",
       "      <td>Lê Văn Thương</td>\n",
       "      <td>1748568303</td>\n",
       "      <td>2025-05-30 01:25:03</td>\n",
       "    </tr>\n",
       "    <tr>\n",
       "      <th>18</th>\n",
       "      <td>20138755</td>\n",
       "      <td>176309243</td>\n",
       "      <td>Cực kì hài lòng</td>\n",
       "      <td>Giao nhanh, okela quá ạ</td>\n",
       "      <td>0</td>\n",
       "      <td>13395152</td>\n",
       "      <td>5</td>\n",
       "      <td>1750571186</td>\n",
       "      <td>Phương Phạm</td>\n",
       "      <td>1750564129</td>\n",
       "      <td>2025-06-22 03:48:49</td>\n",
       "    </tr>\n",
       "    <tr>\n",
       "      <th>19</th>\n",
       "      <td>20134291</td>\n",
       "      <td>176309243</td>\n",
       "      <td>Cực kì hài lòng</td>\n",
       "      <td>Thiết kế tiện lợi.</td>\n",
       "      <td>0</td>\n",
       "      <td>1466599</td>\n",
       "      <td>5</td>\n",
       "      <td>1749605328</td>\n",
       "      <td>Phạm Tva</td>\n",
       "      <td>1748774361</td>\n",
       "      <td>2025-06-01 10:39:21</td>\n",
       "    </tr>\n",
       "  </tbody>\n",
       "</table>\n",
       "</div>"
      ],
      "text/plain": [
       "          id  product_id            title  \\\n",
       "0   20120937   176309243  Cực kì hài lòng   \n",
       "1   20121413   176309243  Cực kì hài lòng   \n",
       "2   20135334   176309243  Cực kì hài lòng   \n",
       "3   20121519   176309243  Cực kì hài lòng   \n",
       "4   20120853   176309243  Cực kì hài lòng   \n",
       "5   20136132   176309243  Cực kì hài lòng   \n",
       "6   20120944   176309243  Cực kì hài lòng   \n",
       "7   20130380   176309243  Cực kì hài lòng   \n",
       "8   20138755   176309243  Cực kì hài lòng   \n",
       "9   20134291   176309243  Cực kì hài lòng   \n",
       "10  20120937   176309243  Cực kì hài lòng   \n",
       "11  20121413   176309243  Cực kì hài lòng   \n",
       "12  20135334   176309243  Cực kì hài lòng   \n",
       "13  20121519   176309243  Cực kì hài lòng   \n",
       "14  20120853   176309243  Cực kì hài lòng   \n",
       "15  20136132   176309243  Cực kì hài lòng   \n",
       "16  20120944   176309243  Cực kì hài lòng   \n",
       "17  20130380   176309243  Cực kì hài lòng   \n",
       "18  20138755   176309243  Cực kì hài lòng   \n",
       "19  20134291   176309243  Cực kì hài lòng   \n",
       "\n",
       "                                              content  thank_count  \\\n",
       "0   Mua ở Tiki là an tâm nhất. Túi rác cũng dùng c...            1   \n",
       "1   Túi rác dày, có quai nên dùng rất tiện. Tiki g...            1   \n",
       "2   Có vẻ mỏng nhưng túi chắn chắn và khá lớn. Giá...            0   \n",
       "3   Săn được deal xịn xò, túi 25L siêu chắc. Giao ...            1   \n",
       "4   Túi dày chắc chắn giao siêu nhanh . Mua 2 comb...            1   \n",
       "5      Miệng túi bó nên tròng vào thùng sẽ dễ bị rách            0   \n",
       "6              Chất lượng đảm bảo. Giao hàng đúng hẹn            1   \n",
       "7                   Giao hàng nhanh, có túi tiện dụng            0   \n",
       "8                             Giao nhanh, okela quá ạ            0   \n",
       "9                                  Thiết kế tiện lợi.            0   \n",
       "10  Mua ở Tiki là an tâm nhất. Túi rác cũng dùng c...            1   \n",
       "11  Túi rác dày, có quai nên dùng rất tiện. Tiki g...            1   \n",
       "12  Có vẻ mỏng nhưng túi chắn chắn và khá lớn. Giá...            0   \n",
       "13  Săn được deal xịn xò, túi 25L siêu chắc. Giao ...            1   \n",
       "14  Túi dày chắc chắn giao siêu nhanh . Mua 2 comb...            1   \n",
       "15     Miệng túi bó nên tròng vào thùng sẽ dễ bị rách            0   \n",
       "16             Chất lượng đảm bảo. Giao hàng đúng hẹn            1   \n",
       "17                  Giao hàng nhanh, có túi tiện dụng            0   \n",
       "18                            Giao nhanh, okela quá ạ            0   \n",
       "19                                 Thiết kế tiện lợi.            0   \n",
       "\n",
       "    customer_id  rating  created_at      customer_name  purchased_at  \\\n",
       "0         47241       5  1746695940            Thu Hồi    1746688230   \n",
       "1       5557046       5  1746781907  Nguyễn Phúc Trọng    1746686154   \n",
       "2       1596921       5  1749821079          Mai Huong    1749604281   \n",
       "3      15143103       5  1746800702    Võ Thị Kim Viên    1746693649   \n",
       "4       1747824       5  1746691848   Lê thị thúy Kiều    1746687130   \n",
       "5        105402       5  1749998351        Quang Trung    1747752049   \n",
       "6      29808899       5  1746697214         NGUYEN THU    1746686328   \n",
       "7      11777713       5  1748765947      Lê Văn Thương    1748568303   \n",
       "8      13395152       5  1750571186        Phương Phạm    1750564129   \n",
       "9       1466599       5  1749605328           Phạm Tva    1748774361   \n",
       "10        47241       5  1746695940            Thu Hồi    1746688230   \n",
       "11      5557046       5  1746781907  Nguyễn Phúc Trọng    1746686154   \n",
       "12      1596921       5  1749821079          Mai Huong    1749604281   \n",
       "13     15143103       5  1746800702    Võ Thị Kim Viên    1746693649   \n",
       "14      1747824       5  1746691848   Lê thị thúy Kiều    1746687130   \n",
       "15       105402       5  1749998351        Quang Trung    1747752049   \n",
       "16     29808899       5  1746697214         NGUYEN THU    1746686328   \n",
       "17     11777713       5  1748765947      Lê Văn Thương    1748568303   \n",
       "18     13395152       5  1750571186        Phương Phạm    1750564129   \n",
       "19      1466599       5  1749605328           Phạm Tva    1748774361   \n",
       "\n",
       "         PurchasedDate  \n",
       "0  2025-05-08 07:10:30  \n",
       "1  2025-05-08 06:35:54  \n",
       "2  2025-06-11 01:11:21  \n",
       "3  2025-05-08 08:40:49  \n",
       "4  2025-05-08 06:52:10  \n",
       "5  2025-05-20 14:40:49  \n",
       "6  2025-05-08 06:38:48  \n",
       "7  2025-05-30 01:25:03  \n",
       "8  2025-06-22 03:48:49  \n",
       "9  2025-06-01 10:39:21  \n",
       "10 2025-05-08 07:10:30  \n",
       "11 2025-05-08 06:35:54  \n",
       "12 2025-06-11 01:11:21  \n",
       "13 2025-05-08 08:40:49  \n",
       "14 2025-05-08 06:52:10  \n",
       "15 2025-05-20 14:40:49  \n",
       "16 2025-05-08 06:38:48  \n",
       "17 2025-05-30 01:25:03  \n",
       "18 2025-06-22 03:48:49  \n",
       "19 2025-06-01 10:39:21  "
      ]
     },
     "execution_count": 87,
     "metadata": {},
     "output_type": "execute_result"
    }
   ],
   "source": [
    "df_comment.head(20)"
   ]
  },
  {
   "cell_type": "code",
   "execution_count": 90,
   "id": "d468d644",
   "metadata": {},
   "outputs": [
    {
     "data": {
      "text/html": [
       "<div>\n",
       "<style scoped>\n",
       "    .dataframe tbody tr th:only-of-type {\n",
       "        vertical-align: middle;\n",
       "    }\n",
       "\n",
       "    .dataframe tbody tr th {\n",
       "        vertical-align: top;\n",
       "    }\n",
       "\n",
       "    .dataframe thead th {\n",
       "        text-align: right;\n",
       "    }\n",
       "</style>\n",
       "<table border=\"1\" class=\"dataframe\">\n",
       "  <thead>\n",
       "    <tr style=\"text-align: right;\">\n",
       "      <th></th>\n",
       "      <th>id</th>\n",
       "      <th>product_id</th>\n",
       "      <th>title</th>\n",
       "      <th>content</th>\n",
       "      <th>thank_count</th>\n",
       "      <th>customer_id</th>\n",
       "      <th>rating</th>\n",
       "      <th>created_at</th>\n",
       "      <th>customer_name</th>\n",
       "      <th>purchased_at</th>\n",
       "      <th>PurchasedDate</th>\n",
       "    </tr>\n",
       "  </thead>\n",
       "  <tbody>\n",
       "  </tbody>\n",
       "</table>\n",
       "</div>"
      ],
      "text/plain": [
       "Empty DataFrame\n",
       "Columns: [id, product_id, title, content, thank_count, customer_id, rating, created_at, customer_name, purchased_at, PurchasedDate]\n",
       "Index: []"
      ]
     },
     "execution_count": 90,
     "metadata": {},
     "output_type": "execute_result"
    }
   ],
   "source": [
    "import pandasql as psql\n",
    "psql.sqldf(\"SELECT * FROM df_comment where product_id is null\", locals())"
   ]
  },
  {
   "cell_type": "code",
   "execution_count": 19,
   "id": "84f1886b",
   "metadata": {},
   "outputs": [
    {
     "name": "stdout",
     "output_type": "stream",
     "text": [
      "[176309243, 276478995, 275511640, 275570245, 276120162, 277923199, 277860855, 277740594, 276440258, 276308169, 275256191, 201040328, 73124602, 198458817, 273624233, 276121882, 275892617, 275598585, 275570245, 275570184, 270494167, 180378151, 195111061, 99868980, 71999227, 275570183, 275511640, 275381161, 274957619, 274461464, 274067035, 274067031, 273901995, 272553066, 205290287, 201040328, 200521340, 191506484, 191326389, 186557908, 176310043, 176309243, 170957130, 99868980, 83412126, 73124602, 71890908, 58357614, 57867023, 54133235, 53583472, 20036138, 17423771, 13445381, 6652303, 176309243, 195111057, 202805930, 180378151, 275627325, 277815074, 277740569, 277313146, 276615035, 276500315, 207478015, 275627576, 275627108, 275627558, 276120162, 276440317, 276415594, 276016000, 275367488, 275287501, 250931469, 195109412, 276478995, 275058873, 5146283, 275242547, 275224128, 274672757, 274462107, 274414442, 272484839, 271123700, 270462666, 263239679, 213860137, 202805930, 199638326, 197571724, 197157654, 195111057, 191891580, 165250908, 146432055, 137226640, 136313789, 124690968, 83397955, 73314528, 68187835, 54150594, 53789448, 46327991, 45300792, 14448546, 781987, 277541716, 277470438, 276962508, 276933642, 276504239, 276303964, 276296088, 276139377, 276015796, 275929238, 275529116, 275278125, 275261014, 275189108, 275129280, 274670978, 274508745, 273960517, 273582915, 269846183, 263630334, 263239686, 250468663, 249694552, 249646094, 249251804, 225191298, 221512663, 200634131, 197387569, 194816102, 185397220, 181361773, 176309410, 135220125, 130829751, 54682452, 52515896, 52416730, 2562977, 278022238, 277525338, 277523516, 277523420, 277438760, 276850057, 276747010, 276619353, 275695264, 275405718, 275396744, 275079966, 274790393, 273979410, 273871624, 273157366, 272411943, 272245795, 252558394, 204662078, 201572327, 199167821, 194570463, 193542285, 190864699, 190702462, 189492088, 177481215, 148654134, 147078932, 129260830, 118013604, 117969725, 107713002, 107016473, 82458269, 68019350, 59412424, 38319237, 5023293, 278096592, 277468086, 277306388, 277026696, 276473934, 276296186, 276282164, 276190846, 275626193, 275467729, 275379130, 275324325, 274954065, 274910795, 272547502, 270255984, 262021963, 261822386, 253391105, 207005253, 198815370, 174489160, 171920545, 170443548, 168772145, 163827070, 150876895, 121087197, 113331630, 106712605, 95316281, 88090783, 83480720, 77742109, 57381339, 56308226, 48656066, 27819095, 23465027, 3088227, 277860817, 277860805, 277579129, 277378901, 276950021, 276801072, 276018795, 275493793, 275263278, 275058873, 274721418, 274371739, 273805270, 273661034, 273604765, 273244983, 267261007, 248420700, 247730110, 223727594, 207853618, 204985175, 198617665, 195109412, 191775375, 190989561, 185919862, 180378151, 176309303, 148810239, 125739804, 120552065, 96175682, 85029640, 84886093, 71342375, 56383693, 14639229, 2119169, 892121, 277579064, 277438575, 276413449, 275824896, 275626702, 275575228, 274965041, 274470797, 274368618, 273624233, 273607042, 262362970, 246167977, 226036798, 207941719, 199945017, 197100086, 195967978, 195111061, 191776160, 186558014, 173636676, 169978766, 162405563, 158639945, 158564745, 139106099, 134360863, 120759154, 119030223, 101995256, 97924113, 58210089, 51373821, 51105287, 51005591, 14526627, 2391311, 892141, 718889, 277859957, 277857379, 277608690, 276933701, 276645455, 276408760, 275695590, 275451454, 275451440, 275059651, 274967167, 273935273, 273716647, 273661002, 273533211, 273456113, 272918348, 272894944, 272639442, 262300577, 249822719, 247661092, 205920877, 203810412, 196897347, 189208326, 181223608, 174236741, 119445205, 118210422, 117645437, 101921036, 75320717, 74986804, 68716605, 57867024, 54122078, 52238368, 51476716, 35273810, 277835689, 277821906, 277742267, 277603766, 277579186, 277523046, 276964772, 276611622, 276409126, 276044575, 275480130, 274960078, 274570946, 273721331, 273619945, 272359849, 271121025, 225947119, 221011957, 217695866, 215891498, 203898025, 201566005, 193365988, 192523772, 190726737, 186288399, 162144034, 144492706, 142264591, 99621372, 93095439, 88928025, 74695680, 70820849, 52885368, 19761070, 15605817, 2432307, 2080755, 277557819, 276957582, 276933852, 276933675, 275924958, 275906216, 275407662, 275376312, 275246947, 275238631, 275228880, 275213424, 274867163, 274828550, 274758261, 274558570, 274133322, 273546668, 273009767, 272484433, 270303001, 263239696, 263239689, 225240034, 191385630, 190791221, 184591044, 183907622, 176592358, 169581175, 152446804, 140953145, 130769103, 119112667, 118898224, 85029571, 33507502, 28079716, 23536038, 8282408]\n"
     ]
    },
    {
     "name": "stderr",
     "output_type": "stream",
     "text": [
      "  0%|          | 0/430 [00:00<?, ?it/s]"
     ]
    },
    {
     "name": "stderr",
     "output_type": "stream",
     "text": [
      "  0%|          | 1/430 [00:00<01:18,  5.50it/s]"
     ]
    },
    {
     "name": "stdout",
     "output_type": "stream",
     "text": [
      "Crawl data 176309243 success !!!\n"
     ]
    },
    {
     "name": "stderr",
     "output_type": "stream",
     "text": [
      "  0%|          | 2/430 [00:00<01:57,  3.64it/s]"
     ]
    },
    {
     "name": "stdout",
     "output_type": "stream",
     "text": [
      "Crawl data 276478995 success !!!\n"
     ]
    },
    {
     "name": "stderr",
     "output_type": "stream",
     "text": [
      "  1%|          | 3/430 [00:00<02:25,  2.94it/s]"
     ]
    },
    {
     "name": "stdout",
     "output_type": "stream",
     "text": [
      "Crawl data 275511640 success !!!\n"
     ]
    },
    {
     "name": "stderr",
     "output_type": "stream",
     "text": [
      "  1%|          | 4/430 [00:01<02:10,  3.27it/s]"
     ]
    },
    {
     "name": "stdout",
     "output_type": "stream",
     "text": [
      "Crawl data 275570245 success !!!\n"
     ]
    },
    {
     "name": "stderr",
     "output_type": "stream",
     "text": [
      "  1%|          | 5/430 [00:01<02:08,  3.30it/s]"
     ]
    },
    {
     "name": "stdout",
     "output_type": "stream",
     "text": [
      "Crawl data 276120162 success !!!\n"
     ]
    },
    {
     "name": "stderr",
     "output_type": "stream",
     "text": [
      "  2%|▏         | 7/430 [00:02<02:02,  3.45it/s]"
     ]
    },
    {
     "name": "stdout",
     "output_type": "stream",
     "text": [
      "Crawl data 277923199 success !!!\n",
      "Crawl data 277860855 success !!!\n"
     ]
    },
    {
     "name": "stderr",
     "output_type": "stream",
     "text": [
      "  2%|▏         | 8/430 [00:02<02:04,  3.39it/s]"
     ]
    },
    {
     "name": "stdout",
     "output_type": "stream",
     "text": [
      "Crawl data 277740594 success !!!\n"
     ]
    },
    {
     "name": "stderr",
     "output_type": "stream",
     "text": [
      "  2%|▏         | 10/430 [00:02<01:36,  4.36it/s]"
     ]
    },
    {
     "name": "stdout",
     "output_type": "stream",
     "text": [
      "Crawl data 276440258 success !!!\n",
      "Crawl data 276308169 success !!!\n"
     ]
    },
    {
     "name": "stderr",
     "output_type": "stream",
     "text": [
      "  3%|▎         | 11/430 [00:03<01:47,  3.90it/s]"
     ]
    },
    {
     "name": "stdout",
     "output_type": "stream",
     "text": [
      "Crawl data 275256191 success !!!\n"
     ]
    },
    {
     "name": "stderr",
     "output_type": "stream",
     "text": [
      "  3%|▎         | 12/430 [00:03<01:50,  3.78it/s]"
     ]
    },
    {
     "name": "stdout",
     "output_type": "stream",
     "text": [
      "Crawl data 201040328 success !!!\n"
     ]
    },
    {
     "name": "stderr",
     "output_type": "stream",
     "text": [
      "  3%|▎         | 13/430 [00:03<02:04,  3.36it/s]"
     ]
    },
    {
     "name": "stdout",
     "output_type": "stream",
     "text": [
      "Crawl data 73124602 success !!!\n"
     ]
    },
    {
     "name": "stderr",
     "output_type": "stream",
     "text": [
      "  3%|▎         | 14/430 [00:03<01:58,  3.52it/s]"
     ]
    },
    {
     "name": "stdout",
     "output_type": "stream",
     "text": [
      "Crawl data 198458817 success !!!\n"
     ]
    },
    {
     "name": "stderr",
     "output_type": "stream",
     "text": [
      "  3%|▎         | 15/430 [00:04<02:03,  3.37it/s]"
     ]
    },
    {
     "name": "stdout",
     "output_type": "stream",
     "text": [
      "Crawl data 273624233 success !!!\n"
     ]
    },
    {
     "name": "stderr",
     "output_type": "stream",
     "text": [
      "  4%|▍         | 17/430 [00:04<01:38,  4.19it/s]"
     ]
    },
    {
     "name": "stdout",
     "output_type": "stream",
     "text": [
      "Crawl data 276121882 success !!!\n",
      "Crawl data 275892617 success !!!\n"
     ]
    },
    {
     "name": "stderr",
     "output_type": "stream",
     "text": [
      "  4%|▍         | 18/430 [00:04<01:38,  4.18it/s]"
     ]
    },
    {
     "name": "stdout",
     "output_type": "stream",
     "text": [
      "Crawl data 275598585 success !!!\n"
     ]
    },
    {
     "name": "stderr",
     "output_type": "stream",
     "text": [
      "  4%|▍         | 19/430 [00:05<01:36,  4.28it/s]"
     ]
    },
    {
     "name": "stdout",
     "output_type": "stream",
     "text": [
      "Crawl data 275570245 success !!!\n"
     ]
    },
    {
     "name": "stderr",
     "output_type": "stream",
     "text": [
      "  5%|▍         | 21/430 [00:05<01:25,  4.77it/s]"
     ]
    },
    {
     "name": "stdout",
     "output_type": "stream",
     "text": [
      "Crawl data 275570184 success !!!\n",
      "Crawl data 270494167 success !!!\n"
     ]
    },
    {
     "name": "stderr",
     "output_type": "stream",
     "text": [
      "  5%|▌         | 23/430 [00:06<01:53,  3.58it/s]"
     ]
    },
    {
     "name": "stdout",
     "output_type": "stream",
     "text": [
      "Crawl data 180378151 success !!!\n",
      "Crawl data 195111061 success !!!\n"
     ]
    },
    {
     "name": "stderr",
     "output_type": "stream",
     "text": [
      "  6%|▌         | 25/430 [00:06<01:41,  4.00it/s]"
     ]
    },
    {
     "name": "stdout",
     "output_type": "stream",
     "text": [
      "Crawl data 99868980 success !!!\n",
      "Crawl data 71999227 success !!!\n"
     ]
    },
    {
     "name": "stderr",
     "output_type": "stream",
     "text": [
      "  6%|▌         | 26/430 [00:06<01:27,  4.63it/s]"
     ]
    },
    {
     "name": "stdout",
     "output_type": "stream",
     "text": [
      "Crawl data 275570183 success !!!\n"
     ]
    },
    {
     "name": "stderr",
     "output_type": "stream",
     "text": [
      "  6%|▋         | 27/430 [00:07<01:37,  4.15it/s]"
     ]
    },
    {
     "name": "stdout",
     "output_type": "stream",
     "text": [
      "Crawl data 275511640 success !!!\n"
     ]
    },
    {
     "name": "stderr",
     "output_type": "stream",
     "text": [
      "  7%|▋         | 28/430 [00:07<01:38,  4.09it/s]"
     ]
    },
    {
     "name": "stdout",
     "output_type": "stream",
     "text": [
      "Crawl data 275381161 success !!!\n"
     ]
    },
    {
     "name": "stderr",
     "output_type": "stream",
     "text": [
      "  7%|▋         | 29/430 [00:07<01:37,  4.09it/s]"
     ]
    },
    {
     "name": "stdout",
     "output_type": "stream",
     "text": [
      "Crawl data 274957619 success !!!\n"
     ]
    },
    {
     "name": "stderr",
     "output_type": "stream",
     "text": [
      "  7%|▋         | 31/430 [00:08<01:31,  4.37it/s]"
     ]
    },
    {
     "name": "stdout",
     "output_type": "stream",
     "text": [
      "Crawl data 274461464 success !!!\n",
      "Crawl data 274067035 success !!!\n"
     ]
    },
    {
     "name": "stderr",
     "output_type": "stream",
     "text": [
      "  7%|▋         | 32/430 [00:08<01:18,  5.04it/s]"
     ]
    },
    {
     "name": "stdout",
     "output_type": "stream",
     "text": [
      "Crawl data 274067031 success !!!\n"
     ]
    },
    {
     "name": "stderr",
     "output_type": "stream",
     "text": [
      "  8%|▊         | 33/430 [00:08<01:24,  4.70it/s]"
     ]
    },
    {
     "name": "stdout",
     "output_type": "stream",
     "text": [
      "Crawl data 273901995 success !!!\n"
     ]
    },
    {
     "name": "stderr",
     "output_type": "stream",
     "text": [
      "  8%|▊         | 34/430 [00:08<01:35,  4.13it/s]"
     ]
    },
    {
     "name": "stdout",
     "output_type": "stream",
     "text": [
      "Crawl data 272553066 success !!!\n"
     ]
    },
    {
     "name": "stderr",
     "output_type": "stream",
     "text": [
      "  8%|▊         | 35/430 [00:09<01:38,  4.02it/s]"
     ]
    },
    {
     "name": "stdout",
     "output_type": "stream",
     "text": [
      "Crawl data 205290287 success !!!\n"
     ]
    },
    {
     "name": "stderr",
     "output_type": "stream",
     "text": [
      "  9%|▊         | 37/430 [00:09<01:25,  4.62it/s]"
     ]
    },
    {
     "name": "stdout",
     "output_type": "stream",
     "text": [
      "Crawl data 201040328 success !!!\n",
      "Crawl data 200521340 success !!!\n"
     ]
    },
    {
     "name": "stderr",
     "output_type": "stream",
     "text": [
      "  9%|▉         | 38/430 [00:09<01:26,  4.51it/s]"
     ]
    },
    {
     "name": "stdout",
     "output_type": "stream",
     "text": [
      "Crawl data 191506484 success !!!\n"
     ]
    },
    {
     "name": "stderr",
     "output_type": "stream",
     "text": [
      "  9%|▉         | 39/430 [00:10<01:32,  4.23it/s]"
     ]
    },
    {
     "name": "stdout",
     "output_type": "stream",
     "text": [
      "Crawl data 191326389 success !!!\n"
     ]
    },
    {
     "name": "stderr",
     "output_type": "stream",
     "text": [
      " 10%|▉         | 41/430 [00:10<01:29,  4.36it/s]"
     ]
    },
    {
     "name": "stdout",
     "output_type": "stream",
     "text": [
      "Crawl data 186557908 success !!!\n",
      "Crawl data 176310043 success !!!\n"
     ]
    },
    {
     "name": "stderr",
     "output_type": "stream",
     "text": [
      " 10%|▉         | 42/430 [00:10<01:15,  5.16it/s]"
     ]
    },
    {
     "name": "stdout",
     "output_type": "stream",
     "text": [
      "Crawl data 176309243 success !!!\n"
     ]
    },
    {
     "name": "stderr",
     "output_type": "stream",
     "text": [
      " 10%|█         | 43/430 [00:10<01:21,  4.73it/s]"
     ]
    },
    {
     "name": "stdout",
     "output_type": "stream",
     "text": [
      "Crawl data 170957130 success !!!\n"
     ]
    },
    {
     "name": "stderr",
     "output_type": "stream",
     "text": [
      " 10%|█         | 44/430 [00:11<01:42,  3.76it/s]"
     ]
    },
    {
     "name": "stdout",
     "output_type": "stream",
     "text": [
      "Crawl data 99868980 success !!!\n"
     ]
    },
    {
     "name": "stderr",
     "output_type": "stream",
     "text": [
      " 10%|█         | 45/430 [00:11<01:53,  3.39it/s]"
     ]
    },
    {
     "name": "stdout",
     "output_type": "stream",
     "text": [
      "Crawl data 83412126 success !!!\n"
     ]
    },
    {
     "name": "stderr",
     "output_type": "stream",
     "text": [
      " 11%|█         | 47/430 [00:12<01:35,  4.00it/s]"
     ]
    },
    {
     "name": "stdout",
     "output_type": "stream",
     "text": [
      "Crawl data 73124602 success !!!\n",
      "Crawl data 71890908 success !!!\n"
     ]
    },
    {
     "name": "stderr",
     "output_type": "stream",
     "text": [
      " 11%|█▏        | 49/430 [00:12<01:13,  5.16it/s]"
     ]
    },
    {
     "name": "stdout",
     "output_type": "stream",
     "text": [
      "Crawl data 58357614 success !!!\n",
      "Crawl data 57867023 success !!!\n"
     ]
    },
    {
     "name": "stderr",
     "output_type": "stream",
     "text": [
      " 12%|█▏        | 50/430 [00:12<01:47,  3.54it/s]"
     ]
    },
    {
     "name": "stdout",
     "output_type": "stream",
     "text": [
      "Crawl data 54133235 success !!!\n"
     ]
    },
    {
     "name": "stderr",
     "output_type": "stream",
     "text": [
      " 12%|█▏        | 51/430 [00:13<01:50,  3.43it/s]"
     ]
    },
    {
     "name": "stdout",
     "output_type": "stream",
     "text": [
      "Crawl data 53583472 success !!!\n"
     ]
    },
    {
     "name": "stderr",
     "output_type": "stream",
     "text": [
      " 12%|█▏        | 53/430 [00:13<01:39,  3.80it/s]"
     ]
    },
    {
     "name": "stdout",
     "output_type": "stream",
     "text": [
      "Crawl data 20036138 success !!!\n",
      "Crawl data 17423771 success !!!\n"
     ]
    },
    {
     "name": "stderr",
     "output_type": "stream",
     "text": [
      " 13%|█▎        | 54/430 [00:13<01:25,  4.41it/s]"
     ]
    },
    {
     "name": "stdout",
     "output_type": "stream",
     "text": [
      "Crawl data 13445381 success !!!\n"
     ]
    },
    {
     "name": "stderr",
     "output_type": "stream",
     "text": [
      " 13%|█▎        | 56/430 [00:14<01:16,  4.88it/s]"
     ]
    },
    {
     "name": "stdout",
     "output_type": "stream",
     "text": [
      "Crawl data 6652303 success !!!\n",
      "Crawl data 176309243 success !!!\n"
     ]
    },
    {
     "name": "stderr",
     "output_type": "stream",
     "text": [
      " 13%|█▎        | 58/430 [00:14<01:02,  5.99it/s]"
     ]
    },
    {
     "name": "stdout",
     "output_type": "stream",
     "text": [
      "Crawl data 195111057 success !!!\n",
      "Crawl data 202805930 success !!!\n"
     ]
    },
    {
     "name": "stderr",
     "output_type": "stream",
     "text": [
      " 14%|█▎        | 59/430 [00:14<01:11,  5.23it/s]"
     ]
    },
    {
     "name": "stdout",
     "output_type": "stream",
     "text": [
      "Crawl data 180378151 success !!!\n"
     ]
    },
    {
     "name": "stderr",
     "output_type": "stream",
     "text": [
      " 14%|█▍        | 61/430 [00:15<01:05,  5.67it/s]"
     ]
    },
    {
     "name": "stdout",
     "output_type": "stream",
     "text": [
      "Crawl data 275627325 success !!!\n",
      "Crawl data 277815074 success !!!\n"
     ]
    },
    {
     "name": "stderr",
     "output_type": "stream",
     "text": [
      " 15%|█▍        | 63/430 [00:15<01:04,  5.69it/s]"
     ]
    },
    {
     "name": "stdout",
     "output_type": "stream",
     "text": [
      "Crawl data 277740569 success !!!\n",
      "Crawl data 277313146 success !!!\n"
     ]
    },
    {
     "name": "stderr",
     "output_type": "stream",
     "text": [
      " 15%|█▍        | 64/430 [00:16<01:54,  3.20it/s]"
     ]
    },
    {
     "name": "stdout",
     "output_type": "stream",
     "text": [
      "Crawl data 276615035 success !!!\n"
     ]
    },
    {
     "name": "stderr",
     "output_type": "stream",
     "text": [
      " 15%|█▌        | 66/430 [00:16<01:29,  4.07it/s]"
     ]
    },
    {
     "name": "stdout",
     "output_type": "stream",
     "text": [
      "Crawl data 276500315 success !!!\n",
      "Crawl data 207478015 success !!!\n"
     ]
    },
    {
     "name": "stderr",
     "output_type": "stream",
     "text": [
      " 16%|█▌        | 67/430 [00:16<01:47,  3.37it/s]"
     ]
    },
    {
     "name": "stdout",
     "output_type": "stream",
     "text": [
      "Crawl data 275627576 success !!!\n"
     ]
    },
    {
     "name": "stderr",
     "output_type": "stream",
     "text": [
      " 16%|█▌        | 68/430 [00:17<01:41,  3.57it/s]"
     ]
    },
    {
     "name": "stdout",
     "output_type": "stream",
     "text": [
      "Crawl data 275627108 success !!!\n"
     ]
    },
    {
     "name": "stderr",
     "output_type": "stream",
     "text": [
      " 16%|█▌        | 69/430 [00:17<01:35,  3.78it/s]"
     ]
    },
    {
     "name": "stdout",
     "output_type": "stream",
     "text": [
      "Crawl data 275627558 success !!!\n"
     ]
    },
    {
     "name": "stderr",
     "output_type": "stream",
     "text": [
      " 17%|█▋        | 71/430 [00:17<01:27,  4.12it/s]"
     ]
    },
    {
     "name": "stdout",
     "output_type": "stream",
     "text": [
      "Crawl data 276120162 success !!!\n",
      "Crawl data 276440317 success !!!\n"
     ]
    },
    {
     "name": "stderr",
     "output_type": "stream",
     "text": [
      " 17%|█▋        | 72/430 [00:18<01:29,  4.00it/s]"
     ]
    },
    {
     "name": "stdout",
     "output_type": "stream",
     "text": [
      "Crawl data 276415594 success !!!\n"
     ]
    },
    {
     "name": "stderr",
     "output_type": "stream",
     "text": [
      " 17%|█▋        | 73/430 [00:18<01:54,  3.11it/s]"
     ]
    },
    {
     "name": "stdout",
     "output_type": "stream",
     "text": [
      "Crawl data 276016000 success !!!\n"
     ]
    },
    {
     "name": "stderr",
     "output_type": "stream",
     "text": [
      " 17%|█▋        | 74/430 [00:18<01:50,  3.22it/s]"
     ]
    },
    {
     "name": "stdout",
     "output_type": "stream",
     "text": [
      "Crawl data 275367488 success !!!\n"
     ]
    },
    {
     "name": "stderr",
     "output_type": "stream",
     "text": [
      " 17%|█▋        | 75/430 [00:19<01:50,  3.21it/s]"
     ]
    },
    {
     "name": "stdout",
     "output_type": "stream",
     "text": [
      "Crawl data 275287501 success !!!\n"
     ]
    },
    {
     "name": "stderr",
     "output_type": "stream",
     "text": [
      " 18%|█▊        | 76/430 [00:19<01:52,  3.15it/s]"
     ]
    },
    {
     "name": "stdout",
     "output_type": "stream",
     "text": [
      "Crawl data 250931469 success !!!\n"
     ]
    },
    {
     "name": "stderr",
     "output_type": "stream",
     "text": [
      " 18%|█▊        | 77/430 [00:19<02:11,  2.69it/s]"
     ]
    },
    {
     "name": "stdout",
     "output_type": "stream",
     "text": [
      "Crawl data 195109412 success !!!\n"
     ]
    },
    {
     "name": "stderr",
     "output_type": "stream",
     "text": [
      " 18%|█▊        | 78/430 [00:20<02:04,  2.82it/s]"
     ]
    },
    {
     "name": "stdout",
     "output_type": "stream",
     "text": [
      "Crawl data 276478995 success !!!\n"
     ]
    },
    {
     "name": "stderr",
     "output_type": "stream",
     "text": [
      " 19%|█▊        | 80/430 [00:20<01:35,  3.68it/s]"
     ]
    },
    {
     "name": "stdout",
     "output_type": "stream",
     "text": [
      "Crawl data 275058873 success !!!\n",
      "Crawl data 5146283 success !!!\n"
     ]
    },
    {
     "name": "stderr",
     "output_type": "stream",
     "text": [
      " 19%|█▉        | 82/430 [00:21<01:18,  4.44it/s]"
     ]
    },
    {
     "name": "stdout",
     "output_type": "stream",
     "text": [
      "Crawl data 275242547 success !!!\n",
      "Crawl data 275224128 success !!!\n"
     ]
    },
    {
     "name": "stderr",
     "output_type": "stream",
     "text": [
      " 19%|█▉        | 83/430 [00:21<01:21,  4.24it/s]"
     ]
    },
    {
     "name": "stdout",
     "output_type": "stream",
     "text": [
      "Crawl data 274672757 success !!!\n"
     ]
    },
    {
     "name": "stderr",
     "output_type": "stream",
     "text": [
      " 20%|█▉        | 84/430 [00:21<01:23,  4.12it/s]"
     ]
    },
    {
     "name": "stdout",
     "output_type": "stream",
     "text": [
      "Crawl data 274462107 success !!!\n"
     ]
    },
    {
     "name": "stderr",
     "output_type": "stream",
     "text": [
      " 20%|█▉        | 85/430 [00:21<01:27,  3.96it/s]"
     ]
    },
    {
     "name": "stdout",
     "output_type": "stream",
     "text": [
      "Crawl data 274414442 success !!!\n"
     ]
    },
    {
     "name": "stderr",
     "output_type": "stream",
     "text": [
      " 20%|██        | 86/430 [00:22<01:25,  4.01it/s]"
     ]
    },
    {
     "name": "stdout",
     "output_type": "stream",
     "text": [
      "Crawl data 272484839 success !!!\n"
     ]
    },
    {
     "name": "stderr",
     "output_type": "stream",
     "text": [
      " 20%|██        | 87/430 [00:22<01:37,  3.52it/s]"
     ]
    },
    {
     "name": "stdout",
     "output_type": "stream",
     "text": [
      "Crawl data 271123700 success !!!\n"
     ]
    },
    {
     "name": "stderr",
     "output_type": "stream",
     "text": [
      " 21%|██        | 89/430 [00:22<01:20,  4.25it/s]"
     ]
    },
    {
     "name": "stdout",
     "output_type": "stream",
     "text": [
      "Crawl data 270462666 success !!!\n",
      "Crawl data 263239679 success !!!\n"
     ]
    },
    {
     "name": "stderr",
     "output_type": "stream",
     "text": [
      " 21%|██        | 91/430 [00:23<01:13,  4.64it/s]"
     ]
    },
    {
     "name": "stdout",
     "output_type": "stream",
     "text": [
      "Crawl data 213860137 success !!!\n",
      "Crawl data 202805930 success !!!\n"
     ]
    },
    {
     "name": "stderr",
     "output_type": "stream",
     "text": [
      " 21%|██▏       | 92/430 [00:23<01:18,  4.31it/s]"
     ]
    },
    {
     "name": "stdout",
     "output_type": "stream",
     "text": [
      "Crawl data 199638326 success !!!\n"
     ]
    },
    {
     "name": "stderr",
     "output_type": "stream",
     "text": [
      " 22%|██▏       | 93/430 [00:23<01:32,  3.64it/s]"
     ]
    },
    {
     "name": "stdout",
     "output_type": "stream",
     "text": [
      "Crawl data 197571724 success !!!\n"
     ]
    },
    {
     "name": "stderr",
     "output_type": "stream",
     "text": [
      " 22%|██▏       | 95/430 [00:24<01:23,  4.02it/s]"
     ]
    },
    {
     "name": "stdout",
     "output_type": "stream",
     "text": [
      "Crawl data 197157654 success !!!\n",
      "Crawl data 195111057 success !!!\n"
     ]
    },
    {
     "name": "stderr",
     "output_type": "stream",
     "text": [
      " 22%|██▏       | 96/430 [00:24<01:32,  3.60it/s]"
     ]
    },
    {
     "name": "stdout",
     "output_type": "stream",
     "text": [
      "Crawl data 191891580 success !!!\n"
     ]
    },
    {
     "name": "stderr",
     "output_type": "stream",
     "text": [
      " 23%|██▎       | 97/430 [00:25<01:31,  3.64it/s]"
     ]
    },
    {
     "name": "stdout",
     "output_type": "stream",
     "text": [
      "Crawl data 165250908 success !!!\n"
     ]
    },
    {
     "name": "stderr",
     "output_type": "stream",
     "text": [
      " 23%|██▎       | 98/430 [00:25<01:27,  3.80it/s]"
     ]
    },
    {
     "name": "stdout",
     "output_type": "stream",
     "text": [
      "Crawl data 146432055 success !!!\n"
     ]
    },
    {
     "name": "stderr",
     "output_type": "stream",
     "text": [
      " 23%|██▎       | 99/430 [00:25<01:33,  3.55it/s]"
     ]
    },
    {
     "name": "stdout",
     "output_type": "stream",
     "text": [
      "Crawl data 137226640 success !!!\n"
     ]
    },
    {
     "name": "stderr",
     "output_type": "stream",
     "text": [
      " 23%|██▎       | 101/430 [00:25<01:15,  4.34it/s]"
     ]
    },
    {
     "name": "stdout",
     "output_type": "stream",
     "text": [
      "Crawl data 136313789 success !!!\n",
      "Crawl data 124690968 success !!!\n"
     ]
    },
    {
     "name": "stderr",
     "output_type": "stream",
     "text": [
      " 24%|██▍       | 103/430 [00:26<01:05,  5.02it/s]"
     ]
    },
    {
     "name": "stdout",
     "output_type": "stream",
     "text": [
      "Crawl data 83397955 success !!!\n",
      "Crawl data 73314528 success !!!\n"
     ]
    },
    {
     "name": "stderr",
     "output_type": "stream",
     "text": [
      " 24%|██▍       | 104/430 [00:26<01:10,  4.59it/s]"
     ]
    },
    {
     "name": "stdout",
     "output_type": "stream",
     "text": [
      "Crawl data 68187835 success !!!\n"
     ]
    },
    {
     "name": "stderr",
     "output_type": "stream",
     "text": [
      " 25%|██▍       | 106/430 [00:27<01:24,  3.85it/s]"
     ]
    },
    {
     "name": "stdout",
     "output_type": "stream",
     "text": [
      "Crawl data 54150594 success !!!\n",
      "Crawl data 53789448 success !!!\n"
     ]
    },
    {
     "name": "stderr",
     "output_type": "stream",
     "text": [
      " 25%|██▍       | 107/430 [00:27<01:25,  3.78it/s]"
     ]
    },
    {
     "name": "stdout",
     "output_type": "stream",
     "text": [
      "Crawl data 46327991 success !!!\n"
     ]
    },
    {
     "name": "stderr",
     "output_type": "stream",
     "text": [
      " 25%|██▌       | 109/430 [00:27<01:09,  4.59it/s]"
     ]
    },
    {
     "name": "stdout",
     "output_type": "stream",
     "text": [
      "Crawl data 45300792 success !!!\n",
      "Crawl data 14448546 success !!!\n"
     ]
    },
    {
     "name": "stderr",
     "output_type": "stream",
     "text": [
      " 26%|██▌       | 111/430 [00:28<00:56,  5.63it/s]"
     ]
    },
    {
     "name": "stdout",
     "output_type": "stream",
     "text": [
      "Crawl data 781987 success !!!\n",
      "Crawl data 277541716 success !!!\n"
     ]
    },
    {
     "name": "stderr",
     "output_type": "stream",
     "text": [
      " 26%|██▌       | 112/430 [00:28<01:36,  3.28it/s]"
     ]
    },
    {
     "name": "stdout",
     "output_type": "stream",
     "text": [
      "Crawl data 277470438 success !!!\n"
     ]
    },
    {
     "name": "stderr",
     "output_type": "stream",
     "text": [
      " 26%|██▋       | 113/430 [00:28<01:28,  3.58it/s]"
     ]
    },
    {
     "name": "stdout",
     "output_type": "stream",
     "text": [
      "Crawl data 276962508 success !!!\n"
     ]
    },
    {
     "name": "stderr",
     "output_type": "stream",
     "text": [
      " 27%|██▋       | 114/430 [00:29<01:31,  3.46it/s]"
     ]
    },
    {
     "name": "stdout",
     "output_type": "stream",
     "text": [
      "Crawl data 276933642 success !!!\n"
     ]
    },
    {
     "name": "stderr",
     "output_type": "stream",
     "text": [
      " 27%|██▋       | 115/430 [00:29<01:29,  3.53it/s]"
     ]
    },
    {
     "name": "stdout",
     "output_type": "stream",
     "text": [
      "Crawl data 276504239 success !!!\n"
     ]
    },
    {
     "name": "stderr",
     "output_type": "stream",
     "text": [
      " 27%|██▋       | 117/430 [00:30<01:22,  3.81it/s]"
     ]
    },
    {
     "name": "stdout",
     "output_type": "stream",
     "text": [
      "Crawl data 276303964 success !!!\n",
      "Crawl data 276296088 success !!!\n"
     ]
    },
    {
     "name": "stderr",
     "output_type": "stream",
     "text": [
      " 27%|██▋       | 118/430 [00:30<01:10,  4.45it/s]"
     ]
    },
    {
     "name": "stdout",
     "output_type": "stream",
     "text": [
      "Crawl data 276139377 success !!!\n"
     ]
    },
    {
     "name": "stderr",
     "output_type": "stream",
     "text": [
      " 28%|██▊       | 119/430 [00:30<01:49,  2.83it/s]"
     ]
    },
    {
     "name": "stdout",
     "output_type": "stream",
     "text": [
      "Crawl data 276015796 success !!!\n"
     ]
    },
    {
     "name": "stderr",
     "output_type": "stream",
     "text": [
      " 28%|██▊       | 121/430 [00:31<01:28,  3.48it/s]"
     ]
    },
    {
     "name": "stdout",
     "output_type": "stream",
     "text": [
      "Crawl data 275929238 success !!!\n",
      "Crawl data 275529116 success !!!\n"
     ]
    },
    {
     "name": "stderr",
     "output_type": "stream",
     "text": [
      " 28%|██▊       | 122/430 [00:31<01:35,  3.21it/s]"
     ]
    },
    {
     "name": "stdout",
     "output_type": "stream",
     "text": [
      "Crawl data 275278125 success !!!\n"
     ]
    },
    {
     "name": "stderr",
     "output_type": "stream",
     "text": [
      " 29%|██▊       | 123/430 [00:32<01:31,  3.37it/s]"
     ]
    },
    {
     "name": "stdout",
     "output_type": "stream",
     "text": [
      "Crawl data 275261014 success !!!\n"
     ]
    },
    {
     "name": "stderr",
     "output_type": "stream",
     "text": [
      " 29%|██▉       | 124/430 [00:32<01:29,  3.43it/s]"
     ]
    },
    {
     "name": "stdout",
     "output_type": "stream",
     "text": [
      "Crawl data 275189108 success !!!\n"
     ]
    },
    {
     "name": "stderr",
     "output_type": "stream",
     "text": [
      " 29%|██▉       | 126/430 [00:32<01:25,  3.55it/s]"
     ]
    },
    {
     "name": "stdout",
     "output_type": "stream",
     "text": [
      "Crawl data 275129280 success !!!\n",
      "Crawl data 274670978 success !!!\n"
     ]
    },
    {
     "name": "stderr",
     "output_type": "stream",
     "text": [
      " 30%|██▉       | 128/430 [00:33<01:03,  4.77it/s]"
     ]
    },
    {
     "name": "stdout",
     "output_type": "stream",
     "text": [
      "Crawl data 274508745 success !!!\n",
      "Crawl data 273960517 success !!!\n"
     ]
    },
    {
     "name": "stderr",
     "output_type": "stream",
     "text": [
      " 30%|███       | 129/430 [00:33<00:56,  5.31it/s]"
     ]
    },
    {
     "name": "stdout",
     "output_type": "stream",
     "text": [
      "Crawl data 273582915 success !!!\n"
     ]
    },
    {
     "name": "stderr",
     "output_type": "stream",
     "text": [
      " 30%|███       | 131/430 [00:33<01:05,  4.58it/s]"
     ]
    },
    {
     "name": "stdout",
     "output_type": "stream",
     "text": [
      "Crawl data 269846183 success !!!\n",
      "Crawl data 263630334 success !!!\n"
     ]
    },
    {
     "name": "stderr",
     "output_type": "stream",
     "text": [
      " 31%|███       | 132/430 [00:34<01:27,  3.42it/s]"
     ]
    },
    {
     "name": "stdout",
     "output_type": "stream",
     "text": [
      "Crawl data 263239686 success !!!\n"
     ]
    },
    {
     "name": "stderr",
     "output_type": "stream",
     "text": [
      " 31%|███       | 134/430 [00:35<01:39,  2.97it/s]"
     ]
    },
    {
     "name": "stdout",
     "output_type": "stream",
     "text": [
      "Crawl data 250468663 success !!!\n",
      "Crawl data 249694552 success !!!\n"
     ]
    },
    {
     "name": "stderr",
     "output_type": "stream",
     "text": [
      " 31%|███▏      | 135/430 [00:35<01:20,  3.68it/s]"
     ]
    },
    {
     "name": "stdout",
     "output_type": "stream",
     "text": [
      "Crawl data 249646094 success !!!\n"
     ]
    },
    {
     "name": "stderr",
     "output_type": "stream",
     "text": [
      " 32%|███▏      | 137/430 [00:35<01:14,  3.93it/s]"
     ]
    },
    {
     "name": "stdout",
     "output_type": "stream",
     "text": [
      "Crawl data 249251804 success !!!\n",
      "Crawl data 225191298 success !!!\n"
     ]
    },
    {
     "name": "stderr",
     "output_type": "stream",
     "text": [
      " 32%|███▏      | 138/430 [00:35<01:05,  4.49it/s]"
     ]
    },
    {
     "name": "stdout",
     "output_type": "stream",
     "text": [
      "Crawl data 221512663 success !!!\n"
     ]
    },
    {
     "name": "stderr",
     "output_type": "stream",
     "text": [
      " 32%|███▏      | 139/430 [00:36<01:13,  3.96it/s]"
     ]
    },
    {
     "name": "stdout",
     "output_type": "stream",
     "text": [
      "Crawl data 200634131 success !!!\n"
     ]
    },
    {
     "name": "stderr",
     "output_type": "stream",
     "text": [
      " 33%|███▎      | 141/430 [00:36<01:08,  4.25it/s]"
     ]
    },
    {
     "name": "stdout",
     "output_type": "stream",
     "text": [
      "Crawl data 197387569 success !!!\n",
      "Crawl data 194816102 success !!!\n"
     ]
    },
    {
     "name": "stderr",
     "output_type": "stream",
     "text": [
      " 33%|███▎      | 142/430 [00:37<01:14,  3.86it/s]"
     ]
    },
    {
     "name": "stdout",
     "output_type": "stream",
     "text": [
      "Crawl data 185397220 success !!!\n"
     ]
    },
    {
     "name": "stderr",
     "output_type": "stream",
     "text": [
      " 33%|███▎      | 143/430 [00:37<01:12,  3.97it/s]"
     ]
    },
    {
     "name": "stdout",
     "output_type": "stream",
     "text": [
      "Crawl data 181361773 success !!!\n"
     ]
    },
    {
     "name": "stderr",
     "output_type": "stream",
     "text": [
      " 33%|███▎      | 144/430 [00:37<01:18,  3.62it/s]"
     ]
    },
    {
     "name": "stdout",
     "output_type": "stream",
     "text": [
      "Crawl data 176309410 success !!!\n"
     ]
    },
    {
     "name": "stderr",
     "output_type": "stream",
     "text": [
      " 34%|███▍      | 146/430 [00:38<01:14,  3.82it/s]"
     ]
    },
    {
     "name": "stdout",
     "output_type": "stream",
     "text": [
      "Crawl data 135220125 success !!!\n",
      "Crawl data 130829751 success !!!\n"
     ]
    },
    {
     "name": "stderr",
     "output_type": "stream",
     "text": [
      " 34%|███▍      | 148/430 [00:38<00:54,  5.13it/s]"
     ]
    },
    {
     "name": "stdout",
     "output_type": "stream",
     "text": [
      "Crawl data 54682452 success !!!\n",
      "Crawl data 52515896 success !!!\n"
     ]
    },
    {
     "name": "stderr",
     "output_type": "stream",
     "text": [
      " 35%|███▍      | 149/430 [00:38<01:09,  4.07it/s]"
     ]
    },
    {
     "name": "stdout",
     "output_type": "stream",
     "text": [
      "Crawl data 52416730 success !!!\n"
     ]
    },
    {
     "name": "stderr",
     "output_type": "stream",
     "text": [
      " 35%|███▌      | 151/430 [00:39<01:00,  4.59it/s]"
     ]
    },
    {
     "name": "stdout",
     "output_type": "stream",
     "text": [
      "Crawl data 2562977 success !!!\n",
      "Crawl data 278022238 success !!!\n"
     ]
    },
    {
     "name": "stderr",
     "output_type": "stream",
     "text": [
      " 35%|███▌      | 152/430 [00:39<00:54,  5.07it/s]"
     ]
    },
    {
     "name": "stdout",
     "output_type": "stream",
     "text": [
      "Crawl data 277525338 success !!!\n"
     ]
    },
    {
     "name": "stderr",
     "output_type": "stream",
     "text": [
      " 36%|███▌      | 154/430 [00:39<00:59,  4.68it/s]"
     ]
    },
    {
     "name": "stdout",
     "output_type": "stream",
     "text": [
      "Crawl data 277523516 success !!!\n",
      "Crawl data 277523420 success !!!\n"
     ]
    },
    {
     "name": "stderr",
     "output_type": "stream",
     "text": [
      " 36%|███▌      | 155/430 [00:39<00:52,  5.27it/s]"
     ]
    },
    {
     "name": "stdout",
     "output_type": "stream",
     "text": [
      "Crawl data 277438760 success !!!\n"
     ]
    },
    {
     "name": "stderr",
     "output_type": "stream",
     "text": [
      " 36%|███▋      | 156/430 [00:40<00:56,  4.84it/s]"
     ]
    },
    {
     "name": "stdout",
     "output_type": "stream",
     "text": [
      "Crawl data 276850057 success !!!\n"
     ]
    },
    {
     "name": "stderr",
     "output_type": "stream",
     "text": [
      " 37%|███▋      | 157/430 [00:40<01:00,  4.53it/s]"
     ]
    },
    {
     "name": "stdout",
     "output_type": "stream",
     "text": [
      "Crawl data 276747010 success !!!\n"
     ]
    },
    {
     "name": "stderr",
     "output_type": "stream",
     "text": [
      " 37%|███▋      | 159/430 [00:40<01:02,  4.32it/s]"
     ]
    },
    {
     "name": "stdout",
     "output_type": "stream",
     "text": [
      "Crawl data 276619353 success !!!\n",
      "Crawl data 275695264 success !!!\n"
     ]
    },
    {
     "name": "stderr",
     "output_type": "stream",
     "text": [
      " 37%|███▋      | 160/430 [00:41<01:00,  4.45it/s]"
     ]
    },
    {
     "name": "stdout",
     "output_type": "stream",
     "text": [
      "Crawl data 275405718 success !!!\n"
     ]
    },
    {
     "name": "stderr",
     "output_type": "stream",
     "text": [
      " 37%|███▋      | 161/430 [00:41<01:00,  4.45it/s]"
     ]
    },
    {
     "name": "stdout",
     "output_type": "stream",
     "text": [
      "Crawl data 275396744 success !!!\n"
     ]
    },
    {
     "name": "stderr",
     "output_type": "stream",
     "text": [
      " 38%|███▊      | 163/430 [00:41<01:01,  4.32it/s]"
     ]
    },
    {
     "name": "stdout",
     "output_type": "stream",
     "text": [
      "Crawl data 275079966 success !!!\n",
      "Crawl data 274790393 success !!!\n"
     ]
    },
    {
     "name": "stderr",
     "output_type": "stream",
     "text": [
      " 38%|███▊      | 164/430 [00:42<00:55,  4.83it/s]"
     ]
    },
    {
     "name": "stdout",
     "output_type": "stream",
     "text": [
      "Crawl data 273979410 success !!!\n"
     ]
    },
    {
     "name": "stderr",
     "output_type": "stream",
     "text": [
      " 38%|███▊      | 165/430 [00:42<01:00,  4.41it/s]"
     ]
    },
    {
     "name": "stdout",
     "output_type": "stream",
     "text": [
      "Crawl data 273871624 success !!!\n"
     ]
    },
    {
     "name": "stderr",
     "output_type": "stream",
     "text": [
      " 39%|███▉      | 167/430 [00:42<00:55,  4.71it/s]"
     ]
    },
    {
     "name": "stdout",
     "output_type": "stream",
     "text": [
      "Crawl data 273157366 success !!!\n",
      "Crawl data 272411943 success !!!\n"
     ]
    },
    {
     "name": "stderr",
     "output_type": "stream",
     "text": [
      " 39%|███▉      | 169/430 [00:43<00:46,  5.58it/s]"
     ]
    },
    {
     "name": "stdout",
     "output_type": "stream",
     "text": [
      "Crawl data 272245795 success !!!\n",
      "Crawl data 252558394 success !!!\n"
     ]
    },
    {
     "name": "stderr",
     "output_type": "stream",
     "text": [
      " 40%|███▉      | 170/430 [00:43<00:47,  5.45it/s]"
     ]
    },
    {
     "name": "stdout",
     "output_type": "stream",
     "text": [
      "Crawl data 204662078 success !!!\n"
     ]
    },
    {
     "name": "stderr",
     "output_type": "stream",
     "text": [
      " 40%|███▉      | 171/430 [00:43<00:54,  4.72it/s]"
     ]
    },
    {
     "name": "stdout",
     "output_type": "stream",
     "text": [
      "Crawl data 201572327 success !!!\n"
     ]
    },
    {
     "name": "stderr",
     "output_type": "stream",
     "text": [
      " 40%|████      | 172/430 [00:43<01:02,  4.14it/s]"
     ]
    },
    {
     "name": "stdout",
     "output_type": "stream",
     "text": [
      "Crawl data 199167821 success !!!\n"
     ]
    },
    {
     "name": "stderr",
     "output_type": "stream",
     "text": [
      " 40%|████      | 173/430 [00:44<01:02,  4.14it/s]"
     ]
    },
    {
     "name": "stdout",
     "output_type": "stream",
     "text": [
      "Crawl data 194570463 success !!!\n"
     ]
    },
    {
     "name": "stderr",
     "output_type": "stream",
     "text": [
      " 41%|████      | 175/430 [00:44<00:55,  4.55it/s]"
     ]
    },
    {
     "name": "stdout",
     "output_type": "stream",
     "text": [
      "Crawl data 193542285 success !!!\n",
      "Crawl data 190864699 success !!!\n"
     ]
    },
    {
     "name": "stderr",
     "output_type": "stream",
     "text": [
      " 41%|████      | 176/430 [00:45<01:25,  2.96it/s]"
     ]
    },
    {
     "name": "stdout",
     "output_type": "stream",
     "text": [
      "Crawl data 190702462 success !!!\n"
     ]
    },
    {
     "name": "stderr",
     "output_type": "stream",
     "text": [
      " 41%|████▏     | 178/430 [00:45<01:08,  3.69it/s]"
     ]
    },
    {
     "name": "stdout",
     "output_type": "stream",
     "text": [
      "Crawl data 189492088 success !!!\n",
      "Crawl data 177481215 success !!!\n"
     ]
    },
    {
     "name": "stderr",
     "output_type": "stream",
     "text": [
      " 42%|████▏     | 179/430 [00:45<01:06,  3.77it/s]"
     ]
    },
    {
     "name": "stdout",
     "output_type": "stream",
     "text": [
      "Crawl data 148654134 success !!!\n"
     ]
    },
    {
     "name": "stderr",
     "output_type": "stream",
     "text": [
      " 42%|████▏     | 181/430 [00:46<00:57,  4.36it/s]"
     ]
    },
    {
     "name": "stdout",
     "output_type": "stream",
     "text": [
      "Crawl data 147078932 success !!!\n",
      "Crawl data 129260830 success !!!\n"
     ]
    },
    {
     "name": "stderr",
     "output_type": "stream",
     "text": [
      " 43%|████▎     | 183/430 [00:46<01:06,  3.73it/s]"
     ]
    },
    {
     "name": "stdout",
     "output_type": "stream",
     "text": [
      "Crawl data 118013604 success !!!\n",
      "Crawl data 117969725 success !!!\n"
     ]
    },
    {
     "name": "stderr",
     "output_type": "stream",
     "text": [
      " 43%|████▎     | 185/430 [00:47<00:59,  4.13it/s]"
     ]
    },
    {
     "name": "stdout",
     "output_type": "stream",
     "text": [
      "Crawl data 107713002 success !!!\n",
      "Crawl data 107016473 success !!!\n"
     ]
    },
    {
     "name": "stderr",
     "output_type": "stream",
     "text": [
      " 43%|████▎     | 187/430 [00:47<00:49,  4.91it/s]"
     ]
    },
    {
     "name": "stdout",
     "output_type": "stream",
     "text": [
      "Crawl data 82458269 success !!!\n",
      "Crawl data 68019350 success !!!\n"
     ]
    },
    {
     "name": "stderr",
     "output_type": "stream",
     "text": [
      " 44%|████▎     | 188/430 [00:47<00:55,  4.36it/s]"
     ]
    },
    {
     "name": "stdout",
     "output_type": "stream",
     "text": [
      "Crawl data 59412424 success !!!\n"
     ]
    },
    {
     "name": "stderr",
     "output_type": "stream",
     "text": [
      " 44%|████▍     | 190/430 [00:48<00:46,  5.11it/s]"
     ]
    },
    {
     "name": "stdout",
     "output_type": "stream",
     "text": [
      "Crawl data 38319237 success !!!\n",
      "Crawl data 5023293 success !!!\n"
     ]
    },
    {
     "name": "stderr",
     "output_type": "stream",
     "text": [
      " 45%|████▍     | 192/430 [00:48<00:45,  5.26it/s]"
     ]
    },
    {
     "name": "stdout",
     "output_type": "stream",
     "text": [
      "Crawl data 278096592 success !!!\n",
      "Crawl data 277468086 success !!!\n"
     ]
    },
    {
     "name": "stderr",
     "output_type": "stream",
     "text": [
      " 45%|████▌     | 194/430 [00:49<01:02,  3.80it/s]"
     ]
    },
    {
     "name": "stdout",
     "output_type": "stream",
     "text": [
      "Crawl data 277306388 success !!!\n",
      "Crawl data 277026696 success !!!\n"
     ]
    },
    {
     "name": "stderr",
     "output_type": "stream",
     "text": [
      " 46%|████▌     | 196/430 [00:49<00:58,  4.02it/s]"
     ]
    },
    {
     "name": "stdout",
     "output_type": "stream",
     "text": [
      "Crawl data 276473934 success !!!\n",
      "Crawl data 276296186 success !!!\n"
     ]
    },
    {
     "name": "stderr",
     "output_type": "stream",
     "text": [
      " 46%|████▌     | 198/430 [00:50<00:46,  4.95it/s]"
     ]
    },
    {
     "name": "stdout",
     "output_type": "stream",
     "text": [
      "Crawl data 276282164 success !!!\n",
      "Crawl data 276190846 success !!!\n"
     ]
    },
    {
     "name": "stderr",
     "output_type": "stream",
     "text": [
      " 46%|████▋     | 199/430 [00:50<01:16,  3.01it/s]"
     ]
    },
    {
     "name": "stdout",
     "output_type": "stream",
     "text": [
      "Crawl data 275626193 success !!!\n"
     ]
    },
    {
     "name": "stderr",
     "output_type": "stream",
     "text": [
      " 47%|████▋     | 200/430 [00:51<01:12,  3.16it/s]"
     ]
    },
    {
     "name": "stdout",
     "output_type": "stream",
     "text": [
      "Crawl data 275467729 success !!!\n"
     ]
    },
    {
     "name": "stderr",
     "output_type": "stream",
     "text": [
      " 47%|████▋     | 202/430 [00:51<00:58,  3.87it/s]"
     ]
    },
    {
     "name": "stdout",
     "output_type": "stream",
     "text": [
      "Crawl data 275379130 success !!!\n",
      "Crawl data 275324325 success !!!\n"
     ]
    },
    {
     "name": "stderr",
     "output_type": "stream",
     "text": [
      " 47%|████▋     | 204/430 [00:52<00:48,  4.64it/s]"
     ]
    },
    {
     "name": "stdout",
     "output_type": "stream",
     "text": [
      "Crawl data 274954065 success !!!\n",
      "Crawl data 274910795 success !!!\n"
     ]
    },
    {
     "name": "stderr",
     "output_type": "stream",
     "text": [
      " 48%|████▊     | 205/430 [00:52<00:43,  5.18it/s]"
     ]
    },
    {
     "name": "stdout",
     "output_type": "stream",
     "text": [
      "Crawl data 272547502 success !!!\n"
     ]
    },
    {
     "name": "stderr",
     "output_type": "stream",
     "text": [
      " 48%|████▊     | 207/430 [00:52<00:42,  5.28it/s]"
     ]
    },
    {
     "name": "stdout",
     "output_type": "stream",
     "text": [
      "Crawl data 270255984 success !!!\n",
      "Crawl data 262021963 success !!!\n"
     ]
    },
    {
     "name": "stderr",
     "output_type": "stream",
     "text": [
      " 48%|████▊     | 208/430 [00:52<00:38,  5.70it/s]"
     ]
    },
    {
     "name": "stdout",
     "output_type": "stream",
     "text": [
      "Crawl data 261822386 success !!!\n"
     ]
    },
    {
     "name": "stderr",
     "output_type": "stream",
     "text": [
      " 49%|████▉     | 210/430 [00:53<00:39,  5.61it/s]"
     ]
    },
    {
     "name": "stdout",
     "output_type": "stream",
     "text": [
      "Crawl data 253391105 success !!!\n",
      "Crawl data 207005253 success !!!\n"
     ]
    },
    {
     "name": "stderr",
     "output_type": "stream",
     "text": [
      " 49%|████▉     | 212/430 [00:53<00:33,  6.59it/s]"
     ]
    },
    {
     "name": "stdout",
     "output_type": "stream",
     "text": [
      "Crawl data 198815370 success !!!\n",
      "Crawl data 174489160 success !!!\n"
     ]
    },
    {
     "name": "stderr",
     "output_type": "stream",
     "text": [
      " 50%|████▉     | 213/430 [00:53<00:40,  5.37it/s]"
     ]
    },
    {
     "name": "stdout",
     "output_type": "stream",
     "text": [
      "Crawl data 171920545 success !!!\n"
     ]
    },
    {
     "name": "stderr",
     "output_type": "stream",
     "text": [
      " 50%|████▉     | 214/430 [00:53<00:42,  5.09it/s]"
     ]
    },
    {
     "name": "stdout",
     "output_type": "stream",
     "text": [
      "Crawl data 170443548 success !!!\n"
     ]
    },
    {
     "name": "stderr",
     "output_type": "stream",
     "text": [
      " 50%|█████     | 215/430 [00:54<00:44,  4.87it/s]"
     ]
    },
    {
     "name": "stdout",
     "output_type": "stream",
     "text": [
      "Crawl data 168772145 success !!!\n"
     ]
    },
    {
     "name": "stderr",
     "output_type": "stream",
     "text": [
      " 50%|█████     | 217/430 [00:54<00:40,  5.30it/s]"
     ]
    },
    {
     "name": "stdout",
     "output_type": "stream",
     "text": [
      "Crawl data 163827070 success !!!\n",
      "Crawl data 150876895 success !!!\n"
     ]
    },
    {
     "name": "stderr",
     "output_type": "stream",
     "text": [
      " 51%|█████     | 218/430 [00:54<00:38,  5.52it/s]"
     ]
    },
    {
     "name": "stdout",
     "output_type": "stream",
     "text": [
      "Crawl data 121087197 success !!!\n"
     ]
    },
    {
     "name": "stderr",
     "output_type": "stream",
     "text": [
      " 51%|█████     | 220/430 [00:55<00:47,  4.44it/s]"
     ]
    },
    {
     "name": "stdout",
     "output_type": "stream",
     "text": [
      "Crawl data 113331630 success !!!\n",
      "Crawl data 106712605 success !!!\n"
     ]
    },
    {
     "name": "stderr",
     "output_type": "stream",
     "text": [
      " 51%|█████▏    | 221/430 [00:55<00:40,  5.15it/s]"
     ]
    },
    {
     "name": "stdout",
     "output_type": "stream",
     "text": [
      "Crawl data 95316281 success !!!\n"
     ]
    },
    {
     "name": "stderr",
     "output_type": "stream",
     "text": [
      " 52%|█████▏    | 222/430 [00:55<00:43,  4.75it/s]"
     ]
    },
    {
     "name": "stdout",
     "output_type": "stream",
     "text": [
      "Crawl data 88090783 success !!!\n"
     ]
    },
    {
     "name": "stderr",
     "output_type": "stream",
     "text": [
      " 52%|█████▏    | 223/430 [00:55<00:48,  4.31it/s]"
     ]
    },
    {
     "name": "stdout",
     "output_type": "stream",
     "text": [
      "Crawl data 83480720 success !!!\n"
     ]
    },
    {
     "name": "stderr",
     "output_type": "stream",
     "text": [
      " 52%|█████▏    | 225/430 [00:56<00:43,  4.74it/s]"
     ]
    },
    {
     "name": "stdout",
     "output_type": "stream",
     "text": [
      "Crawl data 77742109 success !!!\n",
      "Crawl data 57381339 success !!!\n"
     ]
    },
    {
     "name": "stderr",
     "output_type": "stream",
     "text": [
      " 53%|█████▎    | 227/430 [00:56<00:53,  3.79it/s]"
     ]
    },
    {
     "name": "stdout",
     "output_type": "stream",
     "text": [
      "Crawl data 56308226 success !!!\n",
      "Crawl data 48656066 success !!!\n"
     ]
    },
    {
     "name": "stderr",
     "output_type": "stream",
     "text": [
      " 53%|█████▎    | 229/430 [00:57<00:40,  4.94it/s]"
     ]
    },
    {
     "name": "stdout",
     "output_type": "stream",
     "text": [
      "Crawl data 27819095 success !!!\n",
      "Crawl data 23465027 success !!!\n"
     ]
    },
    {
     "name": "stderr",
     "output_type": "stream",
     "text": [
      " 53%|█████▎    | 230/430 [00:57<00:48,  4.15it/s]"
     ]
    },
    {
     "name": "stdout",
     "output_type": "stream",
     "text": [
      "Crawl data 3088227 success !!!\n"
     ]
    },
    {
     "name": "stderr",
     "output_type": "stream",
     "text": [
      " 54%|█████▍    | 232/430 [00:57<00:42,  4.66it/s]"
     ]
    },
    {
     "name": "stdout",
     "output_type": "stream",
     "text": [
      "Crawl data 277860817 success !!!\n",
      "Crawl data 277860805 success !!!\n"
     ]
    },
    {
     "name": "stderr",
     "output_type": "stream",
     "text": [
      " 54%|█████▍    | 233/430 [00:58<00:52,  3.76it/s]"
     ]
    },
    {
     "name": "stdout",
     "output_type": "stream",
     "text": [
      "Crawl data 277579129 success !!!\n"
     ]
    },
    {
     "name": "stderr",
     "output_type": "stream",
     "text": [
      " 54%|█████▍    | 234/430 [00:58<00:58,  3.38it/s]"
     ]
    },
    {
     "name": "stdout",
     "output_type": "stream",
     "text": [
      "Crawl data 277378901 success !!!\n"
     ]
    },
    {
     "name": "stderr",
     "output_type": "stream",
     "text": [
      " 55%|█████▍    | 235/430 [00:58<00:55,  3.53it/s]"
     ]
    },
    {
     "name": "stdout",
     "output_type": "stream",
     "text": [
      "Crawl data 276950021 success !!!\n"
     ]
    },
    {
     "name": "stderr",
     "output_type": "stream",
     "text": [
      " 55%|█████▍    | 236/430 [00:59<00:51,  3.76it/s]"
     ]
    },
    {
     "name": "stdout",
     "output_type": "stream",
     "text": [
      "Crawl data 276801072 success !!!\n"
     ]
    },
    {
     "name": "stderr",
     "output_type": "stream",
     "text": [
      " 55%|█████▌    | 237/430 [00:59<00:50,  3.81it/s]"
     ]
    },
    {
     "name": "stdout",
     "output_type": "stream",
     "text": [
      "Crawl data 276018795 success !!!\n"
     ]
    },
    {
     "name": "stderr",
     "output_type": "stream",
     "text": [
      " 56%|█████▌    | 239/430 [00:59<00:42,  4.52it/s]"
     ]
    },
    {
     "name": "stdout",
     "output_type": "stream",
     "text": [
      "Crawl data 275493793 success !!!\n",
      "Crawl data 275263278 success !!!\n"
     ]
    },
    {
     "name": "stderr",
     "output_type": "stream",
     "text": [
      " 56%|█████▌    | 240/430 [01:00<00:45,  4.21it/s]"
     ]
    },
    {
     "name": "stdout",
     "output_type": "stream",
     "text": [
      "Crawl data 275058873 success !!!\n"
     ]
    },
    {
     "name": "stderr",
     "output_type": "stream",
     "text": [
      " 56%|█████▌    | 241/430 [01:00<00:47,  4.01it/s]"
     ]
    },
    {
     "name": "stdout",
     "output_type": "stream",
     "text": [
      "Crawl data 274721418 success !!!\n"
     ]
    },
    {
     "name": "stderr",
     "output_type": "stream",
     "text": [
      " 57%|█████▋    | 243/430 [01:00<00:42,  4.42it/s]"
     ]
    },
    {
     "name": "stdout",
     "output_type": "stream",
     "text": [
      "Crawl data 274371739 success !!!\n",
      "Crawl data 273805270 success !!!\n"
     ]
    },
    {
     "name": "stderr",
     "output_type": "stream",
     "text": [
      " 57%|█████▋    | 244/430 [01:01<00:49,  3.76it/s]"
     ]
    },
    {
     "name": "stdout",
     "output_type": "stream",
     "text": [
      "Crawl data 273661034 success !!!\n"
     ]
    },
    {
     "name": "stderr",
     "output_type": "stream",
     "text": [
      " 57%|█████▋    | 245/430 [01:01<00:49,  3.73it/s]"
     ]
    },
    {
     "name": "stdout",
     "output_type": "stream",
     "text": [
      "Crawl data 273604765 success !!!\n"
     ]
    },
    {
     "name": "stderr",
     "output_type": "stream",
     "text": [
      " 57%|█████▋    | 247/430 [01:01<00:41,  4.36it/s]"
     ]
    },
    {
     "name": "stdout",
     "output_type": "stream",
     "text": [
      "Crawl data 273244983 success !!!\n",
      "Crawl data 267261007 success !!!\n"
     ]
    },
    {
     "name": "stderr",
     "output_type": "stream",
     "text": [
      " 58%|█████▊    | 248/430 [01:02<00:44,  4.09it/s]"
     ]
    },
    {
     "name": "stdout",
     "output_type": "stream",
     "text": [
      "Crawl data 248420700 success !!!\n"
     ]
    },
    {
     "name": "stderr",
     "output_type": "stream",
     "text": [
      " 58%|█████▊    | 249/430 [01:02<00:50,  3.62it/s]"
     ]
    },
    {
     "name": "stdout",
     "output_type": "stream",
     "text": [
      "Crawl data 247730110 success !!!\n"
     ]
    },
    {
     "name": "stderr",
     "output_type": "stream",
     "text": [
      " 58%|█████▊    | 251/430 [01:02<00:40,  4.46it/s]"
     ]
    },
    {
     "name": "stdout",
     "output_type": "stream",
     "text": [
      "Crawl data 223727594 success !!!\n",
      "Crawl data 207853618 success !!!\n"
     ]
    },
    {
     "name": "stderr",
     "output_type": "stream",
     "text": [
      " 59%|█████▉    | 253/430 [01:03<00:49,  3.57it/s]"
     ]
    },
    {
     "name": "stdout",
     "output_type": "stream",
     "text": [
      "Crawl data 204985175 success !!!\n",
      "Crawl data 198617665 success !!!\n"
     ]
    },
    {
     "name": "stderr",
     "output_type": "stream",
     "text": [
      " 59%|█████▉    | 254/430 [01:03<00:41,  4.25it/s]"
     ]
    },
    {
     "name": "stdout",
     "output_type": "stream",
     "text": [
      "Crawl data 195109412 success !!!\n"
     ]
    },
    {
     "name": "stderr",
     "output_type": "stream",
     "text": [
      " 59%|█████▉    | 255/430 [01:04<00:44,  3.96it/s]"
     ]
    },
    {
     "name": "stdout",
     "output_type": "stream",
     "text": [
      "Crawl data 191775375 success !!!\n"
     ]
    },
    {
     "name": "stderr",
     "output_type": "stream",
     "text": [
      " 60%|█████▉    | 257/430 [01:04<00:36,  4.69it/s]"
     ]
    },
    {
     "name": "stdout",
     "output_type": "stream",
     "text": [
      "Crawl data 190989561 success !!!\n",
      "Crawl data 185919862 success !!!\n"
     ]
    },
    {
     "name": "stderr",
     "output_type": "stream",
     "text": [
      " 60%|██████    | 258/430 [01:05<01:00,  2.86it/s]"
     ]
    },
    {
     "name": "stdout",
     "output_type": "stream",
     "text": [
      "Crawl data 180378151 success !!!\n"
     ]
    },
    {
     "name": "stderr",
     "output_type": "stream",
     "text": [
      " 60%|██████    | 260/430 [01:05<00:47,  3.61it/s]"
     ]
    },
    {
     "name": "stdout",
     "output_type": "stream",
     "text": [
      "Crawl data 176309303 success !!!\n",
      "Crawl data 148810239 success !!!\n"
     ]
    },
    {
     "name": "stderr",
     "output_type": "stream",
     "text": [
      " 61%|██████    | 262/430 [01:06<00:50,  3.30it/s]"
     ]
    },
    {
     "name": "stdout",
     "output_type": "stream",
     "text": [
      "Crawl data 125739804 success !!!\n",
      "Crawl data 120552065 success !!!\n"
     ]
    },
    {
     "name": "stderr",
     "output_type": "stream",
     "text": [
      " 61%|██████▏   | 264/430 [01:06<00:40,  4.07it/s]"
     ]
    },
    {
     "name": "stdout",
     "output_type": "stream",
     "text": [
      "Crawl data 96175682 success !!!\n",
      "Crawl data 85029640 success !!!\n"
     ]
    },
    {
     "name": "stderr",
     "output_type": "stream",
     "text": [
      " 62%|██████▏   | 265/430 [01:06<00:35,  4.65it/s]"
     ]
    },
    {
     "name": "stdout",
     "output_type": "stream",
     "text": [
      "Crawl data 84886093 success !!!\n"
     ]
    },
    {
     "name": "stderr",
     "output_type": "stream",
     "text": [
      " 62%|██████▏   | 267/430 [01:07<00:43,  3.78it/s]"
     ]
    },
    {
     "name": "stdout",
     "output_type": "stream",
     "text": [
      "Crawl data 71342375 success !!!\n",
      "Crawl data 56383693 success !!!\n"
     ]
    },
    {
     "name": "stderr",
     "output_type": "stream",
     "text": [
      " 62%|██████▏   | 268/430 [01:07<00:44,  3.67it/s]"
     ]
    },
    {
     "name": "stdout",
     "output_type": "stream",
     "text": [
      "Crawl data 14639229 success !!!\n"
     ]
    },
    {
     "name": "stderr",
     "output_type": "stream",
     "text": [
      " 63%|██████▎   | 270/430 [01:08<00:39,  4.10it/s]"
     ]
    },
    {
     "name": "stdout",
     "output_type": "stream",
     "text": [
      "Crawl data 2119169 success !!!\n",
      "Crawl data 892121 success !!!\n"
     ]
    },
    {
     "name": "stderr",
     "output_type": "stream",
     "text": [
      " 63%|██████▎   | 271/430 [01:08<00:37,  4.27it/s]"
     ]
    },
    {
     "name": "stdout",
     "output_type": "stream",
     "text": [
      "Crawl data 277579064 success !!!\n"
     ]
    },
    {
     "name": "stderr",
     "output_type": "stream",
     "text": [
      " 63%|██████▎   | 272/430 [01:08<00:40,  3.93it/s]"
     ]
    },
    {
     "name": "stdout",
     "output_type": "stream",
     "text": [
      "Crawl data 277438575 success !!!\n"
     ]
    },
    {
     "name": "stderr",
     "output_type": "stream",
     "text": [
      " 64%|██████▎   | 274/430 [01:09<00:40,  3.89it/s]"
     ]
    },
    {
     "name": "stdout",
     "output_type": "stream",
     "text": [
      "Crawl data 276413449 success !!!\n",
      "Crawl data 275824896 success !!!\n"
     ]
    },
    {
     "name": "stderr",
     "output_type": "stream",
     "text": [
      " 64%|██████▍   | 275/430 [01:09<00:35,  4.40it/s]"
     ]
    },
    {
     "name": "stdout",
     "output_type": "stream",
     "text": [
      "Crawl data 275626702 success !!!\n"
     ]
    },
    {
     "name": "stderr",
     "output_type": "stream",
     "text": [
      " 64%|██████▍   | 276/430 [01:10<00:53,  2.85it/s]"
     ]
    },
    {
     "name": "stdout",
     "output_type": "stream",
     "text": [
      "Crawl data 275575228 success !!!\n"
     ]
    },
    {
     "name": "stderr",
     "output_type": "stream",
     "text": [
      " 64%|██████▍   | 277/430 [01:10<00:53,  2.87it/s]"
     ]
    },
    {
     "name": "stdout",
     "output_type": "stream",
     "text": [
      "Crawl data 274965041 success !!!\n"
     ]
    },
    {
     "name": "stderr",
     "output_type": "stream",
     "text": [
      " 65%|██████▍   | 278/430 [01:10<00:52,  2.92it/s]"
     ]
    },
    {
     "name": "stdout",
     "output_type": "stream",
     "text": [
      "Crawl data 274470797 success !!!\n"
     ]
    },
    {
     "name": "stderr",
     "output_type": "stream",
     "text": [
      " 65%|██████▍   | 279/430 [01:11<00:50,  3.00it/s]"
     ]
    },
    {
     "name": "stdout",
     "output_type": "stream",
     "text": [
      "Crawl data 274368618 success !!!\n"
     ]
    },
    {
     "name": "stderr",
     "output_type": "stream",
     "text": [
      " 65%|██████▌   | 280/430 [01:11<00:46,  3.20it/s]"
     ]
    },
    {
     "name": "stdout",
     "output_type": "stream",
     "text": [
      "Crawl data 273624233 success !!!\n"
     ]
    },
    {
     "name": "stderr",
     "output_type": "stream",
     "text": [
      " 65%|██████▌   | 281/430 [01:11<00:46,  3.23it/s]"
     ]
    },
    {
     "name": "stdout",
     "output_type": "stream",
     "text": [
      "Crawl data 273607042 success !!!\n"
     ]
    },
    {
     "name": "stderr",
     "output_type": "stream",
     "text": [
      " 66%|██████▌   | 283/430 [01:12<00:37,  3.89it/s]"
     ]
    },
    {
     "name": "stdout",
     "output_type": "stream",
     "text": [
      "Crawl data 262362970 success !!!\n",
      "Crawl data 246167977 success !!!\n"
     ]
    },
    {
     "name": "stderr",
     "output_type": "stream",
     "text": [
      " 66%|██████▋   | 285/430 [01:12<00:33,  4.29it/s]"
     ]
    },
    {
     "name": "stdout",
     "output_type": "stream",
     "text": [
      "Crawl data 226036798 success !!!\n",
      "Crawl data 207941719 success !!!\n"
     ]
    },
    {
     "name": "stderr",
     "output_type": "stream",
     "text": [
      " 67%|██████▋   | 286/430 [01:12<00:40,  3.59it/s]"
     ]
    },
    {
     "name": "stdout",
     "output_type": "stream",
     "text": [
      "Crawl data 199945017 success !!!\n"
     ]
    },
    {
     "name": "stderr",
     "output_type": "stream",
     "text": [
      " 67%|██████▋   | 287/430 [01:13<00:40,  3.54it/s]"
     ]
    },
    {
     "name": "stdout",
     "output_type": "stream",
     "text": [
      "Crawl data 197100086 success !!!\n"
     ]
    },
    {
     "name": "stderr",
     "output_type": "stream",
     "text": [
      " 67%|██████▋   | 289/430 [01:13<00:35,  4.01it/s]"
     ]
    },
    {
     "name": "stdout",
     "output_type": "stream",
     "text": [
      "Crawl data 195967978 success !!!\n",
      "Crawl data 195111061 success !!!\n"
     ]
    },
    {
     "name": "stderr",
     "output_type": "stream",
     "text": [
      " 67%|██████▋   | 290/430 [01:13<00:33,  4.19it/s]"
     ]
    },
    {
     "name": "stdout",
     "output_type": "stream",
     "text": [
      "Crawl data 191776160 success !!!\n"
     ]
    },
    {
     "name": "stderr",
     "output_type": "stream",
     "text": [
      " 68%|██████▊   | 291/430 [01:14<00:32,  4.24it/s]"
     ]
    },
    {
     "name": "stdout",
     "output_type": "stream",
     "text": [
      "Crawl data 186558014 success !!!\n"
     ]
    },
    {
     "name": "stderr",
     "output_type": "stream",
     "text": [
      " 68%|██████▊   | 292/430 [01:14<00:37,  3.65it/s]"
     ]
    },
    {
     "name": "stdout",
     "output_type": "stream",
     "text": [
      "Crawl data 173636676 success !!!\n"
     ]
    },
    {
     "name": "stderr",
     "output_type": "stream",
     "text": [
      " 68%|██████▊   | 294/430 [01:15<00:36,  3.74it/s]"
     ]
    },
    {
     "name": "stdout",
     "output_type": "stream",
     "text": [
      "Crawl data 169978766 success !!!\n",
      "Crawl data 162405563 success !!!\n"
     ]
    },
    {
     "name": "stderr",
     "output_type": "stream",
     "text": [
      " 69%|██████▉   | 296/430 [01:15<00:30,  4.39it/s]"
     ]
    },
    {
     "name": "stdout",
     "output_type": "stream",
     "text": [
      "Crawl data 158639945 success !!!\n",
      "Crawl data 158564745 success !!!\n"
     ]
    },
    {
     "name": "stderr",
     "output_type": "stream",
     "text": [
      " 69%|██████▉   | 297/430 [01:15<00:30,  4.31it/s]"
     ]
    },
    {
     "name": "stdout",
     "output_type": "stream",
     "text": [
      "Crawl data 139106099 success !!!\n"
     ]
    },
    {
     "name": "stderr",
     "output_type": "stream",
     "text": [
      " 69%|██████▉   | 298/430 [01:16<00:38,  3.47it/s]"
     ]
    },
    {
     "name": "stdout",
     "output_type": "stream",
     "text": [
      "Crawl data 134360863 success !!!\n"
     ]
    },
    {
     "name": "stderr",
     "output_type": "stream",
     "text": [
      " 70%|██████▉   | 299/430 [01:16<00:39,  3.30it/s]"
     ]
    },
    {
     "name": "stdout",
     "output_type": "stream",
     "text": [
      "Crawl data 120759154 success !!!\n"
     ]
    },
    {
     "name": "stderr",
     "output_type": "stream",
     "text": [
      " 70%|███████   | 301/430 [01:16<00:33,  3.84it/s]"
     ]
    },
    {
     "name": "stdout",
     "output_type": "stream",
     "text": [
      "Crawl data 119030223 success !!!\n",
      "Crawl data 101995256 success !!!\n"
     ]
    },
    {
     "name": "stderr",
     "output_type": "stream",
     "text": [
      " 70%|███████   | 303/430 [01:17<00:31,  4.05it/s]"
     ]
    },
    {
     "name": "stdout",
     "output_type": "stream",
     "text": [
      "Crawl data 97924113 success !!!\n",
      "Crawl data 58210089 success !!!\n"
     ]
    },
    {
     "name": "stderr",
     "output_type": "stream",
     "text": [
      " 71%|███████   | 304/430 [01:17<00:27,  4.64it/s]"
     ]
    },
    {
     "name": "stdout",
     "output_type": "stream",
     "text": [
      "Crawl data 51373821 success !!!\n"
     ]
    },
    {
     "name": "stderr",
     "output_type": "stream",
     "text": [
      " 71%|███████   | 305/430 [01:18<00:37,  3.29it/s]"
     ]
    },
    {
     "name": "stdout",
     "output_type": "stream",
     "text": [
      "Crawl data 51105287 success !!!\n"
     ]
    },
    {
     "name": "stderr",
     "output_type": "stream",
     "text": [
      " 71%|███████   | 306/430 [01:18<00:37,  3.28it/s]"
     ]
    },
    {
     "name": "stdout",
     "output_type": "stream",
     "text": [
      "Crawl data 51005591 success !!!\n"
     ]
    },
    {
     "name": "stderr",
     "output_type": "stream",
     "text": [
      " 72%|███████▏  | 308/430 [01:18<00:29,  4.16it/s]"
     ]
    },
    {
     "name": "stdout",
     "output_type": "stream",
     "text": [
      "Crawl data 14526627 success !!!\n",
      "Crawl data 2391311 success !!!\n"
     ]
    },
    {
     "name": "stderr",
     "output_type": "stream",
     "text": [
      " 72%|███████▏  | 310/430 [01:19<00:22,  5.42it/s]"
     ]
    },
    {
     "name": "stdout",
     "output_type": "stream",
     "text": [
      "Crawl data 892141 success !!!\n",
      "Crawl data 718889 success !!!\n"
     ]
    },
    {
     "name": "stderr",
     "output_type": "stream",
     "text": [
      " 72%|███████▏  | 311/430 [01:19<00:24,  4.87it/s]"
     ]
    },
    {
     "name": "stdout",
     "output_type": "stream",
     "text": [
      "Crawl data 277859957 success !!!\n"
     ]
    },
    {
     "name": "stderr",
     "output_type": "stream",
     "text": [
      " 73%|███████▎  | 312/430 [01:19<00:29,  4.02it/s]"
     ]
    },
    {
     "name": "stdout",
     "output_type": "stream",
     "text": [
      "Crawl data 277857379 success !!!\n"
     ]
    },
    {
     "name": "stderr",
     "output_type": "stream",
     "text": [
      " 73%|███████▎  | 313/430 [01:19<00:30,  3.78it/s]"
     ]
    },
    {
     "name": "stdout",
     "output_type": "stream",
     "text": [
      "Crawl data 277608690 success !!!\n"
     ]
    },
    {
     "name": "stderr",
     "output_type": "stream",
     "text": [
      " 73%|███████▎  | 314/430 [01:20<00:30,  3.76it/s]"
     ]
    },
    {
     "name": "stdout",
     "output_type": "stream",
     "text": [
      "Crawl data 276933701 success !!!\n"
     ]
    },
    {
     "name": "stderr",
     "output_type": "stream",
     "text": [
      " 73%|███████▎  | 315/430 [01:20<00:32,  3.53it/s]"
     ]
    },
    {
     "name": "stdout",
     "output_type": "stream",
     "text": [
      "Crawl data 276645455 success !!!\n"
     ]
    },
    {
     "name": "stderr",
     "output_type": "stream",
     "text": [
      " 74%|███████▎  | 317/430 [01:21<00:30,  3.76it/s]"
     ]
    },
    {
     "name": "stdout",
     "output_type": "stream",
     "text": [
      "Crawl data 276408760 success !!!\n",
      "Crawl data 275695590 success !!!\n"
     ]
    },
    {
     "name": "stderr",
     "output_type": "stream",
     "text": [
      " 74%|███████▍  | 319/430 [01:21<00:26,  4.17it/s]"
     ]
    },
    {
     "name": "stdout",
     "output_type": "stream",
     "text": [
      "Crawl data 275451454 success !!!\n",
      "Crawl data 275451440 success !!!\n"
     ]
    },
    {
     "name": "stderr",
     "output_type": "stream",
     "text": [
      " 74%|███████▍  | 320/430 [01:21<00:30,  3.63it/s]"
     ]
    },
    {
     "name": "stdout",
     "output_type": "stream",
     "text": [
      "Crawl data 275059651 success !!!\n"
     ]
    },
    {
     "name": "stderr",
     "output_type": "stream",
     "text": [
      " 75%|███████▍  | 322/430 [01:22<00:26,  4.03it/s]"
     ]
    },
    {
     "name": "stdout",
     "output_type": "stream",
     "text": [
      "Crawl data 274967167 success !!!\n",
      "Crawl data 273935273 success !!!\n"
     ]
    },
    {
     "name": "stderr",
     "output_type": "stream",
     "text": [
      " 75%|███████▌  | 323/430 [01:22<00:28,  3.77it/s]"
     ]
    },
    {
     "name": "stdout",
     "output_type": "stream",
     "text": [
      "Crawl data 273716647 success !!!\n"
     ]
    },
    {
     "name": "stderr",
     "output_type": "stream",
     "text": [
      " 76%|███████▌  | 325/430 [01:23<00:26,  4.02it/s]"
     ]
    },
    {
     "name": "stdout",
     "output_type": "stream",
     "text": [
      "Crawl data 273661002 success !!!\n",
      "Crawl data 273533211 success !!!\n"
     ]
    },
    {
     "name": "stderr",
     "output_type": "stream",
     "text": [
      " 76%|███████▌  | 327/430 [01:23<00:26,  3.96it/s]"
     ]
    },
    {
     "name": "stdout",
     "output_type": "stream",
     "text": [
      "Crawl data 273456113 success !!!\n",
      "Crawl data 272918348 success !!!\n"
     ]
    },
    {
     "name": "stderr",
     "output_type": "stream",
     "text": [
      " 76%|███████▋  | 328/430 [01:23<00:22,  4.52it/s]"
     ]
    },
    {
     "name": "stdout",
     "output_type": "stream",
     "text": [
      "Crawl data 272894944 success !!!\n"
     ]
    },
    {
     "name": "stderr",
     "output_type": "stream",
     "text": [
      " 77%|███████▋  | 329/430 [01:24<00:23,  4.30it/s]"
     ]
    },
    {
     "name": "stdout",
     "output_type": "stream",
     "text": [
      "Crawl data 272639442 success !!!\n"
     ]
    },
    {
     "name": "stderr",
     "output_type": "stream",
     "text": [
      " 77%|███████▋  | 331/430 [01:24<00:22,  4.34it/s]"
     ]
    },
    {
     "name": "stdout",
     "output_type": "stream",
     "text": [
      "Crawl data 262300577 success !!!\n",
      "Crawl data 249822719 success !!!\n"
     ]
    },
    {
     "name": "stderr",
     "output_type": "stream",
     "text": [
      " 77%|███████▋  | 332/430 [01:24<00:22,  4.44it/s]"
     ]
    },
    {
     "name": "stdout",
     "output_type": "stream",
     "text": [
      "Crawl data 247661092 success !!!\n"
     ]
    },
    {
     "name": "stderr",
     "output_type": "stream",
     "text": [
      " 77%|███████▋  | 333/430 [01:25<00:23,  4.08it/s]"
     ]
    },
    {
     "name": "stdout",
     "output_type": "stream",
     "text": [
      "Crawl data 205920877 success !!!\n"
     ]
    },
    {
     "name": "stderr",
     "output_type": "stream",
     "text": [
      " 78%|███████▊  | 334/430 [01:25<00:26,  3.61it/s]"
     ]
    },
    {
     "name": "stdout",
     "output_type": "stream",
     "text": [
      "Crawl data 203810412 success !!!\n"
     ]
    },
    {
     "name": "stderr",
     "output_type": "stream",
     "text": [
      " 78%|███████▊  | 335/430 [01:25<00:29,  3.27it/s]"
     ]
    },
    {
     "name": "stdout",
     "output_type": "stream",
     "text": [
      "Crawl data 196897347 success !!!\n"
     ]
    },
    {
     "name": "stderr",
     "output_type": "stream",
     "text": [
      " 78%|███████▊  | 337/430 [01:26<00:24,  3.79it/s]"
     ]
    },
    {
     "name": "stdout",
     "output_type": "stream",
     "text": [
      "Crawl data 189208326 success !!!\n",
      "Crawl data 181223608 success !!!\n"
     ]
    },
    {
     "name": "stderr",
     "output_type": "stream",
     "text": [
      " 79%|███████▊  | 338/430 [01:26<00:25,  3.55it/s]"
     ]
    },
    {
     "name": "stdout",
     "output_type": "stream",
     "text": [
      "Crawl data 174236741 success !!!\n"
     ]
    },
    {
     "name": "stderr",
     "output_type": "stream",
     "text": [
      " 79%|███████▉  | 340/430 [01:27<00:20,  4.30it/s]"
     ]
    },
    {
     "name": "stdout",
     "output_type": "stream",
     "text": [
      "Crawl data 119445205 success !!!\n",
      "Crawl data 118210422 success !!!\n"
     ]
    },
    {
     "name": "stderr",
     "output_type": "stream",
     "text": [
      " 79%|███████▉  | 341/430 [01:27<00:23,  3.78it/s]"
     ]
    },
    {
     "name": "stdout",
     "output_type": "stream",
     "text": [
      "Crawl data 117645437 success !!!\n"
     ]
    },
    {
     "name": "stderr",
     "output_type": "stream",
     "text": [
      " 80%|███████▉  | 343/430 [01:27<00:21,  4.03it/s]"
     ]
    },
    {
     "name": "stdout",
     "output_type": "stream",
     "text": [
      "Crawl data 101921036 success !!!\n",
      "Crawl data 75320717 success !!!\n"
     ]
    },
    {
     "name": "stderr",
     "output_type": "stream",
     "text": [
      " 80%|████████  | 345/430 [01:28<00:19,  4.34it/s]"
     ]
    },
    {
     "name": "stdout",
     "output_type": "stream",
     "text": [
      "Crawl data 74986804 success !!!\n",
      "Crawl data 68716605 success !!!\n"
     ]
    },
    {
     "name": "stderr",
     "output_type": "stream",
     "text": [
      " 80%|████████  | 346/430 [01:28<00:17,  4.72it/s]"
     ]
    },
    {
     "name": "stdout",
     "output_type": "stream",
     "text": [
      "Crawl data 57867024 success !!!\n"
     ]
    },
    {
     "name": "stderr",
     "output_type": "stream",
     "text": [
      " 81%|████████  | 347/430 [01:28<00:20,  4.10it/s]"
     ]
    },
    {
     "name": "stdout",
     "output_type": "stream",
     "text": [
      "Crawl data 54122078 success !!!\n"
     ]
    },
    {
     "name": "stderr",
     "output_type": "stream",
     "text": [
      " 81%|████████  | 348/430 [01:29<00:22,  3.59it/s]"
     ]
    },
    {
     "name": "stdout",
     "output_type": "stream",
     "text": [
      "Crawl data 52238368 success !!!\n"
     ]
    },
    {
     "name": "stderr",
     "output_type": "stream",
     "text": [
      " 81%|████████  | 349/430 [01:29<00:24,  3.30it/s]"
     ]
    },
    {
     "name": "stdout",
     "output_type": "stream",
     "text": [
      "Crawl data 51476716 success !!!\n"
     ]
    },
    {
     "name": "stderr",
     "output_type": "stream",
     "text": [
      " 81%|████████▏ | 350/430 [01:29<00:23,  3.44it/s]"
     ]
    },
    {
     "name": "stdout",
     "output_type": "stream",
     "text": [
      "Crawl data 35273810 success !!!\n"
     ]
    },
    {
     "name": "stderr",
     "output_type": "stream",
     "text": [
      " 82%|████████▏ | 352/430 [01:30<00:26,  2.93it/s]"
     ]
    },
    {
     "name": "stdout",
     "output_type": "stream",
     "text": [
      "Crawl data 277835689 success !!!\n",
      "Crawl data 277821906 success !!!\n"
     ]
    },
    {
     "name": "stderr",
     "output_type": "stream",
     "text": [
      " 82%|████████▏ | 354/430 [01:31<00:20,  3.66it/s]"
     ]
    },
    {
     "name": "stdout",
     "output_type": "stream",
     "text": [
      "Crawl data 277742267 success !!!\n",
      "Crawl data 277603766 success !!!\n"
     ]
    },
    {
     "name": "stderr",
     "output_type": "stream",
     "text": [
      " 83%|████████▎ | 356/430 [01:31<00:15,  4.79it/s]"
     ]
    },
    {
     "name": "stdout",
     "output_type": "stream",
     "text": [
      "Crawl data 277579186 success !!!\n",
      "Crawl data 277523046 success !!!\n"
     ]
    },
    {
     "name": "stderr",
     "output_type": "stream",
     "text": [
      " 83%|████████▎ | 357/430 [01:31<00:17,  4.27it/s]"
     ]
    },
    {
     "name": "stdout",
     "output_type": "stream",
     "text": [
      "Crawl data 276964772 success !!!\n",
      "Crawl data 276611622 success !!!\n"
     ]
    },
    {
     "name": "stderr",
     "output_type": "stream",
     "text": [
      " 83%|████████▎ | 359/430 [01:32<00:14,  4.87it/s]"
     ]
    },
    {
     "name": "stdout",
     "output_type": "stream",
     "text": [
      "Crawl data 276409126 success !!!\n"
     ]
    },
    {
     "name": "stderr",
     "output_type": "stream",
     "text": [
      " 84%|████████▎ | 360/430 [01:32<00:15,  4.54it/s]"
     ]
    },
    {
     "name": "stdout",
     "output_type": "stream",
     "text": [
      "Crawl data 276044575 success !!!\n"
     ]
    },
    {
     "name": "stderr",
     "output_type": "stream",
     "text": [
      " 84%|████████▍ | 362/430 [01:32<00:16,  4.22it/s]"
     ]
    },
    {
     "name": "stdout",
     "output_type": "stream",
     "text": [
      "Crawl data 275480130 success !!!\n",
      "Crawl data 274960078 success !!!\n"
     ]
    },
    {
     "name": "stderr",
     "output_type": "stream",
     "text": [
      " 84%|████████▍ | 363/430 [01:33<00:18,  3.55it/s]"
     ]
    },
    {
     "name": "stdout",
     "output_type": "stream",
     "text": [
      "Crawl data 274570946 success !!!\n"
     ]
    },
    {
     "name": "stderr",
     "output_type": "stream",
     "text": [
      " 85%|████████▍ | 364/430 [01:33<00:21,  3.12it/s]"
     ]
    },
    {
     "name": "stdout",
     "output_type": "stream",
     "text": [
      "Crawl data 273721331 success !!!\n"
     ]
    },
    {
     "name": "stderr",
     "output_type": "stream",
     "text": [
      " 85%|████████▍ | 365/430 [01:33<00:20,  3.22it/s]"
     ]
    },
    {
     "name": "stdout",
     "output_type": "stream",
     "text": [
      "Crawl data 273619945 success !!!\n"
     ]
    },
    {
     "name": "stderr",
     "output_type": "stream",
     "text": [
      " 85%|████████▌ | 366/430 [01:34<00:21,  2.96it/s]"
     ]
    },
    {
     "name": "stdout",
     "output_type": "stream",
     "text": [
      "Crawl data 272359849 success !!!\n"
     ]
    },
    {
     "name": "stderr",
     "output_type": "stream",
     "text": [
      " 85%|████████▌ | 367/430 [01:34<00:20,  3.09it/s]"
     ]
    },
    {
     "name": "stdout",
     "output_type": "stream",
     "text": [
      "Crawl data 271121025 success !!!\n"
     ]
    },
    {
     "name": "stderr",
     "output_type": "stream",
     "text": [
      " 86%|████████▌ | 368/430 [01:34<00:18,  3.37it/s]"
     ]
    },
    {
     "name": "stdout",
     "output_type": "stream",
     "text": [
      "Crawl data 225947119 success !!!\n"
     ]
    },
    {
     "name": "stderr",
     "output_type": "stream",
     "text": [
      " 86%|████████▌ | 369/430 [01:35<00:18,  3.22it/s]"
     ]
    },
    {
     "name": "stdout",
     "output_type": "stream",
     "text": [
      "Crawl data 221011957 success !!!\n"
     ]
    },
    {
     "name": "stderr",
     "output_type": "stream",
     "text": [
      " 86%|████████▌ | 370/430 [01:35<00:18,  3.17it/s]"
     ]
    },
    {
     "name": "stdout",
     "output_type": "stream",
     "text": [
      "Crawl data 217695866 success !!!\n"
     ]
    },
    {
     "name": "stderr",
     "output_type": "stream",
     "text": [
      " 87%|████████▋ | 372/430 [01:35<00:14,  4.08it/s]"
     ]
    },
    {
     "name": "stdout",
     "output_type": "stream",
     "text": [
      "Crawl data 215891498 success !!!\n",
      "Crawl data 203898025 success !!!\n"
     ]
    },
    {
     "name": "stderr",
     "output_type": "stream",
     "text": [
      " 87%|████████▋ | 373/430 [01:36<00:13,  4.20it/s]"
     ]
    },
    {
     "name": "stdout",
     "output_type": "stream",
     "text": [
      "Crawl data 201566005 success !!!\n"
     ]
    },
    {
     "name": "stderr",
     "output_type": "stream",
     "text": [
      " 87%|████████▋ | 374/430 [01:36<00:14,  3.81it/s]"
     ]
    },
    {
     "name": "stdout",
     "output_type": "stream",
     "text": [
      "Crawl data 193365988 success !!!\n"
     ]
    },
    {
     "name": "stderr",
     "output_type": "stream",
     "text": [
      " 87%|████████▋ | 375/430 [01:36<00:14,  3.69it/s]"
     ]
    },
    {
     "name": "stdout",
     "output_type": "stream",
     "text": [
      "Crawl data 192523772 success !!!\n"
     ]
    },
    {
     "name": "stderr",
     "output_type": "stream",
     "text": [
      " 87%|████████▋ | 376/430 [01:37<00:14,  3.71it/s]"
     ]
    },
    {
     "name": "stdout",
     "output_type": "stream",
     "text": [
      "Crawl data 190726737 success !!!\n"
     ]
    },
    {
     "name": "stderr",
     "output_type": "stream",
     "text": [
      " 88%|████████▊ | 377/430 [01:37<00:13,  3.84it/s]"
     ]
    },
    {
     "name": "stdout",
     "output_type": "stream",
     "text": [
      "Crawl data 186288399 success !!!\n"
     ]
    },
    {
     "name": "stderr",
     "output_type": "stream",
     "text": [
      " 88%|████████▊ | 378/430 [01:37<00:15,  3.40it/s]"
     ]
    },
    {
     "name": "stdout",
     "output_type": "stream",
     "text": [
      "Crawl data 162144034 success !!!\n"
     ]
    },
    {
     "name": "stderr",
     "output_type": "stream",
     "text": [
      " 88%|████████▊ | 380/430 [01:38<00:12,  4.11it/s]"
     ]
    },
    {
     "name": "stdout",
     "output_type": "stream",
     "text": [
      "Crawl data 144492706 success !!!\n",
      "Crawl data 142264591 success !!!\n"
     ]
    },
    {
     "name": "stderr",
     "output_type": "stream",
     "text": [
      " 89%|████████▊ | 381/430 [01:38<00:17,  2.76it/s]"
     ]
    },
    {
     "name": "stdout",
     "output_type": "stream",
     "text": [
      "Crawl data 99621372 success !!!\n"
     ]
    },
    {
     "name": "stderr",
     "output_type": "stream",
     "text": [
      " 89%|████████▉ | 382/430 [01:39<00:16,  2.84it/s]"
     ]
    },
    {
     "name": "stdout",
     "output_type": "stream",
     "text": [
      "Crawl data 93095439 success !!!\n"
     ]
    },
    {
     "name": "stderr",
     "output_type": "stream",
     "text": [
      " 89%|████████▉ | 383/430 [01:39<00:16,  2.82it/s]"
     ]
    },
    {
     "name": "stdout",
     "output_type": "stream",
     "text": [
      "Crawl data 88928025 success !!!\n"
     ]
    },
    {
     "name": "stderr",
     "output_type": "stream",
     "text": [
      " 90%|████████▉ | 385/430 [01:39<00:11,  3.86it/s]"
     ]
    },
    {
     "name": "stdout",
     "output_type": "stream",
     "text": [
      "Crawl data 74695680 success !!!\n",
      "Crawl data 70820849 success !!!\n"
     ]
    },
    {
     "name": "stderr",
     "output_type": "stream",
     "text": [
      " 90%|████████▉ | 386/430 [01:40<00:13,  3.23it/s]"
     ]
    },
    {
     "name": "stdout",
     "output_type": "stream",
     "text": [
      "Crawl data 52885368 success !!!\n"
     ]
    },
    {
     "name": "stderr",
     "output_type": "stream",
     "text": [
      " 90%|█████████ | 388/430 [01:40<00:11,  3.79it/s]"
     ]
    },
    {
     "name": "stdout",
     "output_type": "stream",
     "text": [
      "Crawl data 19761070 success !!!\n",
      "Crawl data 15605817 success !!!\n"
     ]
    },
    {
     "name": "stderr",
     "output_type": "stream",
     "text": [
      " 90%|█████████ | 389/430 [01:40<00:09,  4.39it/s]"
     ]
    },
    {
     "name": "stdout",
     "output_type": "stream",
     "text": [
      "Crawl data 2432307 success !!!\n"
     ]
    },
    {
     "name": "stderr",
     "output_type": "stream",
     "text": [
      " 91%|█████████ | 390/430 [01:41<00:12,  3.11it/s]"
     ]
    },
    {
     "name": "stdout",
     "output_type": "stream",
     "text": [
      "Crawl data 2080755 success !!!\n"
     ]
    },
    {
     "name": "stderr",
     "output_type": "stream",
     "text": [
      " 91%|█████████ | 391/430 [01:41<00:12,  3.12it/s]"
     ]
    },
    {
     "name": "stdout",
     "output_type": "stream",
     "text": [
      "Crawl data 277557819 success !!!\n"
     ]
    },
    {
     "name": "stderr",
     "output_type": "stream",
     "text": [
      " 91%|█████████ | 392/430 [01:41<00:11,  3.27it/s]"
     ]
    },
    {
     "name": "stdout",
     "output_type": "stream",
     "text": [
      "Crawl data 276957582 success !!!\n"
     ]
    },
    {
     "name": "stderr",
     "output_type": "stream",
     "text": [
      " 91%|█████████▏| 393/430 [01:42<00:11,  3.35it/s]"
     ]
    },
    {
     "name": "stdout",
     "output_type": "stream",
     "text": [
      "Crawl data 276933852 success !!!\n"
     ]
    },
    {
     "name": "stderr",
     "output_type": "stream",
     "text": [
      " 92%|█████████▏| 394/430 [01:42<00:11,  3.25it/s]"
     ]
    },
    {
     "name": "stdout",
     "output_type": "stream",
     "text": [
      "Crawl data 276933675 success !!!\n"
     ]
    },
    {
     "name": "stderr",
     "output_type": "stream",
     "text": [
      " 92%|█████████▏| 396/430 [01:42<00:08,  3.81it/s]"
     ]
    },
    {
     "name": "stdout",
     "output_type": "stream",
     "text": [
      "Crawl data 275924958 success !!!\n",
      "Crawl data 275906216 success !!!\n"
     ]
    },
    {
     "name": "stderr",
     "output_type": "stream",
     "text": [
      " 93%|█████████▎| 398/430 [01:43<00:07,  4.03it/s]"
     ]
    },
    {
     "name": "stdout",
     "output_type": "stream",
     "text": [
      "Crawl data 275407662 success !!!\n",
      "Crawl data 275376312 success !!!\n"
     ]
    },
    {
     "name": "stderr",
     "output_type": "stream",
     "text": [
      " 93%|█████████▎| 400/430 [01:44<00:07,  4.00it/s]"
     ]
    },
    {
     "name": "stdout",
     "output_type": "stream",
     "text": [
      "Crawl data 275246947 success !!!\n",
      "Crawl data 275238631 success !!!\n"
     ]
    },
    {
     "name": "stderr",
     "output_type": "stream",
     "text": [
      " 93%|█████████▎| 401/430 [01:44<00:06,  4.63it/s]"
     ]
    },
    {
     "name": "stdout",
     "output_type": "stream",
     "text": [
      "Crawl data 275228880 success !!!\n"
     ]
    },
    {
     "name": "stderr",
     "output_type": "stream",
     "text": [
      " 93%|█████████▎| 402/430 [01:44<00:08,  3.31it/s]"
     ]
    },
    {
     "name": "stdout",
     "output_type": "stream",
     "text": [
      "Crawl data 275213424 success !!!\n"
     ]
    },
    {
     "name": "stderr",
     "output_type": "stream",
     "text": [
      " 94%|█████████▍| 404/430 [01:45<00:06,  4.04it/s]"
     ]
    },
    {
     "name": "stdout",
     "output_type": "stream",
     "text": [
      "Crawl data 274867163 success !!!\n",
      "Crawl data 274828550 success !!!\n"
     ]
    },
    {
     "name": "stderr",
     "output_type": "stream",
     "text": [
      " 94%|█████████▍| 405/430 [01:45<00:07,  3.26it/s]"
     ]
    },
    {
     "name": "stdout",
     "output_type": "stream",
     "text": [
      "Crawl data 274758261 success !!!\n"
     ]
    },
    {
     "name": "stderr",
     "output_type": "stream",
     "text": [
      " 94%|█████████▍| 406/430 [01:45<00:08,  3.00it/s]"
     ]
    },
    {
     "name": "stdout",
     "output_type": "stream",
     "text": [
      "Crawl data 274558570 success !!!\n"
     ]
    },
    {
     "name": "stderr",
     "output_type": "stream",
     "text": [
      " 95%|█████████▍| 407/430 [01:46<00:07,  3.10it/s]"
     ]
    },
    {
     "name": "stdout",
     "output_type": "stream",
     "text": [
      "Crawl data 274133322 success !!!\n"
     ]
    },
    {
     "name": "stderr",
     "output_type": "stream",
     "text": [
      " 95%|█████████▍| 408/430 [01:46<00:06,  3.25it/s]"
     ]
    },
    {
     "name": "stdout",
     "output_type": "stream",
     "text": [
      "Crawl data 273546668 success !!!\n"
     ]
    },
    {
     "name": "stderr",
     "output_type": "stream",
     "text": [
      " 95%|█████████▌| 409/430 [01:46<00:06,  3.30it/s]"
     ]
    },
    {
     "name": "stdout",
     "output_type": "stream",
     "text": [
      "Crawl data 273009767 success !!!\n"
     ]
    },
    {
     "name": "stderr",
     "output_type": "stream",
     "text": [
      " 96%|█████████▌| 411/430 [01:47<00:04,  3.88it/s]"
     ]
    },
    {
     "name": "stdout",
     "output_type": "stream",
     "text": [
      "Crawl data 272484433 success !!!\n",
      "Crawl data 270303001 success !!!\n"
     ]
    },
    {
     "name": "stderr",
     "output_type": "stream",
     "text": [
      " 96%|█████████▌| 412/430 [01:47<00:04,  4.42it/s]"
     ]
    },
    {
     "name": "stdout",
     "output_type": "stream",
     "text": [
      "Crawl data 263239696 success !!!\n"
     ]
    },
    {
     "name": "stderr",
     "output_type": "stream",
     "text": [
      " 96%|█████████▌| 413/430 [01:47<00:04,  3.91it/s]"
     ]
    },
    {
     "name": "stdout",
     "output_type": "stream",
     "text": [
      "Crawl data 263239689 success !!!\n"
     ]
    },
    {
     "name": "stderr",
     "output_type": "stream",
     "text": [
      " 96%|█████████▋| 414/430 [01:48<00:04,  3.47it/s]"
     ]
    },
    {
     "name": "stdout",
     "output_type": "stream",
     "text": [
      "Crawl data 225240034 success !!!\n"
     ]
    },
    {
     "name": "stderr",
     "output_type": "stream",
     "text": [
      " 97%|█████████▋| 415/430 [01:48<00:04,  3.53it/s]"
     ]
    },
    {
     "name": "stdout",
     "output_type": "stream",
     "text": [
      "Crawl data 191385630 success !!!\n"
     ]
    },
    {
     "name": "stderr",
     "output_type": "stream",
     "text": [
      " 97%|█████████▋| 416/430 [01:48<00:03,  3.54it/s]"
     ]
    },
    {
     "name": "stdout",
     "output_type": "stream",
     "text": [
      "Crawl data 190791221 success !!!\n"
     ]
    },
    {
     "name": "stderr",
     "output_type": "stream",
     "text": [
      " 97%|█████████▋| 418/430 [01:49<00:02,  4.38it/s]"
     ]
    },
    {
     "name": "stdout",
     "output_type": "stream",
     "text": [
      "Crawl data 184591044 success !!!\n",
      "Crawl data 183907622 success !!!\n"
     ]
    },
    {
     "name": "stderr",
     "output_type": "stream",
     "text": [
      " 97%|█████████▋| 419/430 [01:49<00:02,  4.94it/s]"
     ]
    },
    {
     "name": "stdout",
     "output_type": "stream",
     "text": [
      "Crawl data 176592358 success !!!\n"
     ]
    },
    {
     "name": "stderr",
     "output_type": "stream",
     "text": [
      " 98%|█████████▊| 420/430 [01:49<00:02,  4.52it/s]"
     ]
    },
    {
     "name": "stdout",
     "output_type": "stream",
     "text": [
      "Crawl data 169581175 success !!!\n"
     ]
    },
    {
     "name": "stderr",
     "output_type": "stream",
     "text": [
      " 98%|█████████▊| 421/430 [01:49<00:02,  3.79it/s]"
     ]
    },
    {
     "name": "stdout",
     "output_type": "stream",
     "text": [
      "Crawl data 152446804 success !!!\n"
     ]
    },
    {
     "name": "stderr",
     "output_type": "stream",
     "text": [
      " 98%|█████████▊| 423/430 [01:50<00:02,  3.28it/s]"
     ]
    },
    {
     "name": "stdout",
     "output_type": "stream",
     "text": [
      "Crawl data 140953145 success !!!\n",
      "Crawl data 130769103 success !!!\n"
     ]
    },
    {
     "name": "stderr",
     "output_type": "stream",
     "text": [
      " 99%|█████████▉| 425/430 [01:50<00:01,  4.40it/s]"
     ]
    },
    {
     "name": "stdout",
     "output_type": "stream",
     "text": [
      "Crawl data 119112667 success !!!\n",
      "Crawl data 118898224 success !!!\n"
     ]
    },
    {
     "name": "stderr",
     "output_type": "stream",
     "text": [
      " 99%|█████████▉| 426/430 [01:51<00:00,  5.09it/s]"
     ]
    },
    {
     "name": "stdout",
     "output_type": "stream",
     "text": [
      "Crawl data 85029571 success !!!\n"
     ]
    },
    {
     "name": "stderr",
     "output_type": "stream",
     "text": [
      "100%|█████████▉| 428/430 [01:51<00:00,  5.13it/s]"
     ]
    },
    {
     "name": "stdout",
     "output_type": "stream",
     "text": [
      "Crawl data 33507502 success !!!\n",
      "Crawl data 28079716 success !!!\n"
     ]
    },
    {
     "name": "stderr",
     "output_type": "stream",
     "text": [
      "100%|██████████| 430/430 [01:52<00:00,  3.84it/s]"
     ]
    },
    {
     "name": "stdout",
     "output_type": "stream",
     "text": [
      "Crawl data 23536038 success !!!\n",
      "Crawl data 8282408 success !!!\n"
     ]
    },
    {
     "name": "stderr",
     "output_type": "stream",
     "text": [
      "\n"
     ]
    }
   ],
   "source": [
    "\n",
    "\n",
    "cookies = {\n",
    "    'TIKI_GUEST_TOKEN': '8jWSuIDBb2NGVzr6hsUZXpkP1FRin7lY',\n",
    "    'TOKENS': '{%22access_token%22:%228jWSuIDBb2NGVzr6hsUZXpkP1FRin7lY%22%2C%22expires_in%22:157680000%2C%22expires_at%22:1763654224277%2C%22guest_token%22:%228jWSuIDBb2NGVzr6hsUZXpkP1FRin7lY%22}',\n",
    "    'amp_99d374': 'eSc-_0HT1um7cb57E7dwA0...1enloc6a2.1enlohtdv.3.2.5',\n",
    "    'amp_99d374_tiki.vn': 'eSc-_0HT1um7cb57E7dwA0...1enloc6a2.1enlocds8.0.1.1',\n",
    "    '_gcl_au': '1.1.559117409.1605974236',\n",
    "    '_ants_utm_v2': '',\n",
    "    '_pk_id.638735871.2fc5': 'b92ae025fbbdb31f.1605974236.1.1605974420.1605974236.',\n",
    "    '_pk_ses.638735871.2fc5': '*',\n",
    "    '_trackity': '70e316b0-96f2-dbe1-a2ed-43ff60419991',\n",
    "    '_ga_NKX31X43RV': 'GS1.1.1605974235.1.1.1605974434.0',\n",
    "    '_ga': 'GA1.1.657946765.1605974236',\n",
    "    'ai_client_id': '11935756853.1605974227',\n",
    "    'an_session': 'zizkzrzjzlzizqzlzqzjzdzizizqzgzmzkzmzlzrzmzgzdzizlzjzmzqzkznzhzhzkzdzhzdzizlzjzmzqzkznzhzhzkzdzizlzjzmzqzkznzhzhzkzdzjzdzhzqzdzizd2f27zdzjzdzlzmzmznzq',\n",
    "    'au_aid': '11935756853',\n",
    "    'dgs': '1605974411%3A3%3A0',\n",
    "    'au_gt': '1605974227146',\n",
    "    '_ants_services': '%5B%22cuid%22%5D',\n",
    "    '__admUTMtime': '1605974236',\n",
    "    '__iid': '749',\n",
    "    '__su': '0',\n",
    "    '_bs': 'bb9a32f6-ab13-ce80-92d6-57fd3fd6e4c8',\n",
    "    '_gid': 'GA1.2.867846791.1605974237',\n",
    "    '_fbp': 'fb.1.1605974237134.1297408816',\n",
    "    '_hjid': 'f152cf33-7323-4410-b9ae-79f6622ebc48',\n",
    "    '_hjFirstSeen': '1',\n",
    "    '_hjIncludedInPageviewSample': '1',\n",
    "    '_hjAbsoluteSessionInProgress': '0',\n",
    "    '_hjIncludedInSessionSample': '1',\n",
    "    'tiki_client_id': '657946765.1605974236',\n",
    "    '__gads': 'ID=ae56424189ecccbe-227eb8e1d6c400a8:T=1605974229:RT=1605974229:S=ALNI_MZFWYf2BAjzCSiRNLC3bKI-W_7YHA',\n",
    "    'proxy_s_sv': '1605976041662',\n",
    "    'TKSESSID': '8bcd49b02e1e16aa1cdb795c54d7b460',\n",
    "    'TIKI_RECOMMENDATION': '21dd50e7f7c194df673ea3b717459249',\n",
    "    '_gat': '1',\n",
    "    'cto_bundle': 'i6f48l9NVXNkQmJ6aEVLcXNqbHdjcVZoQ0k2clladUF2N2xjZzJ1cjR6WG43UTVaRmglMkZXWUdtRnJTNHZRbmQ4SDAlMkZwRFhqQnppRHFxJTJCSEozZXBqRFM4ZHVxUjQ2TmklMkJIcnhJd3luZXpJSnBpcE1nJTNE',\n",
    "    'TIKI_RECENTLYVIEWED': '58259141',\n",
    "}\n",
    "\n",
    "headers = {\n",
    "    'User-Agent': 'Mozilla/5.0 (Windows NT 6.3; Win64; x64; rv:83.0) Gecko/20100101 Firefox/83.0',\n",
    "    'Accept': 'application/json, text/plain, */*',\n",
    "    'Accept-Language': 'vi-VN,vi;q=0.8,en-US;q=0.5,en;q=0.3',\n",
    "    'Referer': 'https://tiki.vn/dien-thoai-samsung-galaxy-m31-128gb-6gb-hang-chinh-hang-p58259141.html?src=category-page-1789&2hi=0',\n",
    "    'x-guest-token': '8jWSuIDBb2NGVzr6hsUZXpkP1FRin7lY',\n",
    "    'Connection': 'keep-alive',\n",
    "    'TE': 'Trailers',\n",
    "}\n",
    "\n",
    "params = (\n",
    "    ('platform', 'web'),\n",
    "    ('spid', 187266106)\n",
    "    #('include', 'tag,images,gallery,promotions,badges,stock_item,variants,product_links,discount_tag,ranks,breadcrumbs,top_features,cta_desktop'),\n",
    ")\n",
    "\n",
    "def parser_product(json):\n",
    "    d = dict()\n",
    "    d['id'] = json.get('id')\n",
    "    d['sku'] = json.get('sku')\n",
    "    d['short_description'] = json.get('short_description')\n",
    "    d['price'] = json.get('price')\n",
    "    d['list_price'] = json.get('list_price')\n",
    "    d['price_usd'] = json.get('price_usd')\n",
    "    d['discount'] = json.get('discount')\n",
    "    d['discount_rate'] = json.get('discount_rate')\n",
    "    d['review_count'] = json.get('review_count')\n",
    "    d['order_count'] = json.get('order_count')\n",
    "    d['inventory_status'] = json.get('inventory_status')\n",
    "    d['is_visible'] = json.get('is_visible')\n",
    "    d['stock_item_qty'] = json.get('stock_item').get('qty')\n",
    "    d['stock_item_max_sale_qty'] = json.get('stock_item').get('max_sale_qty')\n",
    "    d['product_name'] = json.get('meta_title')\n",
    "    d['brand_id'] = json.get('brand').get('id')\n",
    "    d['brand_name'] = json.get('brand').get('name')\n",
    "    return d\n",
    "\n",
    "\n",
    "df_id = pd.read_csv('product_id_ncds.csv')\n",
    "p_ids = df_id.id.to_list()\n",
    "print(p_ids)\n",
    "result = []\n",
    "for pid in tqdm(p_ids, total=len(p_ids)):\n",
    "    response = requests.get('https://tiki.vn/api/v2/products/{}'.format(pid), headers=headers, params=params, cookies=cookies)\n",
    "    if response.status_code == 200:\n",
    "        print('Crawl data {} success !!!'.format(pid))\n",
    "        result.append(parser_product(response.json()))\n",
    "    # time.sleep(random.randrange(3, 5))\n",
    "df_product = pd.DataFrame(result)\n",
    "# df_product.to_csv('crawled_data_ncds.csv', index=False)"
   ]
  },
  {
   "cell_type": "code",
   "execution_count": 20,
   "id": "2df6c53b",
   "metadata": {},
   "outputs": [
    {
     "data": {
      "text/html": [
       "<div>\n",
       "<style scoped>\n",
       "    .dataframe tbody tr th:only-of-type {\n",
       "        vertical-align: middle;\n",
       "    }\n",
       "\n",
       "    .dataframe tbody tr th {\n",
       "        vertical-align: top;\n",
       "    }\n",
       "\n",
       "    .dataframe thead th {\n",
       "        text-align: right;\n",
       "    }\n",
       "</style>\n",
       "<table border=\"1\" class=\"dataframe\">\n",
       "  <thead>\n",
       "    <tr style=\"text-align: right;\">\n",
       "      <th></th>\n",
       "      <th>id</th>\n",
       "      <th>sku</th>\n",
       "      <th>short_description</th>\n",
       "      <th>price</th>\n",
       "      <th>list_price</th>\n",
       "      <th>price_usd</th>\n",
       "      <th>discount</th>\n",
       "      <th>discount_rate</th>\n",
       "      <th>review_count</th>\n",
       "      <th>order_count</th>\n",
       "      <th>inventory_status</th>\n",
       "      <th>is_visible</th>\n",
       "      <th>stock_item_qty</th>\n",
       "      <th>stock_item_max_sale_qty</th>\n",
       "      <th>product_name</th>\n",
       "      <th>brand_id</th>\n",
       "      <th>brand_name</th>\n",
       "    </tr>\n",
       "  </thead>\n",
       "  <tbody>\n",
       "    <tr>\n",
       "      <th>0</th>\n",
       "      <td>176309243</td>\n",
       "      <td>4942336501832</td>\n",
       "      <td>Lô túi rác tiện dụng Inochi (4 cuộn) là sản ph...</td>\n",
       "      <td>39500</td>\n",
       "      <td>71000</td>\n",
       "      <td>None</td>\n",
       "      <td>31500</td>\n",
       "      <td>44</td>\n",
       "      <td>30</td>\n",
       "      <td>None</td>\n",
       "      <td>available</td>\n",
       "      <td>None</td>\n",
       "      <td>1000</td>\n",
       "      <td>1000</td>\n",
       "      <td></td>\n",
       "      <td>197767</td>\n",
       "      <td>Inochi</td>\n",
       "    </tr>\n",
       "    <tr>\n",
       "      <th>1</th>\n",
       "      <td>276478995</td>\n",
       "      <td>5561196870412</td>\n",
       "      <td>Trong cuộc sống bận rộn, những bữa cơm gia đìn...</td>\n",
       "      <td>579000</td>\n",
       "      <td>799000</td>\n",
       "      <td>None</td>\n",
       "      <td>220000</td>\n",
       "      <td>28</td>\n",
       "      <td>1</td>\n",
       "      <td>None</td>\n",
       "      <td>available</td>\n",
       "      <td>None</td>\n",
       "      <td>1000</td>\n",
       "      <td>1000</td>\n",
       "      <td></td>\n",
       "      <td>31627</td>\n",
       "      <td>Elmich</td>\n",
       "    </tr>\n",
       "    <tr>\n",
       "      <th>2</th>\n",
       "      <td>275511640</td>\n",
       "      <td>6835340124141</td>\n",
       "      <td>– Thiết kế hiện dại, màu sắc trẻ trung, thời t...</td>\n",
       "      <td>179000</td>\n",
       "      <td>309000</td>\n",
       "      <td>None</td>\n",
       "      <td>130000</td>\n",
       "      <td>42</td>\n",
       "      <td>25</td>\n",
       "      <td>None</td>\n",
       "      <td>available</td>\n",
       "      <td>None</td>\n",
       "      <td>1000</td>\n",
       "      <td>1000</td>\n",
       "      <td></td>\n",
       "      <td>31627</td>\n",
       "      <td>Elmich</td>\n",
       "    </tr>\n",
       "    <tr>\n",
       "      <th>3</th>\n",
       "      <td>275570245</td>\n",
       "      <td>6270168674220</td>\n",
       "      <td>Thông tin sản phẩmThiết kế hiện đại, chắc chắn...</td>\n",
       "      <td>341000</td>\n",
       "      <td>750000</td>\n",
       "      <td>None</td>\n",
       "      <td>409000</td>\n",
       "      <td>55</td>\n",
       "      <td>26</td>\n",
       "      <td>None</td>\n",
       "      <td>available</td>\n",
       "      <td>None</td>\n",
       "      <td>1000</td>\n",
       "      <td>1000</td>\n",
       "      <td></td>\n",
       "      <td>31627</td>\n",
       "      <td>Elmich</td>\n",
       "    </tr>\n",
       "    <tr>\n",
       "      <th>4</th>\n",
       "      <td>276120162</td>\n",
       "      <td>6573230323198</td>\n",
       "      <td>Đặc điểm sản phẩmMàu sắc đa dạng phù hợp với p...</td>\n",
       "      <td>477000</td>\n",
       "      <td>688000</td>\n",
       "      <td>None</td>\n",
       "      <td>211000</td>\n",
       "      <td>31</td>\n",
       "      <td>18</td>\n",
       "      <td>None</td>\n",
       "      <td>available</td>\n",
       "      <td>None</td>\n",
       "      <td>1000</td>\n",
       "      <td>1000</td>\n",
       "      <td></td>\n",
       "      <td>48077</td>\n",
       "      <td>LocknLock</td>\n",
       "    </tr>\n",
       "  </tbody>\n",
       "</table>\n",
       "</div>"
      ],
      "text/plain": [
       "          id            sku  \\\n",
       "0  176309243  4942336501832   \n",
       "1  276478995  5561196870412   \n",
       "2  275511640  6835340124141   \n",
       "3  275570245  6270168674220   \n",
       "4  276120162  6573230323198   \n",
       "\n",
       "                                   short_description   price  list_price  \\\n",
       "0  Lô túi rác tiện dụng Inochi (4 cuộn) là sản ph...   39500       71000   \n",
       "1  Trong cuộc sống bận rộn, những bữa cơm gia đìn...  579000      799000   \n",
       "2  – Thiết kế hiện dại, màu sắc trẻ trung, thời t...  179000      309000   \n",
       "3  Thông tin sản phẩmThiết kế hiện đại, chắc chắn...  341000      750000   \n",
       "4  Đặc điểm sản phẩmMàu sắc đa dạng phù hợp với p...  477000      688000   \n",
       "\n",
       "  price_usd  discount  discount_rate  review_count order_count  \\\n",
       "0      None     31500             44            30        None   \n",
       "1      None    220000             28             1        None   \n",
       "2      None    130000             42            25        None   \n",
       "3      None    409000             55            26        None   \n",
       "4      None    211000             31            18        None   \n",
       "\n",
       "  inventory_status is_visible  stock_item_qty  stock_item_max_sale_qty  \\\n",
       "0        available       None            1000                     1000   \n",
       "1        available       None            1000                     1000   \n",
       "2        available       None            1000                     1000   \n",
       "3        available       None            1000                     1000   \n",
       "4        available       None            1000                     1000   \n",
       "\n",
       "  product_name  brand_id brand_name  \n",
       "0                 197767     Inochi  \n",
       "1                  31627     Elmich  \n",
       "2                  31627     Elmich  \n",
       "3                  31627     Elmich  \n",
       "4                  48077  LocknLock  "
      ]
     },
     "execution_count": 20,
     "metadata": {},
     "output_type": "execute_result"
    }
   ],
   "source": [
    "df_product.head()"
   ]
  },
  {
   "cell_type": "code",
   "execution_count": 26,
   "id": "5cd18275",
   "metadata": {},
   "outputs": [
    {
     "name": "stdout",
     "output_type": "stream",
     "text": [
      "            id\n",
      "0    176309243\n",
      "1    276478995\n",
      "2    275511640\n",
      "3    275570245\n",
      "4    276120162\n",
      "..         ...\n",
      "425   85029571\n",
      "426   33507502\n",
      "427   28079716\n",
      "428   23536038\n",
      "429    8282408\n",
      "\n",
      "[430 rows x 1 columns]\n"
     ]
    }
   ],
   "source": [
    "print(df)"
   ]
  },
  {
   "cell_type": "code",
   "execution_count": 94,
   "id": "4d963999",
   "metadata": {},
   "outputs": [
    {
     "data": {
      "text/plain": [
       "360"
      ]
     },
     "execution_count": 94,
     "metadata": {},
     "output_type": "execute_result"
    }
   ],
   "source": [
    "df_comment.product_id.nunique()"
   ]
  },
  {
   "cell_type": "code",
   "execution_count": 95,
   "id": "3111b22b",
   "metadata": {},
   "outputs": [
    {
     "data": {
      "text/plain": [
       "413"
      ]
     },
     "execution_count": 95,
     "metadata": {},
     "output_type": "execute_result"
    }
   ],
   "source": [
    "df.id.nunique()"
   ]
  },
  {
   "cell_type": "code",
   "execution_count": 35,
   "id": "30c1ce2f",
   "metadata": {},
   "outputs": [
    {
     "name": "stderr",
     "output_type": "stream",
     "text": [
      "  0%|          | 0/430 [00:00<?, ?it/s]"
     ]
    },
    {
     "name": "stdout",
     "output_type": "stream",
     "text": [
      "Crawl comment for product 176309243\n",
      "Crawl comment page 0 success!!!\n"
     ]
    },
    {
     "name": "stderr",
     "output_type": "stream",
     "text": [
      "  0%|          | 1/430 [00:00<05:25,  1.32it/s]"
     ]
    },
    {
     "name": "stdout",
     "output_type": "stream",
     "text": [
      "Crawl comment page 1 success!!!\n",
      "Crawl comment for product 276478995\n",
      "Crawl comment page 0 success!!!\n"
     ]
    },
    {
     "name": "stderr",
     "output_type": "stream",
     "text": [
      "  0%|          | 2/430 [00:01<04:01,  1.77it/s]"
     ]
    },
    {
     "name": "stdout",
     "output_type": "stream",
     "text": [
      "Crawl comment page 1 success!!!\n",
      "Crawl comment for product 275511640\n",
      "Crawl comment page 0 success!!!\n"
     ]
    },
    {
     "name": "stderr",
     "output_type": "stream",
     "text": [
      "  1%|          | 3/430 [00:03<08:35,  1.21s/it]"
     ]
    },
    {
     "name": "stdout",
     "output_type": "stream",
     "text": [
      "Crawl comment page 1 success!!!\n",
      "Crawl comment for product 275570245\n",
      "Crawl comment page 0 success!!!\n"
     ]
    },
    {
     "name": "stderr",
     "output_type": "stream",
     "text": [
      "  1%|          | 4/430 [00:04<08:13,  1.16s/it]"
     ]
    },
    {
     "name": "stdout",
     "output_type": "stream",
     "text": [
      "Crawl comment page 1 success!!!\n",
      "Crawl comment for product 276120162\n",
      "Crawl comment page 0 success!!!\n"
     ]
    },
    {
     "name": "stderr",
     "output_type": "stream",
     "text": [
      "  1%|          | 5/430 [00:06<12:11,  1.72s/it]"
     ]
    },
    {
     "name": "stdout",
     "output_type": "stream",
     "text": [
      "Crawl comment page 1 success!!!\n",
      "Crawl comment for product 277923199\n",
      "Crawl comment page 0 success!!!\n"
     ]
    },
    {
     "name": "stderr",
     "output_type": "stream",
     "text": [
      "  1%|▏         | 6/430 [00:07<08:48,  1.25s/it]"
     ]
    },
    {
     "name": "stdout",
     "output_type": "stream",
     "text": [
      "Crawl comment page 1 success!!!\n",
      "Crawl comment for product 277860855\n",
      "Crawl comment page 0 success!!!\n"
     ]
    },
    {
     "name": "stderr",
     "output_type": "stream",
     "text": [
      "  2%|▏         | 7/430 [00:07<06:25,  1.10it/s]"
     ]
    },
    {
     "name": "stdout",
     "output_type": "stream",
     "text": [
      "Crawl comment page 1 success!!!\n",
      "Crawl comment for product 277740594\n",
      "Crawl comment page 0 success!!!\n"
     ]
    },
    {
     "name": "stderr",
     "output_type": "stream",
     "text": [
      "  2%|▏         | 8/430 [00:07<05:03,  1.39it/s]"
     ]
    },
    {
     "name": "stdout",
     "output_type": "stream",
     "text": [
      "Crawl comment page 1 success!!!\n",
      "Crawl comment for product 276440258\n",
      "Crawl comment page 0 success!!!\n"
     ]
    },
    {
     "name": "stderr",
     "output_type": "stream",
     "text": [
      "  2%|▏         | 9/430 [00:08<05:02,  1.39it/s]"
     ]
    },
    {
     "name": "stdout",
     "output_type": "stream",
     "text": [
      "Crawl comment page 1 success!!!\n",
      "Crawl comment for product 276308169\n",
      "Crawl comment page 0 success!!!\n"
     ]
    },
    {
     "name": "stderr",
     "output_type": "stream",
     "text": [
      "  2%|▏         | 10/430 [00:09<05:37,  1.24it/s]"
     ]
    },
    {
     "name": "stdout",
     "output_type": "stream",
     "text": [
      "Crawl comment page 1 success!!!\n",
      "Crawl comment for product 275256191\n",
      "Crawl comment page 0 success!!!\n"
     ]
    },
    {
     "name": "stderr",
     "output_type": "stream",
     "text": [
      "  3%|▎         | 11/430 [00:10<05:36,  1.25it/s]"
     ]
    },
    {
     "name": "stdout",
     "output_type": "stream",
     "text": [
      "Crawl comment page 1 success!!!\n",
      "Crawl comment for product 201040328\n",
      "Crawl comment page 0 success!!!\n"
     ]
    },
    {
     "name": "stderr",
     "output_type": "stream",
     "text": [
      "  3%|▎         | 12/430 [00:12<07:38,  1.10s/it]"
     ]
    },
    {
     "name": "stdout",
     "output_type": "stream",
     "text": [
      "Crawl comment page 1 success!!!\n",
      "Crawl comment for product 73124602\n",
      "Crawl comment page 0 success!!!\n"
     ]
    },
    {
     "name": "stderr",
     "output_type": "stream",
     "text": [
      "  3%|▎         | 13/430 [00:18<19:49,  2.85s/it]"
     ]
    },
    {
     "name": "stdout",
     "output_type": "stream",
     "text": [
      "Crawl comment page 1 success!!!\n",
      "Crawl comment for product 198458817\n",
      "Crawl comment page 0 success!!!\n"
     ]
    },
    {
     "name": "stderr",
     "output_type": "stream",
     "text": [
      "  3%|▎         | 14/430 [00:20<16:10,  2.33s/it]"
     ]
    },
    {
     "name": "stdout",
     "output_type": "stream",
     "text": [
      "Crawl comment page 1 success!!!\n",
      "Crawl comment for product 273624233\n",
      "Crawl comment page 0 success!!!\n"
     ]
    },
    {
     "name": "stderr",
     "output_type": "stream",
     "text": [
      "  3%|▎         | 15/430 [00:22<16:23,  2.37s/it]"
     ]
    },
    {
     "name": "stdout",
     "output_type": "stream",
     "text": [
      "Crawl comment page 1 success!!!\n",
      "Crawl comment for product 276121882\n"
     ]
    },
    {
     "name": "stderr",
     "output_type": "stream",
     "text": [
      "  4%|▎         | 16/430 [00:23<12:25,  1.80s/it]"
     ]
    },
    {
     "name": "stdout",
     "output_type": "stream",
     "text": [
      "Crawl comment page 0 success!!!\n",
      "Crawl comment page 1 success!!!\n",
      "Crawl comment for product 275892617\n",
      "Crawl comment page 0 success!!!\n"
     ]
    },
    {
     "name": "stderr",
     "output_type": "stream",
     "text": [
      "  4%|▍         | 17/430 [00:23<09:50,  1.43s/it]"
     ]
    },
    {
     "name": "stdout",
     "output_type": "stream",
     "text": [
      "Crawl comment page 1 success!!!\n",
      "Crawl comment for product 275598585\n",
      "Crawl comment page 0 success!!!\n"
     ]
    },
    {
     "name": "stderr",
     "output_type": "stream",
     "text": [
      "  4%|▍         | 18/430 [00:24<08:54,  1.30s/it]"
     ]
    },
    {
     "name": "stdout",
     "output_type": "stream",
     "text": [
      "Crawl comment page 1 success!!!\n",
      "Crawl comment for product 275570245\n",
      "Crawl comment page 0 success!!!\n"
     ]
    },
    {
     "name": "stderr",
     "output_type": "stream",
     "text": [
      "  4%|▍         | 19/430 [00:25<08:53,  1.30s/it]"
     ]
    },
    {
     "name": "stdout",
     "output_type": "stream",
     "text": [
      "Crawl comment page 1 success!!!\n",
      "Crawl comment for product 275570184\n",
      "Crawl comment page 0 success!!!\n"
     ]
    },
    {
     "name": "stderr",
     "output_type": "stream",
     "text": [
      "  5%|▍         | 20/430 [00:27<10:22,  1.52s/it]"
     ]
    },
    {
     "name": "stdout",
     "output_type": "stream",
     "text": [
      "Crawl comment page 1 success!!!\n",
      "Crawl comment for product 270494167\n",
      "Crawl comment page 0 success!!!\n"
     ]
    },
    {
     "name": "stderr",
     "output_type": "stream",
     "text": [
      "  5%|▍         | 21/430 [00:29<10:26,  1.53s/it]"
     ]
    },
    {
     "name": "stdout",
     "output_type": "stream",
     "text": [
      "Crawl comment page 1 success!!!\n",
      "Crawl comment for product 180378151\n",
      "Crawl comment page 0 success!!!\n"
     ]
    },
    {
     "name": "stderr",
     "output_type": "stream",
     "text": [
      "  5%|▌         | 22/430 [00:30<09:58,  1.47s/it]"
     ]
    },
    {
     "name": "stdout",
     "output_type": "stream",
     "text": [
      "Crawl comment page 1 success!!!\n",
      "Crawl comment for product 195111061\n",
      "Crawl comment page 0 success!!!\n"
     ]
    },
    {
     "name": "stderr",
     "output_type": "stream",
     "text": [
      "  5%|▌         | 23/430 [00:32<10:14,  1.51s/it]"
     ]
    },
    {
     "name": "stdout",
     "output_type": "stream",
     "text": [
      "Crawl comment page 1 success!!!\n",
      "Crawl comment for product 99868980\n",
      "Crawl comment page 0 success!!!\n"
     ]
    },
    {
     "name": "stderr",
     "output_type": "stream",
     "text": [
      "  6%|▌         | 24/430 [00:34<11:03,  1.63s/it]"
     ]
    },
    {
     "name": "stdout",
     "output_type": "stream",
     "text": [
      "Crawl comment page 1 success!!!\n",
      "Crawl comment for product 71999227\n",
      "Crawl comment page 0 success!!!\n"
     ]
    },
    {
     "name": "stderr",
     "output_type": "stream",
     "text": [
      "  6%|▌         | 25/430 [00:35<09:32,  1.41s/it]"
     ]
    },
    {
     "name": "stdout",
     "output_type": "stream",
     "text": [
      "Crawl comment page 1 success!!!\n",
      "Crawl comment for product 275570183\n",
      "Crawl comment page 0 success!!!\n"
     ]
    },
    {
     "name": "stderr",
     "output_type": "stream",
     "text": [
      "  6%|▌         | 26/430 [00:37<11:12,  1.67s/it]"
     ]
    },
    {
     "name": "stdout",
     "output_type": "stream",
     "text": [
      "Crawl comment page 1 success!!!\n",
      "Crawl comment for product 275511640\n",
      "Crawl comment page 0 success!!!\n"
     ]
    },
    {
     "name": "stderr",
     "output_type": "stream",
     "text": [
      "  6%|▋         | 27/430 [00:39<12:22,  1.84s/it]"
     ]
    },
    {
     "name": "stdout",
     "output_type": "stream",
     "text": [
      "Crawl comment page 1 success!!!\n",
      "Crawl comment for product 275381161\n",
      "Crawl comment page 0 success!!!\n"
     ]
    },
    {
     "name": "stderr",
     "output_type": "stream",
     "text": [
      "  7%|▋         | 28/430 [00:40<09:48,  1.46s/it]"
     ]
    },
    {
     "name": "stdout",
     "output_type": "stream",
     "text": [
      "Crawl comment page 1 success!!!\n",
      "Crawl comment for product 274957619\n",
      "Crawl comment page 0 success!!!\n"
     ]
    },
    {
     "name": "stderr",
     "output_type": "stream",
     "text": [
      "  7%|▋         | 29/430 [00:42<11:17,  1.69s/it]"
     ]
    },
    {
     "name": "stdout",
     "output_type": "stream",
     "text": [
      "Crawl comment page 1 success!!!\n",
      "Crawl comment for product 274461464\n",
      "Crawl comment page 0 success!!!\n"
     ]
    },
    {
     "name": "stderr",
     "output_type": "stream",
     "text": [
      "  7%|▋         | 30/430 [00:43<08:57,  1.34s/it]"
     ]
    },
    {
     "name": "stdout",
     "output_type": "stream",
     "text": [
      "Crawl comment page 1 success!!!\n",
      "Crawl comment for product 274067035\n",
      "Crawl comment page 0 success!!!\n"
     ]
    },
    {
     "name": "stderr",
     "output_type": "stream",
     "text": [
      "  7%|▋         | 31/430 [00:45<10:54,  1.64s/it]"
     ]
    },
    {
     "name": "stdout",
     "output_type": "stream",
     "text": [
      "Crawl comment page 1 success!!!\n",
      "Crawl comment for product 274067031\n",
      "Crawl comment page 0 success!!!\n"
     ]
    },
    {
     "name": "stderr",
     "output_type": "stream",
     "text": [
      "  7%|▋         | 32/430 [00:47<11:56,  1.80s/it]"
     ]
    },
    {
     "name": "stdout",
     "output_type": "stream",
     "text": [
      "Crawl comment page 1 success!!!\n",
      "Crawl comment for product 273901995\n",
      "Crawl comment page 0 success!!!\n"
     ]
    },
    {
     "name": "stderr",
     "output_type": "stream",
     "text": [
      "  8%|▊         | 33/430 [00:51<15:18,  2.31s/it]"
     ]
    },
    {
     "name": "stdout",
     "output_type": "stream",
     "text": [
      "Crawl comment page 1 success!!!\n",
      "Crawl comment for product 272553066\n",
      "Crawl comment page 0 success!!!\n"
     ]
    },
    {
     "name": "stderr",
     "output_type": "stream",
     "text": [
      "  8%|▊         | 34/430 [00:51<11:38,  1.76s/it]"
     ]
    },
    {
     "name": "stdout",
     "output_type": "stream",
     "text": [
      "Crawl comment page 1 success!!!\n",
      "Crawl comment for product 205290287\n",
      "Crawl comment page 0 success!!!\n"
     ]
    },
    {
     "name": "stderr",
     "output_type": "stream",
     "text": [
      "  8%|▊         | 35/430 [00:53<11:06,  1.69s/it]"
     ]
    },
    {
     "name": "stdout",
     "output_type": "stream",
     "text": [
      "Crawl comment page 1 success!!!\n",
      "Crawl comment for product 201040328\n",
      "Crawl comment page 0 success!!!\n"
     ]
    },
    {
     "name": "stderr",
     "output_type": "stream",
     "text": [
      "  8%|▊         | 36/430 [00:55<11:41,  1.78s/it]"
     ]
    },
    {
     "name": "stdout",
     "output_type": "stream",
     "text": [
      "Crawl comment page 1 success!!!\n",
      "Crawl comment for product 200521340\n",
      "Crawl comment page 0 success!!!\n"
     ]
    },
    {
     "name": "stderr",
     "output_type": "stream",
     "text": [
      "  9%|▊         | 37/430 [00:55<08:50,  1.35s/it]"
     ]
    },
    {
     "name": "stdout",
     "output_type": "stream",
     "text": [
      "Crawl comment page 1 success!!!\n",
      "Crawl comment for product 191506484\n",
      "Crawl comment page 0 success!!!\n"
     ]
    },
    {
     "name": "stderr",
     "output_type": "stream",
     "text": [
      "  9%|▉         | 38/430 [00:57<10:03,  1.54s/it]"
     ]
    },
    {
     "name": "stdout",
     "output_type": "stream",
     "text": [
      "Crawl comment page 1 success!!!\n",
      "Crawl comment for product 191326389\n",
      "Crawl comment page 0 success!!!\n"
     ]
    },
    {
     "name": "stderr",
     "output_type": "stream",
     "text": [
      "  9%|▉         | 39/430 [00:58<09:39,  1.48s/it]"
     ]
    },
    {
     "name": "stdout",
     "output_type": "stream",
     "text": [
      "Crawl comment page 1 success!!!\n",
      "Crawl comment for product 186557908\n",
      "Crawl comment page 0 success!!!\n"
     ]
    },
    {
     "name": "stderr",
     "output_type": "stream",
     "text": [
      "  9%|▉         | 40/430 [00:59<08:22,  1.29s/it]"
     ]
    },
    {
     "name": "stdout",
     "output_type": "stream",
     "text": [
      "Crawl comment page 1 success!!!\n",
      "Crawl comment for product 176310043\n",
      "Crawl comment page 0 success!!!\n"
     ]
    },
    {
     "name": "stderr",
     "output_type": "stream",
     "text": [
      " 10%|▉         | 41/430 [00:59<06:32,  1.01s/it]"
     ]
    },
    {
     "name": "stdout",
     "output_type": "stream",
     "text": [
      "Crawl comment page 1 success!!!\n",
      "Crawl comment for product 176309243\n",
      "Crawl comment page 0 success!!!\n"
     ]
    },
    {
     "name": "stderr",
     "output_type": "stream",
     "text": [
      " 10%|▉         | 42/430 [01:00<06:07,  1.06it/s]"
     ]
    },
    {
     "name": "stdout",
     "output_type": "stream",
     "text": [
      "Crawl comment page 1 success!!!\n",
      "Crawl comment for product 170957130\n",
      "Crawl comment page 0 success!!!\n"
     ]
    },
    {
     "name": "stderr",
     "output_type": "stream",
     "text": [
      " 10%|█         | 43/430 [01:01<04:55,  1.31it/s]"
     ]
    },
    {
     "name": "stdout",
     "output_type": "stream",
     "text": [
      "Crawl comment page 1 success!!!\n",
      "Crawl comment for product 99868980\n",
      "Crawl comment page 0 success!!!\n"
     ]
    },
    {
     "name": "stderr",
     "output_type": "stream",
     "text": [
      " 10%|█         | 44/430 [01:02<06:21,  1.01it/s]"
     ]
    },
    {
     "name": "stdout",
     "output_type": "stream",
     "text": [
      "Crawl comment page 1 success!!!\n",
      "Crawl comment for product 83412126\n",
      "Crawl comment page 0 success!!!\n"
     ]
    },
    {
     "name": "stderr",
     "output_type": "stream",
     "text": [
      " 10%|█         | 45/430 [01:06<11:17,  1.76s/it]"
     ]
    },
    {
     "name": "stdout",
     "output_type": "stream",
     "text": [
      "Crawl comment page 1 success!!!\n",
      "Crawl comment for product 73124602\n",
      "Crawl comment page 0 success!!!\n"
     ]
    },
    {
     "name": "stderr",
     "output_type": "stream",
     "text": [
      " 11%|█         | 46/430 [01:07<11:20,  1.77s/it]"
     ]
    },
    {
     "name": "stdout",
     "output_type": "stream",
     "text": [
      "Crawl comment page 1 success!!!\n",
      "Crawl comment for product 71890908\n",
      "Crawl comment page 0 success!!!\n"
     ]
    },
    {
     "name": "stderr",
     "output_type": "stream",
     "text": [
      " 11%|█         | 47/430 [01:09<11:19,  1.77s/it]"
     ]
    },
    {
     "name": "stdout",
     "output_type": "stream",
     "text": [
      "Crawl comment page 1 success!!!\n",
      "Crawl comment for product 58357614\n",
      "Crawl comment page 0 success!!!\n"
     ]
    },
    {
     "name": "stderr",
     "output_type": "stream",
     "text": [
      " 11%|█         | 48/430 [01:11<10:49,  1.70s/it]"
     ]
    },
    {
     "name": "stdout",
     "output_type": "stream",
     "text": [
      "Crawl comment page 1 success!!!\n",
      "Crawl comment for product 57867023\n",
      "Crawl comment page 0 success!!!\n"
     ]
    },
    {
     "name": "stderr",
     "output_type": "stream",
     "text": [
      " 11%|█▏        | 49/430 [01:13<11:40,  1.84s/it]"
     ]
    },
    {
     "name": "stdout",
     "output_type": "stream",
     "text": [
      "Crawl comment page 1 success!!!\n",
      "Crawl comment for product 54133235\n",
      "Crawl comment page 0 success!!!\n"
     ]
    },
    {
     "name": "stderr",
     "output_type": "stream",
     "text": [
      " 12%|█▏        | 50/430 [01:14<10:37,  1.68s/it]"
     ]
    },
    {
     "name": "stdout",
     "output_type": "stream",
     "text": [
      "Crawl comment page 1 success!!!\n",
      "Crawl comment for product 53583472\n",
      "Crawl comment page 0 success!!!\n"
     ]
    },
    {
     "name": "stderr",
     "output_type": "stream",
     "text": [
      " 12%|█▏        | 51/430 [01:17<13:23,  2.12s/it]"
     ]
    },
    {
     "name": "stdout",
     "output_type": "stream",
     "text": [
      "Crawl comment page 1 success!!!\n",
      "Crawl comment for product 20036138\n",
      "Crawl comment page 0 success!!!\n"
     ]
    },
    {
     "name": "stderr",
     "output_type": "stream",
     "text": [
      " 12%|█▏        | 52/430 [01:18<11:25,  1.81s/it]"
     ]
    },
    {
     "name": "stdout",
     "output_type": "stream",
     "text": [
      "Crawl comment page 1 success!!!\n",
      "Crawl comment for product 17423771\n",
      "Crawl comment page 0 success!!!\n"
     ]
    },
    {
     "name": "stderr",
     "output_type": "stream",
     "text": [
      " 12%|█▏        | 53/430 [01:20<10:34,  1.68s/it]"
     ]
    },
    {
     "name": "stdout",
     "output_type": "stream",
     "text": [
      "Crawl comment page 1 success!!!\n",
      "Crawl comment for product 13445381\n",
      "Crawl comment page 0 success!!!\n"
     ]
    },
    {
     "name": "stderr",
     "output_type": "stream",
     "text": [
      " 13%|█▎        | 54/430 [01:21<09:12,  1.47s/it]"
     ]
    },
    {
     "name": "stdout",
     "output_type": "stream",
     "text": [
      "Crawl comment page 1 success!!!\n",
      "Crawl comment for product 6652303\n",
      "Crawl comment page 0 success!!!\n"
     ]
    },
    {
     "name": "stderr",
     "output_type": "stream",
     "text": [
      " 13%|█▎        | 55/430 [01:22<08:52,  1.42s/it]"
     ]
    },
    {
     "name": "stdout",
     "output_type": "stream",
     "text": [
      "Crawl comment page 1 success!!!\n",
      "Crawl comment for product 176309243\n",
      "Crawl comment page 0 success!!!\n"
     ]
    },
    {
     "name": "stderr",
     "output_type": "stream",
     "text": [
      " 13%|█▎        | 56/430 [01:23<07:20,  1.18s/it]"
     ]
    },
    {
     "name": "stdout",
     "output_type": "stream",
     "text": [
      "Crawl comment page 1 success!!!\n",
      "Crawl comment for product 195111057\n",
      "Crawl comment page 0 success!!!\n"
     ]
    },
    {
     "name": "stderr",
     "output_type": "stream",
     "text": [
      " 13%|█▎        | 57/430 [01:25<09:23,  1.51s/it]"
     ]
    },
    {
     "name": "stdout",
     "output_type": "stream",
     "text": [
      "Crawl comment page 1 success!!!\n",
      "Crawl comment for product 202805930\n",
      "Crawl comment page 0 success!!!\n"
     ]
    },
    {
     "name": "stderr",
     "output_type": "stream",
     "text": [
      " 13%|█▎        | 58/430 [01:27<10:34,  1.71s/it]"
     ]
    },
    {
     "name": "stdout",
     "output_type": "stream",
     "text": [
      "Crawl comment page 1 success!!!\n",
      "Crawl comment for product 180378151\n",
      "Crawl comment page 0 success!!!\n"
     ]
    },
    {
     "name": "stderr",
     "output_type": "stream",
     "text": [
      " 14%|█▎        | 59/430 [01:29<10:05,  1.63s/it]"
     ]
    },
    {
     "name": "stdout",
     "output_type": "stream",
     "text": [
      "Crawl comment page 1 success!!!\n",
      "Crawl comment for product 275627325\n",
      "Crawl comment page 0 success!!!\n"
     ]
    },
    {
     "name": "stderr",
     "output_type": "stream",
     "text": [
      " 14%|█▍        | 60/430 [01:29<07:28,  1.21s/it]"
     ]
    },
    {
     "name": "stdout",
     "output_type": "stream",
     "text": [
      "Crawl comment page 1 success!!!\n",
      "Crawl comment for product 277815074\n",
      "Crawl comment page 0 success!!!\n",
      "Crawl comment page 1 success!!!\n"
     ]
    },
    {
     "name": "stderr",
     "output_type": "stream",
     "text": [
      " 14%|█▍        | 61/430 [01:29<05:36,  1.10it/s]"
     ]
    },
    {
     "name": "stdout",
     "output_type": "stream",
     "text": [
      "Crawl comment for product 277740569\n",
      "Crawl comment page 0 success!!!\n"
     ]
    },
    {
     "name": "stderr",
     "output_type": "stream",
     "text": [
      " 14%|█▍        | 62/430 [01:29<04:22,  1.40it/s]"
     ]
    },
    {
     "name": "stdout",
     "output_type": "stream",
     "text": [
      "Crawl comment page 1 success!!!\n",
      "Crawl comment for product 277313146\n",
      "Crawl comment page 0 success!!!\n"
     ]
    },
    {
     "name": "stderr",
     "output_type": "stream",
     "text": [
      " 15%|█▍        | 63/430 [01:30<03:31,  1.73it/s]"
     ]
    },
    {
     "name": "stdout",
     "output_type": "stream",
     "text": [
      "Crawl comment page 1 success!!!\n",
      "Crawl comment for product 276615035\n",
      "Crawl comment page 0 success!!!\n"
     ]
    },
    {
     "name": "stderr",
     "output_type": "stream",
     "text": [
      " 15%|█▍        | 64/430 [01:30<03:09,  1.93it/s]"
     ]
    },
    {
     "name": "stdout",
     "output_type": "stream",
     "text": [
      "Crawl comment page 1 success!!!\n",
      "Crawl comment for product 276500315\n",
      "Crawl comment page 0 success!!!\n"
     ]
    },
    {
     "name": "stderr",
     "output_type": "stream",
     "text": [
      " 15%|█▌        | 65/430 [01:30<02:45,  2.21it/s]"
     ]
    },
    {
     "name": "stdout",
     "output_type": "stream",
     "text": [
      "Crawl comment page 1 success!!!\n",
      "Crawl comment for product 207478015\n",
      "Crawl comment page 0 success!!!\n"
     ]
    },
    {
     "name": "stderr",
     "output_type": "stream",
     "text": [
      " 15%|█▌        | 66/430 [01:31<02:20,  2.59it/s]"
     ]
    },
    {
     "name": "stdout",
     "output_type": "stream",
     "text": [
      "Crawl comment page 1 success!!!\n",
      "Crawl comment for product 275627576\n",
      "Crawl comment page 0 success!!!\n"
     ]
    },
    {
     "name": "stderr",
     "output_type": "stream",
     "text": [
      " 16%|█▌        | 67/430 [01:31<02:03,  2.94it/s]"
     ]
    },
    {
     "name": "stdout",
     "output_type": "stream",
     "text": [
      "Crawl comment page 1 success!!!\n",
      "Crawl comment for product 275627108\n",
      "Crawl comment page 0 success!!!\n"
     ]
    },
    {
     "name": "stderr",
     "output_type": "stream",
     "text": [
      " 16%|█▌        | 68/430 [01:31<01:57,  3.09it/s]"
     ]
    },
    {
     "name": "stdout",
     "output_type": "stream",
     "text": [
      "Crawl comment page 1 success!!!\n",
      "Crawl comment for product 275627558\n",
      "Crawl comment page 0 success!!!\n"
     ]
    },
    {
     "name": "stderr",
     "output_type": "stream",
     "text": [
      " 16%|█▌        | 69/430 [01:31<01:47,  3.37it/s]"
     ]
    },
    {
     "name": "stdout",
     "output_type": "stream",
     "text": [
      "Crawl comment page 1 success!!!\n",
      "Crawl comment for product 276120162\n",
      "Crawl comment page 0 success!!!\n"
     ]
    },
    {
     "name": "stderr",
     "output_type": "stream",
     "text": [
      " 16%|█▋        | 70/430 [01:34<05:36,  1.07it/s]"
     ]
    },
    {
     "name": "stdout",
     "output_type": "stream",
     "text": [
      "Crawl comment page 1 success!!!\n",
      "Crawl comment for product 276440317\n",
      "Crawl comment page 0 success!!!\n"
     ]
    },
    {
     "name": "stderr",
     "output_type": "stream",
     "text": [
      " 17%|█▋        | 71/430 [01:34<04:33,  1.31it/s]"
     ]
    },
    {
     "name": "stdout",
     "output_type": "stream",
     "text": [
      "Crawl comment page 1 success!!!\n",
      "Crawl comment for product 276415594\n",
      "Crawl comment page 0 success!!!\n"
     ]
    },
    {
     "name": "stderr",
     "output_type": "stream",
     "text": [
      " 17%|█▋        | 72/430 [01:34<03:34,  1.67it/s]"
     ]
    },
    {
     "name": "stdout",
     "output_type": "stream",
     "text": [
      "Crawl comment page 1 success!!!\n",
      "Crawl comment for product 276016000\n",
      "Crawl comment page 0 success!!!\n"
     ]
    },
    {
     "name": "stderr",
     "output_type": "stream",
     "text": [
      " 17%|█▋        | 73/430 [01:35<02:59,  1.99it/s]"
     ]
    },
    {
     "name": "stdout",
     "output_type": "stream",
     "text": [
      "Crawl comment page 1 success!!!\n",
      "Crawl comment for product 275367488\n",
      "Crawl comment page 0 success!!!\n"
     ]
    },
    {
     "name": "stderr",
     "output_type": "stream",
     "text": [
      " 17%|█▋        | 74/430 [01:36<04:24,  1.35it/s]"
     ]
    },
    {
     "name": "stdout",
     "output_type": "stream",
     "text": [
      "Crawl comment page 1 success!!!\n",
      "Crawl comment for product 275287501\n",
      "Crawl comment page 0 success!!!\n"
     ]
    },
    {
     "name": "stderr",
     "output_type": "stream",
     "text": [
      " 17%|█▋        | 75/430 [01:36<03:45,  1.57it/s]"
     ]
    },
    {
     "name": "stdout",
     "output_type": "stream",
     "text": [
      "Crawl comment page 1 success!!!\n",
      "Crawl comment for product 250931469\n"
     ]
    },
    {
     "name": "stderr",
     "output_type": "stream",
     "text": [
      " 18%|█▊        | 76/430 [01:37<03:24,  1.73it/s]"
     ]
    },
    {
     "name": "stdout",
     "output_type": "stream",
     "text": [
      "Crawl comment page 0 success!!!\n",
      "Crawl comment page 1 success!!!\n",
      "Crawl comment for product 195109412\n",
      "Crawl comment page 0 success!!!\n"
     ]
    },
    {
     "name": "stderr",
     "output_type": "stream",
     "text": [
      " 18%|█▊        | 77/430 [01:38<05:28,  1.07it/s]"
     ]
    },
    {
     "name": "stdout",
     "output_type": "stream",
     "text": [
      "Crawl comment page 1 success!!!\n",
      "Crawl comment for product 276478995\n",
      "Crawl comment page 0 success!!!\n"
     ]
    },
    {
     "name": "stderr",
     "output_type": "stream",
     "text": [
      " 18%|█▊        | 78/430 [01:39<04:20,  1.35it/s]"
     ]
    },
    {
     "name": "stdout",
     "output_type": "stream",
     "text": [
      "Crawl comment page 1 success!!!\n",
      "Crawl comment for product 275058873\n",
      "Crawl comment page 0 success!!!\n"
     ]
    },
    {
     "name": "stderr",
     "output_type": "stream",
     "text": [
      " 18%|█▊        | 79/430 [01:41<07:41,  1.32s/it]"
     ]
    },
    {
     "name": "stdout",
     "output_type": "stream",
     "text": [
      "Crawl comment page 1 success!!!\n",
      "Crawl comment for product 5146283\n",
      "Crawl comment page 0 success!!!\n"
     ]
    },
    {
     "name": "stderr",
     "output_type": "stream",
     "text": [
      " 19%|█▊        | 80/430 [01:43<07:42,  1.32s/it]"
     ]
    },
    {
     "name": "stdout",
     "output_type": "stream",
     "text": [
      "Crawl comment page 1 success!!!\n",
      "Crawl comment for product 275242547\n",
      "Crawl comment page 0 success!!!\n"
     ]
    },
    {
     "name": "stderr",
     "output_type": "stream",
     "text": [
      " 19%|█▉        | 81/430 [01:43<06:26,  1.11s/it]"
     ]
    },
    {
     "name": "stdout",
     "output_type": "stream",
     "text": [
      "Crawl comment page 1 success!!!\n",
      "Crawl comment for product 275224128\n",
      "Crawl comment page 0 success!!!\n"
     ]
    },
    {
     "name": "stderr",
     "output_type": "stream",
     "text": [
      " 19%|█▉        | 82/430 [01:45<06:47,  1.17s/it]"
     ]
    },
    {
     "name": "stdout",
     "output_type": "stream",
     "text": [
      "Crawl comment page 1 success!!!\n",
      "Crawl comment for product 274672757\n",
      "Crawl comment page 0 success!!!\n"
     ]
    },
    {
     "name": "stderr",
     "output_type": "stream",
     "text": [
      " 19%|█▉        | 83/430 [01:45<05:22,  1.08it/s]"
     ]
    },
    {
     "name": "stdout",
     "output_type": "stream",
     "text": [
      "Crawl comment page 1 success!!!\n",
      "Crawl comment for product 274462107\n",
      "Crawl comment page 0 success!!!\n"
     ]
    },
    {
     "name": "stderr",
     "output_type": "stream",
     "text": [
      " 20%|█▉        | 84/430 [01:46<05:33,  1.04it/s]"
     ]
    },
    {
     "name": "stdout",
     "output_type": "stream",
     "text": [
      "Crawl comment page 1 success!!!\n",
      "Crawl comment for product 274414442\n",
      "Crawl comment page 0 success!!!\n"
     ]
    },
    {
     "name": "stderr",
     "output_type": "stream",
     "text": [
      " 20%|█▉        | 85/430 [01:46<04:23,  1.31it/s]"
     ]
    },
    {
     "name": "stdout",
     "output_type": "stream",
     "text": [
      "Crawl comment page 1 success!!!\n",
      "Crawl comment for product 272484839\n",
      "Crawl comment page 0 success!!!\n"
     ]
    },
    {
     "name": "stderr",
     "output_type": "stream",
     "text": [
      " 20%|██        | 86/430 [01:47<04:26,  1.29it/s]"
     ]
    },
    {
     "name": "stdout",
     "output_type": "stream",
     "text": [
      "Crawl comment page 1 success!!!\n",
      "Crawl comment for product 271123700\n",
      "Crawl comment page 0 success!!!\n"
     ]
    },
    {
     "name": "stderr",
     "output_type": "stream",
     "text": [
      " 20%|██        | 87/430 [01:50<07:51,  1.37s/it]"
     ]
    },
    {
     "name": "stdout",
     "output_type": "stream",
     "text": [
      "Crawl comment page 1 success!!!\n",
      "Crawl comment for product 270462666\n",
      "Crawl comment page 0 success!!!\n"
     ]
    },
    {
     "name": "stderr",
     "output_type": "stream",
     "text": [
      " 20%|██        | 88/430 [01:53<10:05,  1.77s/it]"
     ]
    },
    {
     "name": "stdout",
     "output_type": "stream",
     "text": [
      "Crawl comment page 1 success!!!\n",
      "Crawl comment for product 263239679\n",
      "Crawl comment page 0 success!!!\n"
     ]
    },
    {
     "name": "stderr",
     "output_type": "stream",
     "text": [
      " 21%|██        | 89/430 [01:53<07:59,  1.41s/it]"
     ]
    },
    {
     "name": "stdout",
     "output_type": "stream",
     "text": [
      "Crawl comment page 1 success!!!\n",
      "Crawl comment for product 213860137\n",
      "Crawl comment page 0 success!!!\n"
     ]
    },
    {
     "name": "stderr",
     "output_type": "stream",
     "text": [
      " 21%|██        | 90/430 [01:54<06:35,  1.16s/it]"
     ]
    },
    {
     "name": "stdout",
     "output_type": "stream",
     "text": [
      "Crawl comment page 1 success!!!\n",
      "Crawl comment for product 202805930\n",
      "Crawl comment page 0 success!!!\n"
     ]
    },
    {
     "name": "stderr",
     "output_type": "stream",
     "text": [
      " 21%|██        | 91/430 [01:56<07:47,  1.38s/it]"
     ]
    },
    {
     "name": "stdout",
     "output_type": "stream",
     "text": [
      "Crawl comment page 1 success!!!\n",
      "Crawl comment for product 199638326\n",
      "Crawl comment page 0 success!!!\n"
     ]
    },
    {
     "name": "stderr",
     "output_type": "stream",
     "text": [
      " 21%|██▏       | 92/430 [01:58<09:42,  1.72s/it]"
     ]
    },
    {
     "name": "stdout",
     "output_type": "stream",
     "text": [
      "Crawl comment page 1 success!!!\n",
      "Crawl comment for product 197571724\n",
      "Crawl comment page 0 success!!!\n"
     ]
    },
    {
     "name": "stderr",
     "output_type": "stream",
     "text": [
      " 22%|██▏       | 93/430 [01:59<07:43,  1.38s/it]"
     ]
    },
    {
     "name": "stdout",
     "output_type": "stream",
     "text": [
      "Crawl comment page 1 success!!!\n",
      "Crawl comment for product 197157654\n",
      "Crawl comment page 0 success!!!\n"
     ]
    },
    {
     "name": "stderr",
     "output_type": "stream",
     "text": [
      " 22%|██▏       | 94/430 [02:01<09:00,  1.61s/it]"
     ]
    },
    {
     "name": "stdout",
     "output_type": "stream",
     "text": [
      "Crawl comment page 1 success!!!\n",
      "Crawl comment for product 195111057\n",
      "Crawl comment page 0 success!!!\n"
     ]
    },
    {
     "name": "stderr",
     "output_type": "stream",
     "text": [
      " 22%|██▏       | 95/430 [02:03<09:48,  1.76s/it]"
     ]
    },
    {
     "name": "stdout",
     "output_type": "stream",
     "text": [
      "Crawl comment page 1 success!!!\n",
      "Crawl comment for product 191891580\n",
      "Crawl comment page 0 success!!!\n"
     ]
    },
    {
     "name": "stderr",
     "output_type": "stream",
     "text": [
      " 22%|██▏       | 96/430 [02:05<10:09,  1.83s/it]"
     ]
    },
    {
     "name": "stdout",
     "output_type": "stream",
     "text": [
      "Crawl comment page 1 success!!!\n",
      "Crawl comment for product 165250908\n",
      "Crawl comment page 0 success!!!\n"
     ]
    },
    {
     "name": "stderr",
     "output_type": "stream",
     "text": [
      " 23%|██▎       | 97/430 [02:07<10:18,  1.86s/it]"
     ]
    },
    {
     "name": "stdout",
     "output_type": "stream",
     "text": [
      "Crawl comment page 1 success!!!\n",
      "Crawl comment for product 146432055\n",
      "Crawl comment page 0 success!!!\n"
     ]
    },
    {
     "name": "stderr",
     "output_type": "stream",
     "text": [
      " 23%|██▎       | 98/430 [02:08<08:15,  1.49s/it]"
     ]
    },
    {
     "name": "stdout",
     "output_type": "stream",
     "text": [
      "Crawl comment page 1 success!!!\n",
      "Crawl comment for product 137226640\n",
      "Crawl comment page 0 success!!!\n"
     ]
    },
    {
     "name": "stderr",
     "output_type": "stream",
     "text": [
      " 23%|██▎       | 99/430 [02:09<07:20,  1.33s/it]"
     ]
    },
    {
     "name": "stdout",
     "output_type": "stream",
     "text": [
      "Crawl comment page 1 success!!!\n",
      "Crawl comment for product 136313789\n",
      "Crawl comment page 0 success!!!\n"
     ]
    },
    {
     "name": "stderr",
     "output_type": "stream",
     "text": [
      " 23%|██▎       | 100/430 [02:09<06:17,  1.14s/it]"
     ]
    },
    {
     "name": "stdout",
     "output_type": "stream",
     "text": [
      "Crawl comment page 1 success!!!\n",
      "Crawl comment for product 124690968\n",
      "Crawl comment page 0 success!!!\n"
     ]
    },
    {
     "name": "stderr",
     "output_type": "stream",
     "text": [
      " 23%|██▎       | 101/430 [02:10<05:58,  1.09s/it]"
     ]
    },
    {
     "name": "stdout",
     "output_type": "stream",
     "text": [
      "Crawl comment page 1 success!!!\n",
      "Crawl comment for product 83397955\n",
      "Crawl comment page 0 success!!!\n"
     ]
    },
    {
     "name": "stderr",
     "output_type": "stream",
     "text": [
      " 24%|██▎       | 102/430 [02:11<05:13,  1.04it/s]"
     ]
    },
    {
     "name": "stdout",
     "output_type": "stream",
     "text": [
      "Crawl comment page 1 success!!!\n",
      "Crawl comment for product 73314528\n",
      "Crawl comment page 0 success!!!\n"
     ]
    },
    {
     "name": "stderr",
     "output_type": "stream",
     "text": [
      " 24%|██▍       | 103/430 [02:14<08:32,  1.57s/it]"
     ]
    },
    {
     "name": "stdout",
     "output_type": "stream",
     "text": [
      "Crawl comment page 1 success!!!\n",
      "Crawl comment for product 68187835\n",
      "Crawl comment page 0 success!!!\n"
     ]
    },
    {
     "name": "stderr",
     "output_type": "stream",
     "text": [
      " 24%|██▍       | 104/430 [02:15<07:14,  1.33s/it]"
     ]
    },
    {
     "name": "stdout",
     "output_type": "stream",
     "text": [
      "Crawl comment page 1 success!!!\n",
      "Crawl comment for product 54150594\n",
      "Crawl comment page 0 success!!!\n"
     ]
    },
    {
     "name": "stderr",
     "output_type": "stream",
     "text": [
      " 24%|██▍       | 105/430 [02:15<05:56,  1.10s/it]"
     ]
    },
    {
     "name": "stdout",
     "output_type": "stream",
     "text": [
      "Crawl comment page 1 success!!!\n",
      "Crawl comment for product 53789448\n",
      "Crawl comment page 0 success!!!\n"
     ]
    },
    {
     "name": "stderr",
     "output_type": "stream",
     "text": [
      " 25%|██▍       | 106/430 [02:19<10:57,  2.03s/it]"
     ]
    },
    {
     "name": "stdout",
     "output_type": "stream",
     "text": [
      "Crawl comment page 1 success!!!\n",
      "Crawl comment for product 46327991\n",
      "Crawl comment page 0 success!!!\n"
     ]
    },
    {
     "name": "stderr",
     "output_type": "stream",
     "text": [
      " 25%|██▍       | 107/430 [02:23<12:43,  2.36s/it]"
     ]
    },
    {
     "name": "stdout",
     "output_type": "stream",
     "text": [
      "Crawl comment page 1 success!!!\n",
      "Crawl comment for product 45300792\n",
      "Crawl comment page 0 success!!!\n"
     ]
    },
    {
     "name": "stderr",
     "output_type": "stream",
     "text": [
      " 25%|██▌       | 108/430 [02:26<14:13,  2.65s/it]"
     ]
    },
    {
     "name": "stdout",
     "output_type": "stream",
     "text": [
      "Crawl comment page 1 success!!!\n",
      "Crawl comment for product 14448546\n",
      "Crawl comment page 0 success!!!\n"
     ]
    },
    {
     "name": "stderr",
     "output_type": "stream",
     "text": [
      " 25%|██▌       | 109/430 [02:27<11:30,  2.15s/it]"
     ]
    },
    {
     "name": "stdout",
     "output_type": "stream",
     "text": [
      "Crawl comment page 1 success!!!\n",
      "Crawl comment for product 781987\n",
      "Crawl comment page 0 success!!!\n"
     ]
    },
    {
     "name": "stderr",
     "output_type": "stream",
     "text": [
      " 26%|██▌       | 110/430 [02:29<10:56,  2.05s/it]"
     ]
    },
    {
     "name": "stdout",
     "output_type": "stream",
     "text": [
      "Crawl comment page 1 success!!!\n",
      "Crawl comment for product 277541716\n",
      "Crawl comment page 0 success!!!\n"
     ]
    },
    {
     "name": "stderr",
     "output_type": "stream",
     "text": [
      " 26%|██▌       | 111/430 [02:29<08:08,  1.53s/it]"
     ]
    },
    {
     "name": "stdout",
     "output_type": "stream",
     "text": [
      "Crawl comment page 1 success!!!\n",
      "Crawl comment for product 277470438\n",
      "Crawl comment page 0 success!!!\n"
     ]
    },
    {
     "name": "stderr",
     "output_type": "stream",
     "text": [
      " 26%|██▌       | 112/430 [02:29<06:01,  1.14s/it]"
     ]
    },
    {
     "name": "stdout",
     "output_type": "stream",
     "text": [
      "Crawl comment page 1 success!!!\n",
      "Crawl comment for product 276962508\n",
      "Crawl comment page 0 success!!!\n"
     ]
    },
    {
     "name": "stderr",
     "output_type": "stream",
     "text": [
      " 26%|██▋       | 113/430 [02:31<06:39,  1.26s/it]"
     ]
    },
    {
     "name": "stdout",
     "output_type": "stream",
     "text": [
      "Crawl comment page 1 success!!!\n",
      "Crawl comment for product 276933642\n",
      "Crawl comment page 0 success!!!\n"
     ]
    },
    {
     "name": "stderr",
     "output_type": "stream",
     "text": [
      " 27%|██▋       | 114/430 [02:31<05:11,  1.01it/s]"
     ]
    },
    {
     "name": "stdout",
     "output_type": "stream",
     "text": [
      "Crawl comment page 1 success!!!\n",
      "Crawl comment for product 276504239\n",
      "Crawl comment page 0 success!!!\n"
     ]
    },
    {
     "name": "stderr",
     "output_type": "stream",
     "text": [
      " 27%|██▋       | 115/430 [02:31<04:05,  1.28it/s]"
     ]
    },
    {
     "name": "stdout",
     "output_type": "stream",
     "text": [
      "Crawl comment page 1 success!!!\n",
      "Crawl comment for product 276303964\n",
      "Crawl comment page 0 success!!!\n"
     ]
    },
    {
     "name": "stderr",
     "output_type": "stream",
     "text": [
      " 27%|██▋       | 116/430 [02:32<03:15,  1.60it/s]"
     ]
    },
    {
     "name": "stdout",
     "output_type": "stream",
     "text": [
      "Crawl comment page 1 success!!!\n",
      "Crawl comment for product 276296088\n",
      "Crawl comment page 0 success!!!\n"
     ]
    },
    {
     "name": "stderr",
     "output_type": "stream",
     "text": [
      " 27%|██▋       | 117/430 [02:32<02:42,  1.93it/s]"
     ]
    },
    {
     "name": "stdout",
     "output_type": "stream",
     "text": [
      "Crawl comment page 1 success!!!\n",
      "Crawl comment for product 276139377\n",
      "Crawl comment page 0 success!!!\n"
     ]
    },
    {
     "name": "stderr",
     "output_type": "stream",
     "text": [
      " 27%|██▋       | 118/430 [02:32<02:12,  2.36it/s]"
     ]
    },
    {
     "name": "stdout",
     "output_type": "stream",
     "text": [
      "Crawl comment page 1 success!!!\n",
      "Crawl comment for product 276015796\n",
      "Crawl comment page 0 success!!!\n"
     ]
    },
    {
     "name": "stderr",
     "output_type": "stream",
     "text": [
      " 28%|██▊       | 119/430 [02:33<02:37,  1.98it/s]"
     ]
    },
    {
     "name": "stdout",
     "output_type": "stream",
     "text": [
      "Crawl comment page 1 success!!!\n",
      "Crawl comment for product 275929238\n",
      "Crawl comment page 0 success!!!\n"
     ]
    },
    {
     "name": "stderr",
     "output_type": "stream",
     "text": [
      " 28%|██▊       | 120/430 [02:34<03:04,  1.68it/s]"
     ]
    },
    {
     "name": "stdout",
     "output_type": "stream",
     "text": [
      "Crawl comment page 1 success!!!\n",
      "Crawl comment for product 275529116\n",
      "Crawl comment page 0 success!!!\n"
     ]
    },
    {
     "name": "stderr",
     "output_type": "stream",
     "text": [
      " 28%|██▊       | 121/430 [02:34<02:32,  2.02it/s]"
     ]
    },
    {
     "name": "stdout",
     "output_type": "stream",
     "text": [
      "Crawl comment page 1 success!!!\n",
      "Crawl comment for product 275278125\n",
      "Crawl comment page 0 success!!!\n"
     ]
    },
    {
     "name": "stderr",
     "output_type": "stream",
     "text": [
      " 28%|██▊       | 122/430 [02:34<02:21,  2.18it/s]"
     ]
    },
    {
     "name": "stdout",
     "output_type": "stream",
     "text": [
      "Crawl comment page 1 success!!!\n",
      "Crawl comment for product 275261014\n",
      "Crawl comment page 0 success!!!\n"
     ]
    },
    {
     "name": "stderr",
     "output_type": "stream",
     "text": [
      " 29%|██▊       | 123/430 [02:35<02:31,  2.02it/s]"
     ]
    },
    {
     "name": "stdout",
     "output_type": "stream",
     "text": [
      "Crawl comment page 1 success!!!\n",
      "Crawl comment for product 275189108\n",
      "Crawl comment page 0 success!!!\n"
     ]
    },
    {
     "name": "stderr",
     "output_type": "stream",
     "text": [
      " 29%|██▉       | 124/430 [02:36<03:05,  1.65it/s]"
     ]
    },
    {
     "name": "stdout",
     "output_type": "stream",
     "text": [
      "Crawl comment page 1 success!!!\n",
      "Crawl comment for product 275129280\n",
      "Crawl comment page 0 success!!!\n"
     ]
    },
    {
     "name": "stderr",
     "output_type": "stream",
     "text": [
      " 29%|██▉       | 125/430 [02:36<02:32,  2.00it/s]"
     ]
    },
    {
     "name": "stdout",
     "output_type": "stream",
     "text": [
      "Crawl comment page 1 success!!!\n",
      "Crawl comment for product 274670978\n"
     ]
    },
    {
     "name": "stderr",
     "output_type": "stream",
     "text": [
      " 29%|██▉       | 126/430 [02:36<02:24,  2.10it/s]"
     ]
    },
    {
     "name": "stdout",
     "output_type": "stream",
     "text": [
      "Crawl comment page 0 success!!!\n",
      "Crawl comment page 1 success!!!\n",
      "Crawl comment for product 274508745\n",
      "Crawl comment page 0 success!!!\n"
     ]
    },
    {
     "name": "stderr",
     "output_type": "stream",
     "text": [
      " 30%|██▉       | 127/430 [02:37<02:11,  2.30it/s]"
     ]
    },
    {
     "name": "stdout",
     "output_type": "stream",
     "text": [
      "Crawl comment page 1 success!!!\n",
      "Crawl comment for product 273960517\n",
      "Crawl comment page 0 success!!!\n"
     ]
    },
    {
     "name": "stderr",
     "output_type": "stream",
     "text": [
      " 30%|██▉       | 128/430 [02:37<02:23,  2.11it/s]"
     ]
    },
    {
     "name": "stdout",
     "output_type": "stream",
     "text": [
      "Crawl comment page 1 success!!!\n",
      "Crawl comment for product 273582915\n"
     ]
    },
    {
     "name": "stderr",
     "output_type": "stream",
     "text": [
      " 30%|███       | 129/430 [02:38<02:16,  2.20it/s]"
     ]
    },
    {
     "name": "stdout",
     "output_type": "stream",
     "text": [
      "Crawl comment page 0 success!!!\n",
      "Crawl comment page 1 success!!!\n",
      "Crawl comment for product 269846183\n",
      "Crawl comment page 0 success!!!\n"
     ]
    },
    {
     "name": "stderr",
     "output_type": "stream",
     "text": [
      " 30%|███       | 130/430 [02:40<04:55,  1.02it/s]"
     ]
    },
    {
     "name": "stdout",
     "output_type": "stream",
     "text": [
      "Crawl comment page 1 success!!!\n",
      "Crawl comment for product 263630334\n",
      "Crawl comment page 0 success!!!\n"
     ]
    },
    {
     "name": "stderr",
     "output_type": "stream",
     "text": [
      " 30%|███       | 131/430 [02:40<04:11,  1.19it/s]"
     ]
    },
    {
     "name": "stdout",
     "output_type": "stream",
     "text": [
      "Crawl comment page 1 success!!!\n",
      "Crawl comment for product 263239686\n",
      "Crawl comment page 0 success!!!\n"
     ]
    },
    {
     "name": "stderr",
     "output_type": "stream",
     "text": [
      " 31%|███       | 132/430 [02:42<05:47,  1.17s/it]"
     ]
    },
    {
     "name": "stdout",
     "output_type": "stream",
     "text": [
      "Crawl comment page 1 success!!!\n",
      "Crawl comment for product 250468663\n",
      "Crawl comment page 0 success!!!\n"
     ]
    },
    {
     "name": "stderr",
     "output_type": "stream",
     "text": [
      " 31%|███       | 133/430 [02:43<05:04,  1.03s/it]"
     ]
    },
    {
     "name": "stdout",
     "output_type": "stream",
     "text": [
      "Crawl comment page 1 success!!!\n",
      "Crawl comment for product 249694552\n",
      "Crawl comment page 0 success!!!\n"
     ]
    },
    {
     "name": "stderr",
     "output_type": "stream",
     "text": [
      " 31%|███       | 134/430 [02:45<06:45,  1.37s/it]"
     ]
    },
    {
     "name": "stdout",
     "output_type": "stream",
     "text": [
      "Crawl comment page 1 success!!!\n",
      "Crawl comment for product 249646094\n",
      "Crawl comment page 0 success!!!\n"
     ]
    },
    {
     "name": "stderr",
     "output_type": "stream",
     "text": [
      " 31%|███▏      | 135/430 [02:45<05:05,  1.04s/it]"
     ]
    },
    {
     "name": "stdout",
     "output_type": "stream",
     "text": [
      "Crawl comment page 1 success!!!\n",
      "Crawl comment for product 249251804\n",
      "Crawl comment page 0 success!!!\n"
     ]
    },
    {
     "name": "stderr",
     "output_type": "stream",
     "text": [
      " 32%|███▏      | 136/430 [02:46<04:04,  1.20it/s]"
     ]
    },
    {
     "name": "stdout",
     "output_type": "stream",
     "text": [
      "Crawl comment page 1 success!!!\n",
      "Crawl comment for product 225191298\n",
      "Crawl comment page 0 success!!!\n"
     ]
    },
    {
     "name": "stderr",
     "output_type": "stream",
     "text": [
      " 32%|███▏      | 137/430 [02:46<03:49,  1.28it/s]"
     ]
    },
    {
     "name": "stdout",
     "output_type": "stream",
     "text": [
      "Crawl comment page 1 success!!!\n",
      "Crawl comment for product 221512663\n",
      "Crawl comment page 0 success!!!\n"
     ]
    },
    {
     "name": "stderr",
     "output_type": "stream",
     "text": [
      " 32%|███▏      | 138/430 [02:47<03:01,  1.61it/s]"
     ]
    },
    {
     "name": "stdout",
     "output_type": "stream",
     "text": [
      "Crawl comment page 1 success!!!\n",
      "Crawl comment for product 200634131\n",
      "Crawl comment page 0 success!!!\n"
     ]
    },
    {
     "name": "stderr",
     "output_type": "stream",
     "text": [
      " 32%|███▏      | 139/430 [02:47<03:02,  1.60it/s]"
     ]
    },
    {
     "name": "stdout",
     "output_type": "stream",
     "text": [
      "Crawl comment page 1 success!!!\n",
      "Crawl comment for product 197387569\n",
      "Crawl comment page 0 success!!!\n"
     ]
    },
    {
     "name": "stderr",
     "output_type": "stream",
     "text": [
      " 33%|███▎      | 140/430 [02:50<05:29,  1.14s/it]"
     ]
    },
    {
     "name": "stdout",
     "output_type": "stream",
     "text": [
      "Crawl comment page 1 success!!!\n",
      "Crawl comment for product 194816102\n",
      "Crawl comment page 0 success!!!\n"
     ]
    },
    {
     "name": "stderr",
     "output_type": "stream",
     "text": [
      " 33%|███▎      | 141/430 [02:50<04:41,  1.03it/s]"
     ]
    },
    {
     "name": "stdout",
     "output_type": "stream",
     "text": [
      "Crawl comment page 1 success!!!\n",
      "Crawl comment for product 185397220\n",
      "Crawl comment page 0 success!!!\n"
     ]
    },
    {
     "name": "stderr",
     "output_type": "stream",
     "text": [
      " 33%|███▎      | 142/430 [02:53<07:01,  1.46s/it]"
     ]
    },
    {
     "name": "stdout",
     "output_type": "stream",
     "text": [
      "Crawl comment page 1 success!!!\n",
      "Crawl comment for product 181361773\n",
      "Crawl comment page 0 success!!!\n"
     ]
    },
    {
     "name": "stderr",
     "output_type": "stream",
     "text": [
      " 33%|███▎      | 143/430 [02:54<05:56,  1.24s/it]"
     ]
    },
    {
     "name": "stdout",
     "output_type": "stream",
     "text": [
      "Crawl comment page 1 success!!!\n",
      "Crawl comment for product 176309410\n"
     ]
    },
    {
     "name": "stderr",
     "output_type": "stream",
     "text": [
      " 33%|███▎      | 144/430 [02:54<04:47,  1.00s/it]"
     ]
    },
    {
     "name": "stdout",
     "output_type": "stream",
     "text": [
      "Crawl comment page 0 success!!!\n",
      "Crawl comment page 1 success!!!\n",
      "Crawl comment for product 135220125\n",
      "Crawl comment page 0 success!!!\n"
     ]
    },
    {
     "name": "stderr",
     "output_type": "stream",
     "text": [
      " 34%|███▎      | 145/430 [02:57<08:08,  1.71s/it]"
     ]
    },
    {
     "name": "stdout",
     "output_type": "stream",
     "text": [
      "Crawl comment page 1 success!!!\n",
      "Crawl comment for product 130829751\n",
      "Crawl comment page 0 success!!!\n"
     ]
    },
    {
     "name": "stderr",
     "output_type": "stream",
     "text": [
      " 34%|███▍      | 146/430 [02:59<07:16,  1.54s/it]"
     ]
    },
    {
     "name": "stdout",
     "output_type": "stream",
     "text": [
      "Crawl comment page 1 success!!!\n",
      "Crawl comment for product 54682452\n",
      "Crawl comment page 0 success!!!\n"
     ]
    },
    {
     "name": "stderr",
     "output_type": "stream",
     "text": [
      " 34%|███▍      | 147/430 [03:00<07:19,  1.55s/it]"
     ]
    },
    {
     "name": "stdout",
     "output_type": "stream",
     "text": [
      "Crawl comment page 1 success!!!\n",
      "Crawl comment for product 52515896\n",
      "Crawl comment page 0 success!!!\n"
     ]
    },
    {
     "name": "stderr",
     "output_type": "stream",
     "text": [
      " 34%|███▍      | 148/430 [03:01<05:57,  1.27s/it]"
     ]
    },
    {
     "name": "stdout",
     "output_type": "stream",
     "text": [
      "Crawl comment page 1 success!!!\n",
      "Crawl comment for product 52416730\n",
      "Crawl comment page 0 success!!!\n"
     ]
    },
    {
     "name": "stderr",
     "output_type": "stream",
     "text": [
      " 35%|███▍      | 149/430 [03:02<06:24,  1.37s/it]"
     ]
    },
    {
     "name": "stdout",
     "output_type": "stream",
     "text": [
      "Crawl comment page 1 success!!!\n",
      "Crawl comment for product 2562977\n",
      "Crawl comment page 0 success!!!\n"
     ]
    },
    {
     "name": "stderr",
     "output_type": "stream",
     "text": [
      " 35%|███▍      | 150/430 [03:03<05:37,  1.21s/it]"
     ]
    },
    {
     "name": "stdout",
     "output_type": "stream",
     "text": [
      "Crawl comment page 1 success!!!\n",
      "Crawl comment for product 278022238\n",
      "Crawl comment page 0 success!!!\n"
     ]
    },
    {
     "name": "stderr",
     "output_type": "stream",
     "text": [
      " 35%|███▌      | 151/430 [03:03<04:16,  1.09it/s]"
     ]
    },
    {
     "name": "stdout",
     "output_type": "stream",
     "text": [
      "Crawl comment page 1 success!!!\n",
      "Crawl comment for product 277525338\n",
      "Crawl comment page 0 success!!!\n"
     ]
    },
    {
     "name": "stderr",
     "output_type": "stream",
     "text": [
      " 35%|███▌      | 152/430 [03:04<03:18,  1.40it/s]"
     ]
    },
    {
     "name": "stdout",
     "output_type": "stream",
     "text": [
      "Crawl comment page 1 success!!!\n",
      "Crawl comment for product 277523516\n",
      "Crawl comment page 0 success!!!\n"
     ]
    },
    {
     "name": "stderr",
     "output_type": "stream",
     "text": [
      " 36%|███▌      | 153/430 [03:04<02:37,  1.76it/s]"
     ]
    },
    {
     "name": "stdout",
     "output_type": "stream",
     "text": [
      "Crawl comment page 1 success!!!\n",
      "Crawl comment for product 277523420\n",
      "Crawl comment page 0 success!!!\n",
      "Crawl comment page 1 success!!!\n"
     ]
    },
    {
     "name": "stderr",
     "output_type": "stream",
     "text": [
      " 36%|███▌      | 154/430 [03:04<02:06,  2.18it/s]"
     ]
    },
    {
     "name": "stdout",
     "output_type": "stream",
     "text": [
      "Crawl comment for product 277438760\n",
      "Crawl comment page 0 success!!!\n"
     ]
    },
    {
     "name": "stderr",
     "output_type": "stream",
     "text": [
      " 36%|███▌      | 155/430 [03:04<01:47,  2.57it/s]"
     ]
    },
    {
     "name": "stdout",
     "output_type": "stream",
     "text": [
      "Crawl comment page 1 success!!!\n",
      "Crawl comment for product 276850057\n",
      "Crawl comment page 0 success!!!\n"
     ]
    },
    {
     "name": "stderr",
     "output_type": "stream",
     "text": [
      " 36%|███▋      | 156/430 [03:05<01:43,  2.65it/s]"
     ]
    },
    {
     "name": "stdout",
     "output_type": "stream",
     "text": [
      "Crawl comment page 1 success!!!\n",
      "Crawl comment for product 276747010\n",
      "Crawl comment page 0 success!!!\n"
     ]
    },
    {
     "name": "stderr",
     "output_type": "stream",
     "text": [
      " 37%|███▋      | 157/430 [03:05<01:37,  2.81it/s]"
     ]
    },
    {
     "name": "stdout",
     "output_type": "stream",
     "text": [
      "Crawl comment page 1 success!!!\n",
      "Crawl comment for product 276619353\n",
      "Crawl comment page 0 success!!!\n"
     ]
    },
    {
     "name": "stderr",
     "output_type": "stream",
     "text": [
      " 37%|███▋      | 158/430 [03:05<01:29,  3.04it/s]"
     ]
    },
    {
     "name": "stdout",
     "output_type": "stream",
     "text": [
      "Crawl comment page 1 success!!!\n",
      "Crawl comment for product 275695264\n",
      "Crawl comment page 0 success!!!\n"
     ]
    },
    {
     "name": "stderr",
     "output_type": "stream",
     "text": [
      " 37%|███▋      | 159/430 [03:05<01:20,  3.38it/s]"
     ]
    },
    {
     "name": "stdout",
     "output_type": "stream",
     "text": [
      "Crawl comment page 1 success!!!\n",
      "Crawl comment for product 275405718\n",
      "Crawl comment page 0 success!!!\n"
     ]
    },
    {
     "name": "stderr",
     "output_type": "stream",
     "text": [
      " 37%|███▋      | 160/430 [03:06<01:39,  2.73it/s]"
     ]
    },
    {
     "name": "stdout",
     "output_type": "stream",
     "text": [
      "Crawl comment page 1 success!!!\n",
      "Crawl comment for product 275396744\n",
      "Crawl comment page 0 success!!!\n"
     ]
    },
    {
     "name": "stderr",
     "output_type": "stream",
     "text": [
      " 37%|███▋      | 161/430 [03:07<02:19,  1.93it/s]"
     ]
    },
    {
     "name": "stdout",
     "output_type": "stream",
     "text": [
      "Crawl comment page 1 success!!!\n",
      "Crawl comment for product 275079966\n",
      "Crawl comment page 0 success!!!\n"
     ]
    },
    {
     "name": "stderr",
     "output_type": "stream",
     "text": [
      " 38%|███▊      | 162/430 [03:07<01:55,  2.31it/s]"
     ]
    },
    {
     "name": "stdout",
     "output_type": "stream",
     "text": [
      "Crawl comment page 1 success!!!\n",
      "Crawl comment for product 274790393\n",
      "Crawl comment page 0 success!!!\n"
     ]
    },
    {
     "name": "stderr",
     "output_type": "stream",
     "text": [
      " 38%|███▊      | 163/430 [03:07<01:44,  2.54it/s]"
     ]
    },
    {
     "name": "stdout",
     "output_type": "stream",
     "text": [
      "Crawl comment page 1 success!!!\n",
      "Crawl comment for product 273979410\n",
      "Crawl comment page 0 success!!!\n"
     ]
    },
    {
     "name": "stderr",
     "output_type": "stream",
     "text": [
      " 38%|███▊      | 164/430 [03:08<02:23,  1.85it/s]"
     ]
    },
    {
     "name": "stdout",
     "output_type": "stream",
     "text": [
      "Crawl comment page 1 success!!!\n",
      "Crawl comment for product 273871624\n",
      "Crawl comment page 0 success!!!\n"
     ]
    },
    {
     "name": "stderr",
     "output_type": "stream",
     "text": [
      " 38%|███▊      | 165/430 [03:09<03:02,  1.45it/s]"
     ]
    },
    {
     "name": "stdout",
     "output_type": "stream",
     "text": [
      "Crawl comment page 1 success!!!\n",
      "Crawl comment for product 273157366\n",
      "Crawl comment page 0 success!!!\n"
     ]
    },
    {
     "name": "stderr",
     "output_type": "stream",
     "text": [
      " 39%|███▊      | 166/430 [03:10<03:03,  1.44it/s]"
     ]
    },
    {
     "name": "stdout",
     "output_type": "stream",
     "text": [
      "Crawl comment page 1 success!!!\n",
      "Crawl comment for product 272411943\n",
      "Crawl comment page 0 success!!!\n"
     ]
    },
    {
     "name": "stderr",
     "output_type": "stream",
     "text": [
      " 39%|███▉      | 167/430 [03:13<05:30,  1.25s/it]"
     ]
    },
    {
     "name": "stdout",
     "output_type": "stream",
     "text": [
      "Crawl comment page 1 success!!!\n",
      "Crawl comment for product 272245795\n",
      "Crawl comment page 0 success!!!\n"
     ]
    },
    {
     "name": "stderr",
     "output_type": "stream",
     "text": [
      " 39%|███▉      | 168/430 [03:13<04:09,  1.05it/s]"
     ]
    },
    {
     "name": "stdout",
     "output_type": "stream",
     "text": [
      "Crawl comment page 1 success!!!\n",
      "Crawl comment for product 252558394\n",
      "Crawl comment page 0 success!!!\n"
     ]
    },
    {
     "name": "stderr",
     "output_type": "stream",
     "text": [
      " 39%|███▉      | 169/430 [03:13<03:22,  1.29it/s]"
     ]
    },
    {
     "name": "stdout",
     "output_type": "stream",
     "text": [
      "Crawl comment page 1 success!!!\n",
      "Crawl comment for product 204662078\n",
      "Crawl comment page 0 success!!!\n"
     ]
    },
    {
     "name": "stderr",
     "output_type": "stream",
     "text": [
      " 40%|███▉      | 170/430 [03:14<02:48,  1.54it/s]"
     ]
    },
    {
     "name": "stdout",
     "output_type": "stream",
     "text": [
      "Crawl comment page 1 success!!!\n",
      "Crawl comment for product 201572327\n",
      "Crawl comment page 0 success!!!\n"
     ]
    },
    {
     "name": "stderr",
     "output_type": "stream",
     "text": [
      " 40%|███▉      | 171/430 [03:14<03:02,  1.42it/s]"
     ]
    },
    {
     "name": "stdout",
     "output_type": "stream",
     "text": [
      "Crawl comment page 1 success!!!\n",
      "Crawl comment for product 199167821\n",
      "Crawl comment page 0 success!!!\n"
     ]
    },
    {
     "name": "stderr",
     "output_type": "stream",
     "text": [
      " 40%|████      | 172/430 [03:16<03:52,  1.11it/s]"
     ]
    },
    {
     "name": "stdout",
     "output_type": "stream",
     "text": [
      "Crawl comment page 1 success!!!\n",
      "Crawl comment for product 194570463\n",
      "Crawl comment page 0 success!!!\n"
     ]
    },
    {
     "name": "stderr",
     "output_type": "stream",
     "text": [
      " 40%|████      | 173/430 [03:16<03:31,  1.21it/s]"
     ]
    },
    {
     "name": "stdout",
     "output_type": "stream",
     "text": [
      "Crawl comment page 1 success!!!\n",
      "Crawl comment for product 193542285\n",
      "Crawl comment page 0 success!!!\n"
     ]
    },
    {
     "name": "stderr",
     "output_type": "stream",
     "text": [
      " 40%|████      | 174/430 [03:17<03:23,  1.26it/s]"
     ]
    },
    {
     "name": "stdout",
     "output_type": "stream",
     "text": [
      "Crawl comment page 1 success!!!\n",
      "Crawl comment for product 190864699\n",
      "Crawl comment page 0 success!!!\n"
     ]
    },
    {
     "name": "stderr",
     "output_type": "stream",
     "text": [
      " 41%|████      | 175/430 [03:18<03:51,  1.10it/s]"
     ]
    },
    {
     "name": "stdout",
     "output_type": "stream",
     "text": [
      "Crawl comment page 1 success!!!\n",
      "Crawl comment for product 190702462\n",
      "Crawl comment page 0 success!!!\n"
     ]
    },
    {
     "name": "stderr",
     "output_type": "stream",
     "text": [
      " 41%|████      | 176/430 [03:21<05:58,  1.41s/it]"
     ]
    },
    {
     "name": "stdout",
     "output_type": "stream",
     "text": [
      "Crawl comment page 1 success!!!\n",
      "Crawl comment for product 189492088\n",
      "Crawl comment page 0 success!!!\n"
     ]
    },
    {
     "name": "stderr",
     "output_type": "stream",
     "text": [
      " 41%|████      | 177/430 [03:23<06:52,  1.63s/it]"
     ]
    },
    {
     "name": "stdout",
     "output_type": "stream",
     "text": [
      "Crawl comment page 1 success!!!\n",
      "Crawl comment for product 177481215\n",
      "Crawl comment page 0 success!!!\n"
     ]
    },
    {
     "name": "stderr",
     "output_type": "stream",
     "text": [
      " 41%|████▏     | 178/430 [03:24<05:31,  1.32s/it]"
     ]
    },
    {
     "name": "stdout",
     "output_type": "stream",
     "text": [
      "Crawl comment page 1 success!!!\n",
      "Crawl comment for product 148654134\n",
      "Crawl comment page 0 success!!!\n"
     ]
    },
    {
     "name": "stderr",
     "output_type": "stream",
     "text": [
      " 42%|████▏     | 179/430 [03:25<06:09,  1.47s/it]"
     ]
    },
    {
     "name": "stdout",
     "output_type": "stream",
     "text": [
      "Crawl comment page 1 success!!!\n",
      "Crawl comment for product 147078932\n",
      "Crawl comment page 0 success!!!\n"
     ]
    },
    {
     "name": "stderr",
     "output_type": "stream",
     "text": [
      " 42%|████▏     | 180/430 [03:26<04:37,  1.11s/it]"
     ]
    },
    {
     "name": "stdout",
     "output_type": "stream",
     "text": [
      "Crawl comment page 1 success!!!\n",
      "Crawl comment for product 129260830\n",
      "Crawl comment page 0 success!!!\n"
     ]
    },
    {
     "name": "stderr",
     "output_type": "stream",
     "text": [
      " 42%|████▏     | 181/430 [03:27<04:23,  1.06s/it]"
     ]
    },
    {
     "name": "stdout",
     "output_type": "stream",
     "text": [
      "Crawl comment page 1 success!!!\n",
      "Crawl comment for product 118013604\n",
      "Crawl comment page 0 success!!!\n"
     ]
    },
    {
     "name": "stderr",
     "output_type": "stream",
     "text": [
      " 42%|████▏     | 182/430 [03:29<06:30,  1.57s/it]"
     ]
    },
    {
     "name": "stdout",
     "output_type": "stream",
     "text": [
      "Crawl comment page 1 success!!!\n",
      "Crawl comment for product 117969725\n",
      "Crawl comment page 0 success!!!\n"
     ]
    },
    {
     "name": "stderr",
     "output_type": "stream",
     "text": [
      " 43%|████▎     | 183/430 [03:30<05:05,  1.24s/it]"
     ]
    },
    {
     "name": "stdout",
     "output_type": "stream",
     "text": [
      "Crawl comment page 1 success!!!\n",
      "Crawl comment for product 107713002\n",
      "Crawl comment page 0 success!!!\n"
     ]
    },
    {
     "name": "stderr",
     "output_type": "stream",
     "text": [
      " 43%|████▎     | 184/430 [03:32<05:36,  1.37s/it]"
     ]
    },
    {
     "name": "stdout",
     "output_type": "stream",
     "text": [
      "Crawl comment page 1 success!!!\n",
      "Crawl comment for product 107016473\n",
      "Crawl comment page 0 success!!!\n"
     ]
    },
    {
     "name": "stderr",
     "output_type": "stream",
     "text": [
      " 43%|████▎     | 185/430 [03:32<04:31,  1.11s/it]"
     ]
    },
    {
     "name": "stdout",
     "output_type": "stream",
     "text": [
      "Crawl comment page 1 success!!!\n",
      "Crawl comment for product 82458269\n",
      "Crawl comment page 0 success!!!\n"
     ]
    },
    {
     "name": "stderr",
     "output_type": "stream",
     "text": [
      " 43%|████▎     | 186/430 [03:33<03:55,  1.04it/s]"
     ]
    },
    {
     "name": "stdout",
     "output_type": "stream",
     "text": [
      "Crawl comment page 1 success!!!\n",
      "Crawl comment for product 68019350\n",
      "Crawl comment page 0 success!!!\n"
     ]
    },
    {
     "name": "stderr",
     "output_type": "stream",
     "text": [
      " 43%|████▎     | 187/430 [03:33<03:31,  1.15it/s]"
     ]
    },
    {
     "name": "stdout",
     "output_type": "stream",
     "text": [
      "Crawl comment page 1 success!!!\n",
      "Crawl comment for product 59412424\n",
      "Crawl comment page 0 success!!!\n"
     ]
    },
    {
     "name": "stderr",
     "output_type": "stream",
     "text": [
      " 44%|████▎     | 188/430 [03:34<03:29,  1.15it/s]"
     ]
    },
    {
     "name": "stdout",
     "output_type": "stream",
     "text": [
      "Crawl comment page 1 success!!!\n",
      "Crawl comment for product 38319237\n",
      "Crawl comment page 0 success!!!\n"
     ]
    },
    {
     "name": "stderr",
     "output_type": "stream",
     "text": [
      " 44%|████▍     | 189/430 [03:35<03:46,  1.06it/s]"
     ]
    },
    {
     "name": "stdout",
     "output_type": "stream",
     "text": [
      "Crawl comment page 1 success!!!\n",
      "Crawl comment for product 5023293\n",
      "Crawl comment page 0 success!!!\n"
     ]
    },
    {
     "name": "stderr",
     "output_type": "stream",
     "text": [
      " 44%|████▍     | 190/430 [03:36<03:34,  1.12it/s]"
     ]
    },
    {
     "name": "stdout",
     "output_type": "stream",
     "text": [
      "Crawl comment page 1 success!!!\n",
      "Crawl comment for product 278096592\n",
      "Crawl comment page 0 success!!!\n"
     ]
    },
    {
     "name": "stderr",
     "output_type": "stream",
     "text": [
      " 44%|████▍     | 191/430 [03:36<02:45,  1.44it/s]"
     ]
    },
    {
     "name": "stdout",
     "output_type": "stream",
     "text": [
      "Crawl comment page 1 success!!!\n",
      "Crawl comment for product 277468086\n",
      "Crawl comment page 0 success!!!\n"
     ]
    },
    {
     "name": "stderr",
     "output_type": "stream",
     "text": [
      " 45%|████▍     | 192/430 [03:37<02:16,  1.75it/s]"
     ]
    },
    {
     "name": "stdout",
     "output_type": "stream",
     "text": [
      "Crawl comment page 1 success!!!\n",
      "Crawl comment for product 277306388\n",
      "Crawl comment page 0 success!!!\n"
     ]
    },
    {
     "name": "stderr",
     "output_type": "stream",
     "text": [
      " 45%|████▍     | 193/430 [03:37<01:54,  2.07it/s]"
     ]
    },
    {
     "name": "stdout",
     "output_type": "stream",
     "text": [
      "Crawl comment page 1 success!!!\n",
      "Crawl comment for product 277026696\n",
      "Crawl comment page 0 success!!!\n"
     ]
    },
    {
     "name": "stderr",
     "output_type": "stream",
     "text": [
      " 45%|████▌     | 194/430 [03:37<01:40,  2.35it/s]"
     ]
    },
    {
     "name": "stdout",
     "output_type": "stream",
     "text": [
      "Crawl comment page 1 success!!!\n",
      "Crawl comment for product 276473934\n",
      "Crawl comment page 0 success!!!\n"
     ]
    },
    {
     "name": "stderr",
     "output_type": "stream",
     "text": [
      " 45%|████▌     | 195/430 [03:37<01:30,  2.61it/s]"
     ]
    },
    {
     "name": "stdout",
     "output_type": "stream",
     "text": [
      "Crawl comment page 1 success!!!\n",
      "Crawl comment for product 276296186\n",
      "Crawl comment page 0 success!!!\n"
     ]
    },
    {
     "name": "stderr",
     "output_type": "stream",
     "text": [
      " 46%|████▌     | 196/430 [03:38<01:21,  2.87it/s]"
     ]
    },
    {
     "name": "stdout",
     "output_type": "stream",
     "text": [
      "Crawl comment page 1 success!!!\n",
      "Crawl comment for product 276282164\n",
      "Crawl comment page 0 success!!!\n"
     ]
    },
    {
     "name": "stderr",
     "output_type": "stream",
     "text": [
      " 46%|████▌     | 197/430 [03:38<01:15,  3.10it/s]"
     ]
    },
    {
     "name": "stdout",
     "output_type": "stream",
     "text": [
      "Crawl comment page 1 success!!!\n",
      "Crawl comment for product 276190846\n",
      "Crawl comment page 0 success!!!\n"
     ]
    },
    {
     "name": "stderr",
     "output_type": "stream",
     "text": [
      " 46%|████▌     | 198/430 [03:38<01:09,  3.33it/s]"
     ]
    },
    {
     "name": "stdout",
     "output_type": "stream",
     "text": [
      "Crawl comment page 1 success!!!\n",
      "Crawl comment for product 275626193\n",
      "Crawl comment page 0 success!!!\n"
     ]
    },
    {
     "name": "stderr",
     "output_type": "stream",
     "text": [
      " 46%|████▋     | 199/430 [03:39<01:32,  2.50it/s]"
     ]
    },
    {
     "name": "stdout",
     "output_type": "stream",
     "text": [
      "Crawl comment page 1 success!!!\n",
      "Crawl comment for product 275467729\n",
      "Crawl comment page 0 success!!!\n"
     ]
    },
    {
     "name": "stderr",
     "output_type": "stream",
     "text": [
      " 47%|████▋     | 200/430 [03:40<02:20,  1.64it/s]"
     ]
    },
    {
     "name": "stdout",
     "output_type": "stream",
     "text": [
      "Crawl comment page 1 success!!!\n",
      "Crawl comment for product 275379130\n",
      "Crawl comment page 0 success!!!\n"
     ]
    },
    {
     "name": "stderr",
     "output_type": "stream",
     "text": [
      " 47%|████▋     | 201/430 [03:40<01:53,  2.02it/s]"
     ]
    },
    {
     "name": "stdout",
     "output_type": "stream",
     "text": [
      "Crawl comment page 1 success!!!\n",
      "Crawl comment for product 275324325\n",
      "Crawl comment page 0 success!!!\n"
     ]
    },
    {
     "name": "stderr",
     "output_type": "stream",
     "text": [
      " 47%|████▋     | 202/430 [03:40<01:34,  2.42it/s]"
     ]
    },
    {
     "name": "stdout",
     "output_type": "stream",
     "text": [
      "Crawl comment page 1 success!!!\n",
      "Crawl comment for product 274954065\n",
      "Crawl comment page 0 success!!!\n"
     ]
    },
    {
     "name": "stderr",
     "output_type": "stream",
     "text": [
      " 47%|████▋     | 203/430 [03:41<01:26,  2.61it/s]"
     ]
    },
    {
     "name": "stdout",
     "output_type": "stream",
     "text": [
      "Crawl comment page 1 success!!!\n",
      "Crawl comment for product 274910795\n",
      "Crawl comment page 0 success!!!\n"
     ]
    },
    {
     "name": "stderr",
     "output_type": "stream",
     "text": [
      " 47%|████▋     | 204/430 [03:42<01:58,  1.91it/s]"
     ]
    },
    {
     "name": "stdout",
     "output_type": "stream",
     "text": [
      "Crawl comment page 1 success!!!\n",
      "Crawl comment for product 272547502\n",
      "Crawl comment page 0 success!!!\n"
     ]
    },
    {
     "name": "stderr",
     "output_type": "stream",
     "text": [
      " 48%|████▊     | 205/430 [03:42<01:37,  2.31it/s]"
     ]
    },
    {
     "name": "stdout",
     "output_type": "stream",
     "text": [
      "Crawl comment page 1 success!!!\n",
      "Crawl comment for product 270255984\n",
      "Crawl comment page 0 success!!!\n"
     ]
    },
    {
     "name": "stderr",
     "output_type": "stream",
     "text": [
      " 48%|████▊     | 206/430 [03:42<01:30,  2.47it/s]"
     ]
    },
    {
     "name": "stdout",
     "output_type": "stream",
     "text": [
      "Crawl comment page 1 success!!!\n",
      "Crawl comment for product 262021963\n",
      "Crawl comment page 0 success!!!\n"
     ]
    },
    {
     "name": "stderr",
     "output_type": "stream",
     "text": [
      " 48%|████▊     | 207/430 [03:42<01:20,  2.77it/s]"
     ]
    },
    {
     "name": "stdout",
     "output_type": "stream",
     "text": [
      "Crawl comment page 1 success!!!\n",
      "Crawl comment for product 261822386\n",
      "Crawl comment page 0 success!!!\n"
     ]
    },
    {
     "name": "stderr",
     "output_type": "stream",
     "text": [
      " 48%|████▊     | 208/430 [03:43<01:14,  3.00it/s]"
     ]
    },
    {
     "name": "stdout",
     "output_type": "stream",
     "text": [
      "Crawl comment page 1 success!!!\n",
      "Crawl comment for product 253391105\n",
      "Crawl comment page 0 success!!!\n"
     ]
    },
    {
     "name": "stderr",
     "output_type": "stream",
     "text": [
      " 49%|████▊     | 209/430 [03:43<01:10,  3.14it/s]"
     ]
    },
    {
     "name": "stdout",
     "output_type": "stream",
     "text": [
      "Crawl comment page 1 success!!!\n",
      "Crawl comment for product 207005253\n",
      "Crawl comment page 0 success!!!\n"
     ]
    },
    {
     "name": "stderr",
     "output_type": "stream",
     "text": [
      " 49%|████▉     | 210/430 [03:43<01:05,  3.38it/s]"
     ]
    },
    {
     "name": "stdout",
     "output_type": "stream",
     "text": [
      "Crawl comment page 1 success!!!\n",
      "Crawl comment for product 198815370\n",
      "Crawl comment page 0 success!!!\n"
     ]
    },
    {
     "name": "stderr",
     "output_type": "stream",
     "text": [
      " 49%|████▉     | 211/430 [03:44<01:18,  2.78it/s]"
     ]
    },
    {
     "name": "stdout",
     "output_type": "stream",
     "text": [
      "Crawl comment page 1 success!!!\n",
      "Crawl comment for product 174489160\n",
      "Crawl comment page 0 success!!!\n"
     ]
    },
    {
     "name": "stderr",
     "output_type": "stream",
     "text": [
      " 49%|████▉     | 212/430 [03:44<01:18,  2.79it/s]"
     ]
    },
    {
     "name": "stdout",
     "output_type": "stream",
     "text": [
      "Crawl comment page 1 success!!!\n",
      "Crawl comment for product 171920545\n",
      "Crawl comment page 0 success!!!\n",
      "Crawl comment page 1 success!!!\n"
     ]
    },
    {
     "name": "stderr",
     "output_type": "stream",
     "text": [
      " 50%|████▉     | 213/430 [03:45<01:22,  2.62it/s]"
     ]
    },
    {
     "name": "stdout",
     "output_type": "stream",
     "text": [
      "Crawl comment for product 170443548\n",
      "Crawl comment page 0 success!!!\n"
     ]
    },
    {
     "name": "stderr",
     "output_type": "stream",
     "text": [
      " 50%|████▉     | 214/430 [03:46<02:24,  1.50it/s]"
     ]
    },
    {
     "name": "stdout",
     "output_type": "stream",
     "text": [
      "Crawl comment page 1 success!!!\n",
      "Crawl comment for product 168772145\n",
      "Crawl comment page 0 success!!!\n"
     ]
    },
    {
     "name": "stderr",
     "output_type": "stream",
     "text": [
      " 50%|█████     | 215/430 [03:46<02:12,  1.62it/s]"
     ]
    },
    {
     "name": "stdout",
     "output_type": "stream",
     "text": [
      "Crawl comment page 1 success!!!\n",
      "Crawl comment for product 163827070\n",
      "Crawl comment page 0 success!!!\n"
     ]
    },
    {
     "name": "stderr",
     "output_type": "stream",
     "text": [
      " 50%|█████     | 216/430 [03:47<02:12,  1.61it/s]"
     ]
    },
    {
     "name": "stdout",
     "output_type": "stream",
     "text": [
      "Crawl comment page 1 success!!!\n",
      "Crawl comment for product 150876895\n",
      "Crawl comment page 0 success!!!\n"
     ]
    },
    {
     "name": "stderr",
     "output_type": "stream",
     "text": [
      " 50%|█████     | 217/430 [03:47<01:49,  1.95it/s]"
     ]
    },
    {
     "name": "stdout",
     "output_type": "stream",
     "text": [
      "Crawl comment page 1 success!!!\n",
      "Crawl comment for product 121087197\n",
      "Crawl comment page 0 success!!!\n"
     ]
    },
    {
     "name": "stderr",
     "output_type": "stream",
     "text": [
      " 51%|█████     | 218/430 [03:48<01:43,  2.06it/s]"
     ]
    },
    {
     "name": "stdout",
     "output_type": "stream",
     "text": [
      "Crawl comment page 1 success!!!\n",
      "Crawl comment for product 113331630\n"
     ]
    },
    {
     "name": "stderr",
     "output_type": "stream",
     "text": [
      " 51%|█████     | 219/430 [03:48<01:40,  2.11it/s]"
     ]
    },
    {
     "name": "stdout",
     "output_type": "stream",
     "text": [
      "Crawl comment page 0 success!!!\n",
      "Crawl comment page 1 success!!!\n",
      "Crawl comment for product 106712605\n",
      "Crawl comment page 0 success!!!\n"
     ]
    },
    {
     "name": "stderr",
     "output_type": "stream",
     "text": [
      " 51%|█████     | 220/430 [03:49<01:36,  2.18it/s]"
     ]
    },
    {
     "name": "stdout",
     "output_type": "stream",
     "text": [
      "Crawl comment page 1 success!!!\n",
      "Crawl comment for product 95316281\n",
      "Crawl comment page 0 success!!!\n"
     ]
    },
    {
     "name": "stderr",
     "output_type": "stream",
     "text": [
      " 51%|█████▏    | 221/430 [03:49<01:41,  2.07it/s]"
     ]
    },
    {
     "name": "stdout",
     "output_type": "stream",
     "text": [
      "Crawl comment page 1 success!!!\n",
      "Crawl comment for product 88090783\n",
      "Crawl comment page 0 success!!!\n"
     ]
    },
    {
     "name": "stderr",
     "output_type": "stream",
     "text": [
      " 52%|█████▏    | 222/430 [03:49<01:34,  2.20it/s]"
     ]
    },
    {
     "name": "stdout",
     "output_type": "stream",
     "text": [
      "Crawl comment page 1 success!!!\n",
      "Crawl comment for product 83480720\n",
      "Crawl comment page 0 success!!!\n"
     ]
    },
    {
     "name": "stderr",
     "output_type": "stream",
     "text": [
      " 52%|█████▏    | 223/430 [03:51<02:14,  1.54it/s]"
     ]
    },
    {
     "name": "stdout",
     "output_type": "stream",
     "text": [
      "Crawl comment page 1 success!!!\n",
      "Crawl comment for product 77742109\n"
     ]
    },
    {
     "name": "stderr",
     "output_type": "stream",
     "text": [
      " 52%|█████▏    | 224/430 [03:51<01:59,  1.72it/s]"
     ]
    },
    {
     "name": "stdout",
     "output_type": "stream",
     "text": [
      "Crawl comment page 0 success!!!\n",
      "Crawl comment page 1 success!!!\n",
      "Crawl comment for product 57381339\n",
      "Crawl comment page 0 success!!!\n"
     ]
    },
    {
     "name": "stderr",
     "output_type": "stream",
     "text": [
      " 52%|█████▏    | 225/430 [03:52<02:17,  1.49it/s]"
     ]
    },
    {
     "name": "stdout",
     "output_type": "stream",
     "text": [
      "Crawl comment page 1 success!!!\n",
      "Crawl comment for product 56308226\n",
      "Crawl comment page 0 success!!!\n"
     ]
    },
    {
     "name": "stderr",
     "output_type": "stream",
     "text": [
      " 53%|█████▎    | 226/430 [03:53<02:34,  1.32it/s]"
     ]
    },
    {
     "name": "stdout",
     "output_type": "stream",
     "text": [
      "Crawl comment page 1 success!!!\n",
      "Crawl comment for product 48656066\n",
      "Crawl comment page 0 success!!!\n"
     ]
    },
    {
     "name": "stderr",
     "output_type": "stream",
     "text": [
      " 53%|█████▎    | 227/430 [03:53<02:25,  1.40it/s]"
     ]
    },
    {
     "name": "stdout",
     "output_type": "stream",
     "text": [
      "Crawl comment page 1 success!!!\n",
      "Crawl comment for product 27819095\n",
      "Crawl comment page 0 success!!!\n"
     ]
    },
    {
     "name": "stderr",
     "output_type": "stream",
     "text": [
      " 53%|█████▎    | 228/430 [03:56<04:32,  1.35s/it]"
     ]
    },
    {
     "name": "stdout",
     "output_type": "stream",
     "text": [
      "Crawl comment page 1 success!!!\n",
      "Crawl comment for product 23465027\n",
      "Crawl comment page 0 success!!!\n"
     ]
    },
    {
     "name": "stderr",
     "output_type": "stream",
     "text": [
      " 53%|█████▎    | 229/430 [04:01<08:09,  2.43s/it]"
     ]
    },
    {
     "name": "stdout",
     "output_type": "stream",
     "text": [
      "Crawl comment page 1 success!!!\n",
      "Crawl comment for product 3088227\n",
      "Crawl comment page 0 success!!!\n"
     ]
    },
    {
     "name": "stderr",
     "output_type": "stream",
     "text": [
      " 53%|█████▎    | 230/430 [04:02<06:26,  1.93s/it]"
     ]
    },
    {
     "name": "stdout",
     "output_type": "stream",
     "text": [
      "Crawl comment page 1 success!!!\n",
      "Crawl comment for product 277860817\n",
      "Crawl comment page 0 success!!!\n"
     ]
    },
    {
     "name": "stderr",
     "output_type": "stream",
     "text": [
      " 54%|█████▎    | 231/430 [04:02<04:43,  1.43s/it]"
     ]
    },
    {
     "name": "stdout",
     "output_type": "stream",
     "text": [
      "Crawl comment page 1 success!!!\n",
      "Crawl comment for product 277860805\n",
      "Crawl comment page 0 success!!!\n",
      "Crawl comment page 1 success!!!\n"
     ]
    },
    {
     "name": "stderr",
     "output_type": "stream",
     "text": [
      " 54%|█████▍    | 232/430 [04:02<03:30,  1.06s/it]"
     ]
    },
    {
     "name": "stdout",
     "output_type": "stream",
     "text": [
      "Crawl comment for product 277579129\n",
      "Crawl comment page 0 success!!!\n"
     ]
    },
    {
     "name": "stderr",
     "output_type": "stream",
     "text": [
      " 54%|█████▍    | 233/430 [04:03<02:41,  1.22it/s]"
     ]
    },
    {
     "name": "stdout",
     "output_type": "stream",
     "text": [
      "Crawl comment page 1 success!!!\n",
      "Crawl comment for product 277378901\n",
      "Crawl comment page 0 success!!!\n"
     ]
    },
    {
     "name": "stderr",
     "output_type": "stream",
     "text": [
      " 54%|█████▍    | 234/430 [04:03<02:06,  1.56it/s]"
     ]
    },
    {
     "name": "stdout",
     "output_type": "stream",
     "text": [
      "Crawl comment page 1 success!!!\n",
      "Crawl comment for product 276950021\n",
      "Crawl comment page 0 success!!!\n"
     ]
    },
    {
     "name": "stderr",
     "output_type": "stream",
     "text": [
      " 55%|█████▍    | 235/430 [04:05<03:21,  1.03s/it]"
     ]
    },
    {
     "name": "stdout",
     "output_type": "stream",
     "text": [
      "Crawl comment page 1 success!!!\n",
      "Crawl comment for product 276801072\n",
      "Crawl comment page 0 success!!!\n"
     ]
    },
    {
     "name": "stderr",
     "output_type": "stream",
     "text": [
      " 55%|█████▍    | 236/430 [04:05<02:33,  1.27it/s]"
     ]
    },
    {
     "name": "stdout",
     "output_type": "stream",
     "text": [
      "Crawl comment page 1 success!!!\n",
      "Crawl comment for product 276018795\n",
      "Crawl comment page 0 success!!!\n"
     ]
    },
    {
     "name": "stderr",
     "output_type": "stream",
     "text": [
      " 55%|█████▌    | 237/430 [04:12<08:21,  2.60s/it]"
     ]
    },
    {
     "name": "stdout",
     "output_type": "stream",
     "text": [
      "Crawl comment page 1 success!!!\n",
      "Crawl comment for product 275493793\n",
      "Crawl comment page 0 success!!!\n"
     ]
    },
    {
     "name": "stderr",
     "output_type": "stream",
     "text": [
      " 55%|█████▌    | 238/430 [04:13<06:28,  2.02s/it]"
     ]
    },
    {
     "name": "stdout",
     "output_type": "stream",
     "text": [
      "Crawl comment page 1 success!!!\n",
      "Crawl comment for product 275263278\n",
      "Crawl comment page 0 success!!!\n"
     ]
    },
    {
     "name": "stderr",
     "output_type": "stream",
     "text": [
      " 56%|█████▌    | 239/430 [04:13<05:12,  1.64s/it]"
     ]
    },
    {
     "name": "stdout",
     "output_type": "stream",
     "text": [
      "Crawl comment page 1 success!!!\n",
      "Crawl comment for product 275058873\n",
      "Crawl comment page 0 success!!!\n"
     ]
    },
    {
     "name": "stderr",
     "output_type": "stream",
     "text": [
      " 56%|█████▌    | 240/430 [04:15<05:40,  1.79s/it]"
     ]
    },
    {
     "name": "stdout",
     "output_type": "stream",
     "text": [
      "Crawl comment page 1 success!!!\n",
      "Crawl comment for product 274721418\n",
      "Crawl comment page 0 success!!!\n"
     ]
    },
    {
     "name": "stderr",
     "output_type": "stream",
     "text": [
      " 56%|█████▌    | 241/430 [04:17<05:30,  1.75s/it]"
     ]
    },
    {
     "name": "stdout",
     "output_type": "stream",
     "text": [
      "Crawl comment page 1 success!!!\n",
      "Crawl comment for product 274371739\n",
      "Crawl comment page 0 success!!!\n"
     ]
    },
    {
     "name": "stderr",
     "output_type": "stream",
     "text": [
      " 56%|█████▋    | 242/430 [04:18<04:19,  1.38s/it]"
     ]
    },
    {
     "name": "stdout",
     "output_type": "stream",
     "text": [
      "Crawl comment page 1 success!!!\n",
      "Crawl comment for product 273805270\n",
      "Crawl comment page 0 success!!!\n"
     ]
    },
    {
     "name": "stderr",
     "output_type": "stream",
     "text": [
      " 57%|█████▋    | 243/430 [04:18<03:25,  1.10s/it]"
     ]
    },
    {
     "name": "stdout",
     "output_type": "stream",
     "text": [
      "Crawl comment page 1 success!!!\n",
      "Crawl comment for product 273661034\n",
      "Crawl comment page 0 success!!!\n"
     ]
    },
    {
     "name": "stderr",
     "output_type": "stream",
     "text": [
      " 57%|█████▋    | 244/430 [04:20<03:56,  1.27s/it]"
     ]
    },
    {
     "name": "stdout",
     "output_type": "stream",
     "text": [
      "Crawl comment page 1 success!!!\n",
      "Crawl comment for product 273604765\n",
      "Crawl comment page 0 success!!!\n"
     ]
    },
    {
     "name": "stderr",
     "output_type": "stream",
     "text": [
      " 57%|█████▋    | 245/430 [04:20<03:21,  1.09s/it]"
     ]
    },
    {
     "name": "stdout",
     "output_type": "stream",
     "text": [
      "Crawl comment page 1 success!!!\n",
      "Crawl comment for product 273244983\n",
      "Crawl comment page 0 success!!!\n"
     ]
    },
    {
     "name": "stderr",
     "output_type": "stream",
     "text": [
      " 57%|█████▋    | 246/430 [04:22<04:05,  1.33s/it]"
     ]
    },
    {
     "name": "stdout",
     "output_type": "stream",
     "text": [
      "Crawl comment page 1 success!!!\n",
      "Crawl comment for product 267261007\n",
      "Crawl comment page 0 success!!!\n"
     ]
    },
    {
     "name": "stderr",
     "output_type": "stream",
     "text": [
      " 57%|█████▋    | 247/430 [04:23<03:03,  1.01s/it]"
     ]
    },
    {
     "name": "stdout",
     "output_type": "stream",
     "text": [
      "Crawl comment page 1 success!!!\n",
      "Crawl comment for product 248420700\n",
      "Crawl comment page 0 success!!!\n"
     ]
    },
    {
     "name": "stderr",
     "output_type": "stream",
     "text": [
      " 58%|█████▊    | 248/430 [04:23<02:35,  1.17it/s]"
     ]
    },
    {
     "name": "stdout",
     "output_type": "stream",
     "text": [
      "Crawl comment page 1 success!!!\n",
      "Crawl comment for product 247730110\n",
      "Crawl comment page 0 success!!!\n"
     ]
    },
    {
     "name": "stderr",
     "output_type": "stream",
     "text": [
      " 58%|█████▊    | 249/430 [04:24<02:21,  1.28it/s]"
     ]
    },
    {
     "name": "stdout",
     "output_type": "stream",
     "text": [
      "Crawl comment page 1 success!!!\n",
      "Crawl comment for product 223727594\n",
      "Crawl comment page 0 success!!!\n"
     ]
    },
    {
     "name": "stderr",
     "output_type": "stream",
     "text": [
      " 58%|█████▊    | 250/430 [04:24<02:13,  1.34it/s]"
     ]
    },
    {
     "name": "stdout",
     "output_type": "stream",
     "text": [
      "Crawl comment page 1 success!!!\n",
      "Crawl comment for product 207853618\n",
      "Crawl comment page 0 success!!!\n"
     ]
    },
    {
     "name": "stderr",
     "output_type": "stream",
     "text": [
      " 58%|█████▊    | 251/430 [04:25<01:53,  1.58it/s]"
     ]
    },
    {
     "name": "stdout",
     "output_type": "stream",
     "text": [
      "Crawl comment page 1 success!!!\n",
      "Crawl comment for product 204985175\n",
      "Crawl comment page 0 success!!!\n"
     ]
    },
    {
     "name": "stderr",
     "output_type": "stream",
     "text": [
      " 59%|█████▊    | 252/430 [04:26<02:02,  1.46it/s]"
     ]
    },
    {
     "name": "stdout",
     "output_type": "stream",
     "text": [
      "Crawl comment page 1 success!!!\n",
      "Crawl comment for product 198617665\n"
     ]
    },
    {
     "name": "stderr",
     "output_type": "stream",
     "text": [
      " 59%|█████▉    | 253/430 [04:26<01:50,  1.61it/s]"
     ]
    },
    {
     "name": "stdout",
     "output_type": "stream",
     "text": [
      "Crawl comment page 0 success!!!\n",
      "Crawl comment page 1 success!!!\n",
      "Crawl comment for product 195109412\n",
      "Crawl comment page 0 success!!!\n"
     ]
    },
    {
     "name": "stderr",
     "output_type": "stream",
     "text": [
      " 59%|█████▉    | 254/430 [04:28<02:39,  1.10it/s]"
     ]
    },
    {
     "name": "stdout",
     "output_type": "stream",
     "text": [
      "Crawl comment page 1 success!!!\n",
      "Crawl comment for product 191775375\n",
      "Crawl comment page 0 success!!!\n"
     ]
    },
    {
     "name": "stderr",
     "output_type": "stream",
     "text": [
      " 59%|█████▉    | 255/430 [04:35<08:02,  2.76s/it]"
     ]
    },
    {
     "name": "stdout",
     "output_type": "stream",
     "text": [
      "Crawl comment page 1 success!!!\n",
      "Crawl comment for product 190989561\n",
      "Crawl comment page 0 success!!!\n"
     ]
    },
    {
     "name": "stderr",
     "output_type": "stream",
     "text": [
      " 60%|█████▉    | 256/430 [04:38<08:21,  2.88s/it]"
     ]
    },
    {
     "name": "stdout",
     "output_type": "stream",
     "text": [
      "Crawl comment page 1 success!!!\n",
      "Crawl comment for product 185919862\n",
      "Crawl comment page 0 success!!!\n"
     ]
    },
    {
     "name": "stderr",
     "output_type": "stream",
     "text": [
      " 60%|█████▉    | 257/430 [04:38<06:03,  2.10s/it]"
     ]
    },
    {
     "name": "stdout",
     "output_type": "stream",
     "text": [
      "Crawl comment page 1 success!!!\n",
      "Crawl comment for product 180378151\n",
      "Crawl comment page 0 success!!!\n"
     ]
    },
    {
     "name": "stderr",
     "output_type": "stream",
     "text": [
      " 60%|██████    | 258/430 [04:39<05:24,  1.89s/it]"
     ]
    },
    {
     "name": "stdout",
     "output_type": "stream",
     "text": [
      "Crawl comment page 1 success!!!\n",
      "Crawl comment for product 176309303\n",
      "Crawl comment page 0 success!!!\n"
     ]
    },
    {
     "name": "stderr",
     "output_type": "stream",
     "text": [
      " 60%|██████    | 259/430 [04:41<04:55,  1.73s/it]"
     ]
    },
    {
     "name": "stdout",
     "output_type": "stream",
     "text": [
      "Crawl comment page 1 success!!!\n",
      "Crawl comment for product 148810239\n",
      "Crawl comment page 0 success!!!\n"
     ]
    },
    {
     "name": "stderr",
     "output_type": "stream",
     "text": [
      " 60%|██████    | 260/430 [04:42<04:34,  1.62s/it]"
     ]
    },
    {
     "name": "stdout",
     "output_type": "stream",
     "text": [
      "Crawl comment page 1 success!!!\n",
      "Crawl comment for product 125739804\n",
      "Crawl comment page 0 success!!!\n"
     ]
    },
    {
     "name": "stderr",
     "output_type": "stream",
     "text": [
      " 61%|██████    | 261/430 [04:43<03:46,  1.34s/it]"
     ]
    },
    {
     "name": "stdout",
     "output_type": "stream",
     "text": [
      "Crawl comment page 1 success!!!\n",
      "Crawl comment for product 120552065\n",
      "Crawl comment page 0 success!!!\n"
     ]
    },
    {
     "name": "stderr",
     "output_type": "stream",
     "text": [
      " 61%|██████    | 262/430 [04:45<04:12,  1.50s/it]"
     ]
    },
    {
     "name": "stdout",
     "output_type": "stream",
     "text": [
      "Crawl comment page 1 success!!!\n",
      "Crawl comment for product 96175682\n",
      "Crawl comment page 0 success!!!\n"
     ]
    },
    {
     "name": "stderr",
     "output_type": "stream",
     "text": [
      " 61%|██████    | 263/430 [04:46<03:37,  1.30s/it]"
     ]
    },
    {
     "name": "stdout",
     "output_type": "stream",
     "text": [
      "Crawl comment page 1 success!!!\n",
      "Crawl comment for product 85029640\n",
      "Crawl comment page 0 success!!!\n"
     ]
    },
    {
     "name": "stderr",
     "output_type": "stream",
     "text": [
      " 61%|██████▏   | 264/430 [04:46<03:02,  1.10s/it]"
     ]
    },
    {
     "name": "stdout",
     "output_type": "stream",
     "text": [
      "Crawl comment page 1 success!!!\n",
      "Crawl comment for product 84886093\n",
      "Crawl comment page 0 success!!!\n"
     ]
    },
    {
     "name": "stderr",
     "output_type": "stream",
     "text": [
      " 62%|██████▏   | 265/430 [04:48<03:19,  1.21s/it]"
     ]
    },
    {
     "name": "stdout",
     "output_type": "stream",
     "text": [
      "Crawl comment page 1 success!!!\n",
      "Crawl comment for product 71342375\n",
      "Crawl comment page 0 success!!!\n"
     ]
    },
    {
     "name": "stderr",
     "output_type": "stream",
     "text": [
      " 62%|██████▏   | 266/430 [04:50<04:04,  1.49s/it]"
     ]
    },
    {
     "name": "stdout",
     "output_type": "stream",
     "text": [
      "Crawl comment page 1 success!!!\n",
      "Crawl comment for product 56383693\n",
      "Crawl comment page 0 success!!!\n"
     ]
    },
    {
     "name": "stderr",
     "output_type": "stream",
     "text": [
      " 62%|██████▏   | 267/430 [04:52<04:18,  1.59s/it]"
     ]
    },
    {
     "name": "stdout",
     "output_type": "stream",
     "text": [
      "Crawl comment page 1 success!!!\n",
      "Crawl comment for product 14639229\n",
      "Crawl comment page 0 success!!!\n"
     ]
    },
    {
     "name": "stderr",
     "output_type": "stream",
     "text": [
      " 62%|██████▏   | 268/430 [04:53<04:19,  1.60s/it]"
     ]
    },
    {
     "name": "stdout",
     "output_type": "stream",
     "text": [
      "Crawl comment page 1 success!!!\n",
      "Crawl comment for product 2119169\n",
      "Crawl comment page 0 success!!!\n"
     ]
    },
    {
     "name": "stderr",
     "output_type": "stream",
     "text": [
      " 63%|██████▎   | 269/430 [04:55<04:17,  1.60s/it]"
     ]
    },
    {
     "name": "stdout",
     "output_type": "stream",
     "text": [
      "Crawl comment page 1 success!!!\n",
      "Crawl comment for product 892121\n",
      "Crawl comment page 0 success!!!\n"
     ]
    },
    {
     "name": "stderr",
     "output_type": "stream",
     "text": [
      " 63%|██████▎   | 270/430 [04:56<04:08,  1.55s/it]"
     ]
    },
    {
     "name": "stdout",
     "output_type": "stream",
     "text": [
      "Crawl comment page 1 success!!!\n",
      "Crawl comment for product 277579064\n",
      "Crawl comment page 0 success!!!\n"
     ]
    },
    {
     "name": "stderr",
     "output_type": "stream",
     "text": [
      " 63%|██████▎   | 271/430 [04:57<03:04,  1.16s/it]"
     ]
    },
    {
     "name": "stdout",
     "output_type": "stream",
     "text": [
      "Crawl comment page 1 success!!!\n",
      "Crawl comment for product 277438575\n",
      "Crawl comment page 0 success!!!\n"
     ]
    },
    {
     "name": "stderr",
     "output_type": "stream",
     "text": [
      " 63%|██████▎   | 272/430 [04:59<03:59,  1.52s/it]"
     ]
    },
    {
     "name": "stdout",
     "output_type": "stream",
     "text": [
      "Crawl comment page 1 success!!!\n",
      "Crawl comment for product 276413449\n",
      "Crawl comment page 0 success!!!\n"
     ]
    },
    {
     "name": "stderr",
     "output_type": "stream",
     "text": [
      " 63%|██████▎   | 273/430 [04:59<03:01,  1.16s/it]"
     ]
    },
    {
     "name": "stdout",
     "output_type": "stream",
     "text": [
      "Crawl comment page 1 success!!!\n",
      "Crawl comment for product 275824896\n",
      "Crawl comment page 0 success!!!\n"
     ]
    },
    {
     "name": "stderr",
     "output_type": "stream",
     "text": [
      " 64%|██████▎   | 274/430 [05:00<02:21,  1.11it/s]"
     ]
    },
    {
     "name": "stdout",
     "output_type": "stream",
     "text": [
      "Crawl comment page 1 success!!!\n",
      "Crawl comment for product 275626702\n",
      "Crawl comment page 0 success!!!\n"
     ]
    },
    {
     "name": "stderr",
     "output_type": "stream",
     "text": [
      " 64%|██████▍   | 275/430 [05:00<01:51,  1.39it/s]"
     ]
    },
    {
     "name": "stdout",
     "output_type": "stream",
     "text": [
      "Crawl comment page 1 success!!!\n",
      "Crawl comment for product 275575228\n",
      "Crawl comment page 0 success!!!\n"
     ]
    },
    {
     "name": "stderr",
     "output_type": "stream",
     "text": [
      " 64%|██████▍   | 276/430 [05:01<01:57,  1.31it/s]"
     ]
    },
    {
     "name": "stdout",
     "output_type": "stream",
     "text": [
      "Crawl comment page 1 success!!!\n",
      "Crawl comment for product 274965041\n",
      "Crawl comment page 0 success!!!\n"
     ]
    },
    {
     "name": "stderr",
     "output_type": "stream",
     "text": [
      " 64%|██████▍   | 277/430 [05:01<01:44,  1.46it/s]"
     ]
    },
    {
     "name": "stdout",
     "output_type": "stream",
     "text": [
      "Crawl comment page 1 success!!!\n",
      "Crawl comment for product 274470797\n",
      "Crawl comment page 0 success!!!\n"
     ]
    },
    {
     "name": "stderr",
     "output_type": "stream",
     "text": [
      " 65%|██████▍   | 278/430 [05:04<02:58,  1.18s/it]"
     ]
    },
    {
     "name": "stdout",
     "output_type": "stream",
     "text": [
      "Crawl comment page 1 success!!!\n",
      "Crawl comment for product 274368618\n",
      "Crawl comment page 0 success!!!\n"
     ]
    },
    {
     "name": "stderr",
     "output_type": "stream",
     "text": [
      " 65%|██████▍   | 279/430 [05:04<02:34,  1.02s/it]"
     ]
    },
    {
     "name": "stdout",
     "output_type": "stream",
     "text": [
      "Crawl comment page 1 success!!!\n",
      "Crawl comment for product 273624233\n",
      "Crawl comment page 0 success!!!\n"
     ]
    },
    {
     "name": "stderr",
     "output_type": "stream",
     "text": [
      " 65%|██████▌   | 280/430 [05:06<03:20,  1.34s/it]"
     ]
    },
    {
     "name": "stdout",
     "output_type": "stream",
     "text": [
      "Crawl comment page 1 success!!!\n",
      "Crawl comment for product 273607042\n",
      "Crawl comment page 0 success!!!\n"
     ]
    },
    {
     "name": "stderr",
     "output_type": "stream",
     "text": [
      " 65%|██████▌   | 281/430 [05:09<04:00,  1.62s/it]"
     ]
    },
    {
     "name": "stdout",
     "output_type": "stream",
     "text": [
      "Crawl comment page 1 success!!!\n",
      "Crawl comment for product 262362970\n",
      "Crawl comment page 0 success!!!\n"
     ]
    },
    {
     "name": "stderr",
     "output_type": "stream",
     "text": [
      " 66%|██████▌   | 282/430 [05:10<03:54,  1.58s/it]"
     ]
    },
    {
     "name": "stdout",
     "output_type": "stream",
     "text": [
      "Crawl comment page 1 success!!!\n",
      "Crawl comment for product 246167977\n",
      "Crawl comment page 0 success!!!\n"
     ]
    },
    {
     "name": "stderr",
     "output_type": "stream",
     "text": [
      " 66%|██████▌   | 283/430 [05:13<05:03,  2.07s/it]"
     ]
    },
    {
     "name": "stdout",
     "output_type": "stream",
     "text": [
      "Crawl comment page 1 success!!!\n",
      "Crawl comment for product 226036798\n",
      "Crawl comment page 0 success!!!\n"
     ]
    },
    {
     "name": "stderr",
     "output_type": "stream",
     "text": [
      " 66%|██████▌   | 284/430 [05:15<04:57,  2.04s/it]"
     ]
    },
    {
     "name": "stdout",
     "output_type": "stream",
     "text": [
      "Crawl comment page 1 success!!!\n",
      "Crawl comment for product 207941719\n",
      "Crawl comment page 0 success!!!\n"
     ]
    },
    {
     "name": "stderr",
     "output_type": "stream",
     "text": [
      " 66%|██████▋   | 285/430 [05:17<04:53,  2.02s/it]"
     ]
    },
    {
     "name": "stdout",
     "output_type": "stream",
     "text": [
      "Crawl comment page 1 success!!!\n",
      "Crawl comment for product 199945017\n",
      "Crawl comment page 0 success!!!\n"
     ]
    },
    {
     "name": "stderr",
     "output_type": "stream",
     "text": [
      " 67%|██████▋   | 286/430 [05:18<03:59,  1.66s/it]"
     ]
    },
    {
     "name": "stdout",
     "output_type": "stream",
     "text": [
      "Crawl comment page 1 success!!!\n",
      "Crawl comment for product 197100086\n",
      "Crawl comment page 0 success!!!\n"
     ]
    },
    {
     "name": "stderr",
     "output_type": "stream",
     "text": [
      " 67%|██████▋   | 287/430 [05:20<04:21,  1.83s/it]"
     ]
    },
    {
     "name": "stdout",
     "output_type": "stream",
     "text": [
      "Crawl comment page 1 success!!!\n",
      "Crawl comment for product 195967978\n",
      "Crawl comment page 0 success!!!\n"
     ]
    },
    {
     "name": "stderr",
     "output_type": "stream",
     "text": [
      " 67%|██████▋   | 288/430 [05:21<03:40,  1.55s/it]"
     ]
    },
    {
     "name": "stdout",
     "output_type": "stream",
     "text": [
      "Crawl comment page 1 success!!!\n",
      "Crawl comment for product 195111061\n",
      "Crawl comment page 0 success!!!\n"
     ]
    },
    {
     "name": "stderr",
     "output_type": "stream",
     "text": [
      " 67%|██████▋   | 289/430 [05:23<03:45,  1.60s/it]"
     ]
    },
    {
     "name": "stdout",
     "output_type": "stream",
     "text": [
      "Crawl comment page 1 success!!!\n",
      "Crawl comment for product 191776160\n",
      "Crawl comment page 0 success!!!\n"
     ]
    },
    {
     "name": "stderr",
     "output_type": "stream",
     "text": [
      " 67%|██████▋   | 290/430 [05:23<02:58,  1.28s/it]"
     ]
    },
    {
     "name": "stdout",
     "output_type": "stream",
     "text": [
      "Crawl comment page 1 success!!!\n",
      "Crawl comment for product 186558014\n",
      "Crawl comment page 0 success!!!\n"
     ]
    },
    {
     "name": "stderr",
     "output_type": "stream",
     "text": [
      " 68%|██████▊   | 291/430 [05:24<02:49,  1.22s/it]"
     ]
    },
    {
     "name": "stdout",
     "output_type": "stream",
     "text": [
      "Crawl comment page 1 success!!!\n",
      "Crawl comment for product 173636676\n",
      "Crawl comment page 0 success!!!\n"
     ]
    },
    {
     "name": "stderr",
     "output_type": "stream",
     "text": [
      " 68%|██████▊   | 292/430 [05:26<03:18,  1.44s/it]"
     ]
    },
    {
     "name": "stdout",
     "output_type": "stream",
     "text": [
      "Crawl comment page 1 success!!!\n",
      "Crawl comment for product 169978766\n",
      "Crawl comment page 0 success!!!\n"
     ]
    },
    {
     "name": "stderr",
     "output_type": "stream",
     "text": [
      " 68%|██████▊   | 293/430 [05:27<02:50,  1.24s/it]"
     ]
    },
    {
     "name": "stdout",
     "output_type": "stream",
     "text": [
      "Crawl comment page 1 success!!!\n",
      "Crawl comment for product 162405563\n",
      "Crawl comment page 0 success!!!\n"
     ]
    },
    {
     "name": "stderr",
     "output_type": "stream",
     "text": [
      " 68%|██████▊   | 294/430 [05:29<03:09,  1.40s/it]"
     ]
    },
    {
     "name": "stdout",
     "output_type": "stream",
     "text": [
      "Crawl comment page 1 success!!!\n",
      "Crawl comment for product 158639945\n",
      "Crawl comment page 0 success!!!\n"
     ]
    },
    {
     "name": "stderr",
     "output_type": "stream",
     "text": [
      " 69%|██████▊   | 295/430 [05:30<02:49,  1.26s/it]"
     ]
    },
    {
     "name": "stdout",
     "output_type": "stream",
     "text": [
      "Crawl comment page 1 success!!!\n",
      "Crawl comment for product 158564745\n",
      "Crawl comment page 0 success!!!\n"
     ]
    },
    {
     "name": "stderr",
     "output_type": "stream",
     "text": [
      " 69%|██████▉   | 296/430 [05:31<02:23,  1.07s/it]"
     ]
    },
    {
     "name": "stdout",
     "output_type": "stream",
     "text": [
      "Crawl comment page 1 success!!!\n",
      "Crawl comment for product 139106099\n",
      "Crawl comment page 0 success!!!\n"
     ]
    },
    {
     "name": "stderr",
     "output_type": "stream",
     "text": [
      " 69%|██████▉   | 297/430 [05:32<02:40,  1.21s/it]"
     ]
    },
    {
     "name": "stdout",
     "output_type": "stream",
     "text": [
      "Crawl comment page 1 success!!!\n",
      "Crawl comment for product 134360863\n",
      "Crawl comment page 0 success!!!\n"
     ]
    },
    {
     "name": "stderr",
     "output_type": "stream",
     "text": [
      " 69%|██████▉   | 298/430 [05:33<02:21,  1.07s/it]"
     ]
    },
    {
     "name": "stdout",
     "output_type": "stream",
     "text": [
      "Crawl comment page 1 success!!!\n",
      "Crawl comment for product 120759154\n",
      "Crawl comment page 0 success!!!\n"
     ]
    },
    {
     "name": "stderr",
     "output_type": "stream",
     "text": [
      " 70%|██████▉   | 299/430 [05:34<02:11,  1.01s/it]"
     ]
    },
    {
     "name": "stdout",
     "output_type": "stream",
     "text": [
      "Crawl comment page 1 success!!!\n",
      "Crawl comment for product 119030223\n",
      "Crawl comment page 0 success!!!\n"
     ]
    },
    {
     "name": "stderr",
     "output_type": "stream",
     "text": [
      " 70%|██████▉   | 300/430 [05:35<02:13,  1.03s/it]"
     ]
    },
    {
     "name": "stdout",
     "output_type": "stream",
     "text": [
      "Crawl comment page 1 success!!!\n",
      "Crawl comment for product 101995256\n",
      "Crawl comment page 0 success!!!\n"
     ]
    },
    {
     "name": "stderr",
     "output_type": "stream",
     "text": [
      " 70%|███████   | 301/430 [05:35<01:54,  1.13it/s]"
     ]
    },
    {
     "name": "stdout",
     "output_type": "stream",
     "text": [
      "Crawl comment page 1 success!!!\n",
      "Crawl comment for product 97924113\n",
      "Crawl comment page 0 success!!!\n"
     ]
    },
    {
     "name": "stderr",
     "output_type": "stream",
     "text": [
      " 70%|███████   | 302/430 [05:36<01:48,  1.18it/s]"
     ]
    },
    {
     "name": "stdout",
     "output_type": "stream",
     "text": [
      "Crawl comment page 1 success!!!\n",
      "Crawl comment for product 58210089\n",
      "Crawl comment page 0 success!!!\n"
     ]
    },
    {
     "name": "stderr",
     "output_type": "stream",
     "text": [
      " 70%|███████   | 303/430 [05:37<02:09,  1.02s/it]"
     ]
    },
    {
     "name": "stdout",
     "output_type": "stream",
     "text": [
      "Crawl comment page 1 success!!!\n",
      "Crawl comment for product 51373821\n",
      "Crawl comment page 0 success!!!\n"
     ]
    },
    {
     "name": "stderr",
     "output_type": "stream",
     "text": [
      " 71%|███████   | 304/430 [05:39<02:37,  1.25s/it]"
     ]
    },
    {
     "name": "stdout",
     "output_type": "stream",
     "text": [
      "Crawl comment page 1 success!!!\n",
      "Crawl comment for product 51105287\n",
      "Crawl comment page 0 success!!!\n"
     ]
    },
    {
     "name": "stderr",
     "output_type": "stream",
     "text": [
      " 71%|███████   | 305/430 [05:40<02:27,  1.18s/it]"
     ]
    },
    {
     "name": "stdout",
     "output_type": "stream",
     "text": [
      "Crawl comment page 1 success!!!\n",
      "Crawl comment for product 51005591\n",
      "Crawl comment page 0 success!!!\n"
     ]
    },
    {
     "name": "stderr",
     "output_type": "stream",
     "text": [
      " 71%|███████   | 306/430 [05:41<02:10,  1.05s/it]"
     ]
    },
    {
     "name": "stdout",
     "output_type": "stream",
     "text": [
      "Crawl comment page 1 success!!!\n",
      "Crawl comment for product 14526627\n",
      "Crawl comment page 0 success!!!\n"
     ]
    },
    {
     "name": "stderr",
     "output_type": "stream",
     "text": [
      " 71%|███████▏  | 307/430 [05:43<02:46,  1.35s/it]"
     ]
    },
    {
     "name": "stdout",
     "output_type": "stream",
     "text": [
      "Crawl comment page 1 success!!!\n",
      "Crawl comment for product 2391311\n",
      "Crawl comment page 0 success!!!\n"
     ]
    },
    {
     "name": "stderr",
     "output_type": "stream",
     "text": [
      " 72%|███████▏  | 308/430 [05:44<02:28,  1.21s/it]"
     ]
    },
    {
     "name": "stdout",
     "output_type": "stream",
     "text": [
      "Crawl comment page 1 success!!!\n",
      "Crawl comment for product 892141\n",
      "Crawl comment page 0 success!!!\n"
     ]
    },
    {
     "name": "stderr",
     "output_type": "stream",
     "text": [
      " 72%|███████▏  | 309/430 [05:45<02:36,  1.29s/it]"
     ]
    },
    {
     "name": "stdout",
     "output_type": "stream",
     "text": [
      "Crawl comment page 1 success!!!\n",
      "Crawl comment for product 718889\n",
      "Crawl comment page 0 success!!!\n"
     ]
    },
    {
     "name": "stderr",
     "output_type": "stream",
     "text": [
      " 72%|███████▏  | 310/430 [05:47<02:40,  1.34s/it]"
     ]
    },
    {
     "name": "stdout",
     "output_type": "stream",
     "text": [
      "Crawl comment page 1 success!!!\n",
      "Crawl comment for product 277859957\n",
      "Crawl comment page 0 success!!!\n"
     ]
    },
    {
     "name": "stderr",
     "output_type": "stream",
     "text": [
      " 72%|███████▏  | 311/430 [05:47<02:02,  1.03s/it]"
     ]
    },
    {
     "name": "stdout",
     "output_type": "stream",
     "text": [
      "Crawl comment page 1 success!!!\n",
      "Crawl comment for product 277857379\n",
      "Crawl comment page 0 success!!!\n"
     ]
    },
    {
     "name": "stderr",
     "output_type": "stream",
     "text": [
      " 73%|███████▎  | 312/430 [05:47<01:34,  1.25it/s]"
     ]
    },
    {
     "name": "stdout",
     "output_type": "stream",
     "text": [
      "Crawl comment page 1 success!!!\n",
      "Crawl comment for product 277608690\n",
      "Crawl comment page 0 success!!!\n"
     ]
    },
    {
     "name": "stderr",
     "output_type": "stream",
     "text": [
      " 73%|███████▎  | 313/430 [05:48<01:14,  1.58it/s]"
     ]
    },
    {
     "name": "stdout",
     "output_type": "stream",
     "text": [
      "Crawl comment page 1 success!!!\n",
      "Crawl comment for product 276933701\n",
      "Crawl comment page 0 success!!!\n"
     ]
    },
    {
     "name": "stderr",
     "output_type": "stream",
     "text": [
      " 73%|███████▎  | 314/430 [05:48<00:58,  1.97it/s]"
     ]
    },
    {
     "name": "stdout",
     "output_type": "stream",
     "text": [
      "Crawl comment page 1 success!!!\n",
      "Crawl comment for product 276645455\n",
      "Crawl comment page 0 success!!!\n"
     ]
    },
    {
     "name": "stderr",
     "output_type": "stream",
     "text": [
      " 73%|███████▎  | 315/430 [05:48<00:50,  2.28it/s]"
     ]
    },
    {
     "name": "stdout",
     "output_type": "stream",
     "text": [
      "Crawl comment page 1 success!!!\n",
      "Crawl comment for product 276408760\n",
      "Crawl comment page 0 success!!!\n"
     ]
    },
    {
     "name": "stderr",
     "output_type": "stream",
     "text": [
      " 73%|███████▎  | 316/430 [05:48<00:44,  2.58it/s]"
     ]
    },
    {
     "name": "stdout",
     "output_type": "stream",
     "text": [
      "Crawl comment page 1 success!!!\n",
      "Crawl comment for product 275695590\n",
      "Crawl comment page 0 success!!!\n"
     ]
    },
    {
     "name": "stderr",
     "output_type": "stream",
     "text": [
      " 74%|███████▎  | 317/430 [05:49<00:38,  2.91it/s]"
     ]
    },
    {
     "name": "stdout",
     "output_type": "stream",
     "text": [
      "Crawl comment page 1 success!!!\n",
      "Crawl comment for product 275451454\n",
      "Crawl comment page 0 success!!!\n"
     ]
    },
    {
     "name": "stderr",
     "output_type": "stream",
     "text": [
      " 74%|███████▍  | 318/430 [05:50<01:01,  1.82it/s]"
     ]
    },
    {
     "name": "stdout",
     "output_type": "stream",
     "text": [
      "Crawl comment page 1 success!!!\n",
      "Crawl comment for product 275451440\n",
      "Crawl comment page 0 success!!!\n"
     ]
    },
    {
     "name": "stderr",
     "output_type": "stream",
     "text": [
      " 74%|███████▍  | 319/430 [05:50<01:03,  1.74it/s]"
     ]
    },
    {
     "name": "stdout",
     "output_type": "stream",
     "text": [
      "Crawl comment page 1 success!!!\n",
      "Crawl comment for product 275059651\n",
      "Crawl comment page 0 success!!!\n"
     ]
    },
    {
     "name": "stderr",
     "output_type": "stream",
     "text": [
      " 74%|███████▍  | 320/430 [05:52<01:40,  1.09it/s]"
     ]
    },
    {
     "name": "stdout",
     "output_type": "stream",
     "text": [
      "Crawl comment page 1 success!!!\n",
      "Crawl comment for product 274967167\n",
      "Crawl comment page 0 success!!!\n"
     ]
    },
    {
     "name": "stderr",
     "output_type": "stream",
     "text": [
      " 75%|███████▍  | 321/430 [05:53<01:29,  1.22it/s]"
     ]
    },
    {
     "name": "stdout",
     "output_type": "stream",
     "text": [
      "Crawl comment page 1 success!!!\n",
      "Crawl comment for product 273935273\n",
      "Crawl comment page 0 success!!!\n"
     ]
    },
    {
     "name": "stderr",
     "output_type": "stream",
     "text": [
      " 75%|███████▍  | 322/430 [05:53<01:17,  1.39it/s]"
     ]
    },
    {
     "name": "stdout",
     "output_type": "stream",
     "text": [
      "Crawl comment page 1 success!!!\n",
      "Crawl comment for product 273716647\n",
      "Crawl comment page 0 success!!!\n"
     ]
    },
    {
     "name": "stderr",
     "output_type": "stream",
     "text": [
      " 75%|███████▌  | 323/430 [05:54<01:14,  1.43it/s]"
     ]
    },
    {
     "name": "stdout",
     "output_type": "stream",
     "text": [
      "Crawl comment page 1 success!!!\n",
      "Crawl comment for product 273661002\n",
      "Crawl comment page 0 success!!!\n"
     ]
    },
    {
     "name": "stderr",
     "output_type": "stream",
     "text": [
      " 75%|███████▌  | 324/430 [05:56<02:08,  1.21s/it]"
     ]
    },
    {
     "name": "stdout",
     "output_type": "stream",
     "text": [
      "Crawl comment page 1 success!!!\n",
      "Crawl comment for product 273533211\n",
      "Crawl comment page 0 success!!!\n"
     ]
    },
    {
     "name": "stderr",
     "output_type": "stream",
     "text": [
      " 76%|███████▌  | 325/430 [05:57<01:45,  1.01s/it]"
     ]
    },
    {
     "name": "stdout",
     "output_type": "stream",
     "text": [
      "Crawl comment page 1 success!!!\n",
      "Crawl comment for product 273456113\n",
      "Crawl comment page 0 success!!!\n"
     ]
    },
    {
     "name": "stderr",
     "output_type": "stream",
     "text": [
      " 76%|███████▌  | 326/430 [05:58<01:54,  1.10s/it]"
     ]
    },
    {
     "name": "stdout",
     "output_type": "stream",
     "text": [
      "Crawl comment page 1 success!!!\n",
      "Crawl comment for product 272918348\n",
      "Crawl comment page 0 success!!!\n"
     ]
    },
    {
     "name": "stderr",
     "output_type": "stream",
     "text": [
      " 76%|███████▌  | 327/430 [05:58<01:27,  1.17it/s]"
     ]
    },
    {
     "name": "stdout",
     "output_type": "stream",
     "text": [
      "Crawl comment page 1 success!!!\n",
      "Crawl comment for product 272894944\n",
      "Crawl comment page 0 success!!!\n"
     ]
    },
    {
     "name": "stderr",
     "output_type": "stream",
     "text": [
      " 76%|███████▋  | 328/430 [05:59<01:20,  1.27it/s]"
     ]
    },
    {
     "name": "stdout",
     "output_type": "stream",
     "text": [
      "Crawl comment page 1 success!!!\n",
      "Crawl comment for product 272639442\n",
      "Crawl comment page 0 success!!!\n"
     ]
    },
    {
     "name": "stderr",
     "output_type": "stream",
     "text": [
      " 77%|███████▋  | 329/430 [06:01<02:06,  1.25s/it]"
     ]
    },
    {
     "name": "stdout",
     "output_type": "stream",
     "text": [
      "Crawl comment page 1 success!!!\n",
      "Crawl comment for product 262300577\n",
      "Crawl comment page 0 success!!!\n"
     ]
    },
    {
     "name": "stderr",
     "output_type": "stream",
     "text": [
      " 77%|███████▋  | 330/430 [06:04<02:49,  1.70s/it]"
     ]
    },
    {
     "name": "stdout",
     "output_type": "stream",
     "text": [
      "Crawl comment page 1 success!!!\n",
      "Crawl comment for product 249822719\n",
      "Crawl comment page 0 success!!!\n"
     ]
    },
    {
     "name": "stderr",
     "output_type": "stream",
     "text": [
      " 77%|███████▋  | 331/430 [06:04<02:07,  1.29s/it]"
     ]
    },
    {
     "name": "stdout",
     "output_type": "stream",
     "text": [
      "Crawl comment page 1 success!!!\n",
      "Crawl comment for product 247661092\n"
     ]
    },
    {
     "name": "stderr",
     "output_type": "stream",
     "text": [
      " 77%|███████▋  | 332/430 [06:05<01:40,  1.02s/it]"
     ]
    },
    {
     "name": "stdout",
     "output_type": "stream",
     "text": [
      "Crawl comment page 0 success!!!\n",
      "Crawl comment page 1 success!!!\n",
      "Crawl comment for product 205920877\n",
      "Crawl comment page 0 success!!!\n"
     ]
    },
    {
     "name": "stderr",
     "output_type": "stream",
     "text": [
      " 77%|███████▋  | 333/430 [06:06<01:39,  1.03s/it]"
     ]
    },
    {
     "name": "stdout",
     "output_type": "stream",
     "text": [
      "Crawl comment page 1 success!!!\n",
      "Crawl comment for product 203810412\n",
      "Crawl comment page 0 success!!!\n"
     ]
    },
    {
     "name": "stderr",
     "output_type": "stream",
     "text": [
      " 78%|███████▊  | 334/430 [06:08<01:57,  1.22s/it]"
     ]
    },
    {
     "name": "stdout",
     "output_type": "stream",
     "text": [
      "Crawl comment page 1 success!!!\n",
      "Crawl comment for product 196897347\n",
      "Crawl comment page 0 success!!!\n"
     ]
    },
    {
     "name": "stderr",
     "output_type": "stream",
     "text": [
      " 78%|███████▊  | 335/430 [06:09<01:49,  1.16s/it]"
     ]
    },
    {
     "name": "stdout",
     "output_type": "stream",
     "text": [
      "Crawl comment page 1 success!!!\n",
      "Crawl comment for product 189208326\n",
      "Crawl comment page 0 success!!!\n"
     ]
    },
    {
     "name": "stderr",
     "output_type": "stream",
     "text": [
      " 78%|███████▊  | 336/430 [06:09<01:37,  1.04s/it]"
     ]
    },
    {
     "name": "stdout",
     "output_type": "stream",
     "text": [
      "Crawl comment page 1 success!!!\n",
      "Crawl comment for product 181223608\n",
      "Crawl comment page 0 success!!!\n"
     ]
    },
    {
     "name": "stderr",
     "output_type": "stream",
     "text": [
      " 78%|███████▊  | 337/430 [06:10<01:26,  1.08it/s]"
     ]
    },
    {
     "name": "stdout",
     "output_type": "stream",
     "text": [
      "Crawl comment page 1 success!!!\n",
      "Crawl comment for product 174236741\n",
      "Crawl comment page 0 success!!!\n"
     ]
    },
    {
     "name": "stderr",
     "output_type": "stream",
     "text": [
      " 79%|███████▊  | 338/430 [06:12<01:43,  1.12s/it]"
     ]
    },
    {
     "name": "stdout",
     "output_type": "stream",
     "text": [
      "Crawl comment page 1 success!!!\n",
      "Crawl comment for product 119445205\n",
      "Crawl comment page 0 success!!!\n"
     ]
    },
    {
     "name": "stderr",
     "output_type": "stream",
     "text": [
      " 79%|███████▉  | 339/430 [06:13<01:40,  1.11s/it]"
     ]
    },
    {
     "name": "stdout",
     "output_type": "stream",
     "text": [
      "Crawl comment page 1 success!!!\n",
      "Crawl comment for product 118210422\n",
      "Crawl comment page 0 success!!!\n"
     ]
    },
    {
     "name": "stderr",
     "output_type": "stream",
     "text": [
      " 79%|███████▉  | 340/430 [06:16<02:32,  1.69s/it]"
     ]
    },
    {
     "name": "stdout",
     "output_type": "stream",
     "text": [
      "Crawl comment page 1 success!!!\n",
      "Crawl comment for product 117645437\n",
      "Crawl comment page 0 success!!!\n"
     ]
    },
    {
     "name": "stderr",
     "output_type": "stream",
     "text": [
      " 79%|███████▉  | 341/430 [06:16<02:07,  1.44s/it]"
     ]
    },
    {
     "name": "stdout",
     "output_type": "stream",
     "text": [
      "Crawl comment page 1 success!!!\n",
      "Crawl comment for product 101921036\n",
      "Crawl comment page 0 success!!!\n"
     ]
    },
    {
     "name": "stderr",
     "output_type": "stream",
     "text": [
      " 80%|███████▉  | 342/430 [06:17<01:47,  1.22s/it]"
     ]
    },
    {
     "name": "stdout",
     "output_type": "stream",
     "text": [
      "Crawl comment page 1 success!!!\n",
      "Crawl comment for product 75320717\n",
      "Crawl comment page 0 success!!!\n"
     ]
    },
    {
     "name": "stderr",
     "output_type": "stream",
     "text": [
      " 80%|███████▉  | 343/430 [06:18<01:42,  1.18s/it]"
     ]
    },
    {
     "name": "stdout",
     "output_type": "stream",
     "text": [
      "Crawl comment page 1 success!!!\n",
      "Crawl comment for product 74986804\n",
      "Crawl comment page 0 success!!!\n"
     ]
    },
    {
     "name": "stderr",
     "output_type": "stream",
     "text": [
      " 80%|████████  | 344/430 [06:19<01:30,  1.05s/it]"
     ]
    },
    {
     "name": "stdout",
     "output_type": "stream",
     "text": [
      "Crawl comment page 1 success!!!\n",
      "Crawl comment for product 68716605\n",
      "Crawl comment page 0 success!!!\n"
     ]
    },
    {
     "name": "stderr",
     "output_type": "stream",
     "text": [
      " 80%|████████  | 345/430 [06:21<01:53,  1.34s/it]"
     ]
    },
    {
     "name": "stdout",
     "output_type": "stream",
     "text": [
      "Crawl comment page 1 success!!!\n",
      "Crawl comment for product 57867024\n",
      "Crawl comment page 0 success!!!\n"
     ]
    },
    {
     "name": "stderr",
     "output_type": "stream",
     "text": [
      " 80%|████████  | 346/430 [06:22<01:49,  1.30s/it]"
     ]
    },
    {
     "name": "stdout",
     "output_type": "stream",
     "text": [
      "Crawl comment page 1 success!!!\n",
      "Crawl comment for product 54122078\n",
      "Crawl comment page 0 success!!!\n"
     ]
    },
    {
     "name": "stderr",
     "output_type": "stream",
     "text": [
      " 81%|████████  | 347/430 [06:24<02:08,  1.54s/it]"
     ]
    },
    {
     "name": "stdout",
     "output_type": "stream",
     "text": [
      "Crawl comment page 1 success!!!\n",
      "Crawl comment for product 52238368\n",
      "Crawl comment page 0 success!!!\n"
     ]
    },
    {
     "name": "stderr",
     "output_type": "stream",
     "text": [
      " 81%|████████  | 348/430 [06:27<02:27,  1.80s/it]"
     ]
    },
    {
     "name": "stdout",
     "output_type": "stream",
     "text": [
      "Crawl comment page 1 success!!!\n",
      "Crawl comment for product 51476716\n",
      "Crawl comment page 0 success!!!\n"
     ]
    },
    {
     "name": "stderr",
     "output_type": "stream",
     "text": [
      " 81%|████████  | 349/430 [06:29<02:30,  1.86s/it]"
     ]
    },
    {
     "name": "stdout",
     "output_type": "stream",
     "text": [
      "Crawl comment page 1 success!!!\n",
      "Crawl comment for product 35273810\n",
      "Crawl comment page 0 success!!!\n"
     ]
    },
    {
     "name": "stderr",
     "output_type": "stream",
     "text": [
      " 81%|████████▏ | 350/430 [06:30<02:10,  1.63s/it]"
     ]
    },
    {
     "name": "stdout",
     "output_type": "stream",
     "text": [
      "Crawl comment page 1 success!!!\n",
      "Crawl comment for product 277835689\n",
      "Crawl comment page 0 success!!!\n"
     ]
    },
    {
     "name": "stderr",
     "output_type": "stream",
     "text": [
      " 82%|████████▏ | 351/430 [06:30<01:36,  1.22s/it]"
     ]
    },
    {
     "name": "stdout",
     "output_type": "stream",
     "text": [
      "Crawl comment page 1 success!!!\n",
      "Crawl comment for product 277821906\n",
      "Crawl comment page 0 success!!!\n"
     ]
    },
    {
     "name": "stderr",
     "output_type": "stream",
     "text": [
      " 82%|████████▏ | 352/430 [06:30<01:13,  1.07it/s]"
     ]
    },
    {
     "name": "stdout",
     "output_type": "stream",
     "text": [
      "Crawl comment page 1 success!!!\n",
      "Crawl comment for product 277742267\n",
      "Crawl comment page 0 success!!!\n"
     ]
    },
    {
     "name": "stderr",
     "output_type": "stream",
     "text": [
      " 82%|████████▏ | 354/430 [06:31<00:43,  1.76it/s]"
     ]
    },
    {
     "name": "stdout",
     "output_type": "stream",
     "text": [
      "Crawl comment page 1 success!!!\n",
      "Crawl comment for product 277603766\n",
      "Crawl comment page 0 success!!!\n",
      "Crawl comment page 1 success!!!\n",
      "Crawl comment for product 277579186\n",
      "Crawl comment page 0 success!!!\n"
     ]
    },
    {
     "name": "stderr",
     "output_type": "stream",
     "text": [
      " 83%|████████▎ | 355/430 [06:31<00:35,  2.09it/s]"
     ]
    },
    {
     "name": "stdout",
     "output_type": "stream",
     "text": [
      "Crawl comment page 1 success!!!\n",
      "Crawl comment for product 277523046\n",
      "Crawl comment page 0 success!!!\n"
     ]
    },
    {
     "name": "stderr",
     "output_type": "stream",
     "text": [
      " 83%|████████▎ | 356/430 [06:31<00:30,  2.44it/s]"
     ]
    },
    {
     "name": "stdout",
     "output_type": "stream",
     "text": [
      "Crawl comment page 1 success!!!\n",
      "Crawl comment for product 276964772\n",
      "Crawl comment page 0 success!!!\n"
     ]
    },
    {
     "name": "stderr",
     "output_type": "stream",
     "text": [
      " 83%|████████▎ | 357/430 [06:32<00:33,  2.17it/s]"
     ]
    },
    {
     "name": "stdout",
     "output_type": "stream",
     "text": [
      "Crawl comment page 1 success!!!\n",
      "Crawl comment for product 276611622\n",
      "Crawl comment page 0 success!!!\n"
     ]
    },
    {
     "name": "stderr",
     "output_type": "stream",
     "text": [
      " 83%|████████▎ | 358/430 [06:32<00:30,  2.34it/s]"
     ]
    },
    {
     "name": "stdout",
     "output_type": "stream",
     "text": [
      "Crawl comment page 1 success!!!\n",
      "Crawl comment for product 276409126\n",
      "Crawl comment page 0 success!!!\n"
     ]
    },
    {
     "name": "stderr",
     "output_type": "stream",
     "text": [
      " 83%|████████▎ | 359/430 [06:33<00:27,  2.61it/s]"
     ]
    },
    {
     "name": "stdout",
     "output_type": "stream",
     "text": [
      "Crawl comment page 1 success!!!\n",
      "Crawl comment for product 276044575\n",
      "Crawl comment page 0 success!!!\n"
     ]
    },
    {
     "name": "stderr",
     "output_type": "stream",
     "text": [
      " 84%|████████▎ | 360/430 [06:33<00:25,  2.74it/s]"
     ]
    },
    {
     "name": "stdout",
     "output_type": "stream",
     "text": [
      "Crawl comment page 1 success!!!\n",
      "Crawl comment for product 275480130\n",
      "Crawl comment page 0 success!!!\n"
     ]
    },
    {
     "name": "stderr",
     "output_type": "stream",
     "text": [
      " 84%|████████▍ | 361/430 [06:33<00:23,  3.00it/s]"
     ]
    },
    {
     "name": "stdout",
     "output_type": "stream",
     "text": [
      "Crawl comment page 1 success!!!\n",
      "Crawl comment for product 274960078\n",
      "Crawl comment page 0 success!!!\n"
     ]
    },
    {
     "name": "stderr",
     "output_type": "stream",
     "text": [
      " 84%|████████▍ | 362/430 [06:34<00:23,  2.83it/s]"
     ]
    },
    {
     "name": "stdout",
     "output_type": "stream",
     "text": [
      "Crawl comment page 1 success!!!\n",
      "Crawl comment for product 274570946\n",
      "Crawl comment page 0 success!!!\n"
     ]
    },
    {
     "name": "stderr",
     "output_type": "stream",
     "text": [
      " 84%|████████▍ | 363/430 [06:34<00:24,  2.70it/s]"
     ]
    },
    {
     "name": "stdout",
     "output_type": "stream",
     "text": [
      "Crawl comment page 1 success!!!\n",
      "Crawl comment for product 273721331\n",
      "Crawl comment page 0 success!!!\n"
     ]
    },
    {
     "name": "stderr",
     "output_type": "stream",
     "text": [
      " 85%|████████▍ | 364/430 [06:35<00:30,  2.17it/s]"
     ]
    },
    {
     "name": "stdout",
     "output_type": "stream",
     "text": [
      "Crawl comment page 1 success!!!\n",
      "Crawl comment for product 273619945\n",
      "Crawl comment page 0 success!!!\n"
     ]
    },
    {
     "name": "stderr",
     "output_type": "stream",
     "text": [
      " 85%|████████▍ | 365/430 [06:36<00:49,  1.32it/s]"
     ]
    },
    {
     "name": "stdout",
     "output_type": "stream",
     "text": [
      "Crawl comment page 1 success!!!\n",
      "Crawl comment for product 272359849\n",
      "Crawl comment page 0 success!!!\n"
     ]
    },
    {
     "name": "stderr",
     "output_type": "stream",
     "text": [
      " 85%|████████▌ | 366/430 [06:37<00:42,  1.51it/s]"
     ]
    },
    {
     "name": "stdout",
     "output_type": "stream",
     "text": [
      "Crawl comment page 1 success!!!\n",
      "Crawl comment for product 271121025\n",
      "Crawl comment page 0 success!!!\n"
     ]
    },
    {
     "name": "stderr",
     "output_type": "stream",
     "text": [
      " 85%|████████▌ | 367/430 [06:39<01:11,  1.13s/it]"
     ]
    },
    {
     "name": "stdout",
     "output_type": "stream",
     "text": [
      "Crawl comment page 1 success!!!\n",
      "Crawl comment for product 225947119\n",
      "Crawl comment page 0 success!!!\n"
     ]
    },
    {
     "name": "stderr",
     "output_type": "stream",
     "text": [
      " 86%|████████▌ | 368/430 [06:39<00:59,  1.03it/s]"
     ]
    },
    {
     "name": "stdout",
     "output_type": "stream",
     "text": [
      "Crawl comment page 1 success!!!\n",
      "Crawl comment for product 221011957\n",
      "Crawl comment page 0 success!!!\n"
     ]
    },
    {
     "name": "stderr",
     "output_type": "stream",
     "text": [
      " 86%|████████▌ | 369/430 [06:40<01:01,  1.00s/it]"
     ]
    },
    {
     "name": "stdout",
     "output_type": "stream",
     "text": [
      "Crawl comment page 1 success!!!\n",
      "Crawl comment for product 217695866\n",
      "Crawl comment page 0 success!!!\n"
     ]
    },
    {
     "name": "stderr",
     "output_type": "stream",
     "text": [
      " 86%|████████▌ | 370/430 [06:41<00:57,  1.04it/s]"
     ]
    },
    {
     "name": "stdout",
     "output_type": "stream",
     "text": [
      "Crawl comment page 1 success!!!\n",
      "Crawl comment for product 215891498\n",
      "Crawl comment page 0 success!!!\n"
     ]
    },
    {
     "name": "stderr",
     "output_type": "stream",
     "text": [
      " 86%|████████▋ | 371/430 [06:42<00:50,  1.17it/s]"
     ]
    },
    {
     "name": "stdout",
     "output_type": "stream",
     "text": [
      "Crawl comment page 1 success!!!\n",
      "Crawl comment for product 203898025\n",
      "Crawl comment page 0 success!!!\n"
     ]
    },
    {
     "name": "stderr",
     "output_type": "stream",
     "text": [
      " 87%|████████▋ | 372/430 [06:42<00:44,  1.30it/s]"
     ]
    },
    {
     "name": "stdout",
     "output_type": "stream",
     "text": [
      "Crawl comment page 1 success!!!\n",
      "Crawl comment for product 201566005\n",
      "Crawl comment page 0 success!!!\n"
     ]
    },
    {
     "name": "stderr",
     "output_type": "stream",
     "text": [
      " 87%|████████▋ | 373/430 [06:44<00:55,  1.02it/s]"
     ]
    },
    {
     "name": "stdout",
     "output_type": "stream",
     "text": [
      "Crawl comment page 1 success!!!\n",
      "Crawl comment for product 193365988\n",
      "Crawl comment page 0 success!!!\n"
     ]
    },
    {
     "name": "stderr",
     "output_type": "stream",
     "text": [
      " 87%|████████▋ | 374/430 [06:46<01:20,  1.43s/it]"
     ]
    },
    {
     "name": "stdout",
     "output_type": "stream",
     "text": [
      "Crawl comment page 1 success!!!\n",
      "Crawl comment for product 192523772\n",
      "Crawl comment page 0 success!!!\n"
     ]
    },
    {
     "name": "stderr",
     "output_type": "stream",
     "text": [
      " 87%|████████▋ | 375/430 [06:47<01:09,  1.26s/it]"
     ]
    },
    {
     "name": "stdout",
     "output_type": "stream",
     "text": [
      "Crawl comment page 1 success!!!\n",
      "Crawl comment for product 190726737\n",
      "Crawl comment page 0 success!!!\n"
     ]
    },
    {
     "name": "stderr",
     "output_type": "stream",
     "text": [
      " 87%|████████▋ | 376/430 [06:50<01:39,  1.84s/it]"
     ]
    },
    {
     "name": "stdout",
     "output_type": "stream",
     "text": [
      "Crawl comment page 1 success!!!\n",
      "Crawl comment for product 186288399\n",
      "Crawl comment page 0 success!!!\n"
     ]
    },
    {
     "name": "stderr",
     "output_type": "stream",
     "text": [
      " 88%|████████▊ | 377/430 [06:51<01:19,  1.50s/it]"
     ]
    },
    {
     "name": "stdout",
     "output_type": "stream",
     "text": [
      "Crawl comment page 1 success!!!\n",
      "Crawl comment for product 162144034\n",
      "Crawl comment page 0 success!!!\n"
     ]
    },
    {
     "name": "stderr",
     "output_type": "stream",
     "text": [
      " 88%|████████▊ | 378/430 [06:51<00:59,  1.14s/it]"
     ]
    },
    {
     "name": "stdout",
     "output_type": "stream",
     "text": [
      "Crawl comment page 1 success!!!\n",
      "Crawl comment for product 144492706\n",
      "Crawl comment page 0 success!!!\n"
     ]
    },
    {
     "name": "stderr",
     "output_type": "stream",
     "text": [
      " 88%|████████▊ | 379/430 [06:52<00:44,  1.15it/s]"
     ]
    },
    {
     "name": "stdout",
     "output_type": "stream",
     "text": [
      "Crawl comment page 1 success!!!\n",
      "Crawl comment for product 142264591\n",
      "Crawl comment page 0 success!!!\n"
     ]
    },
    {
     "name": "stderr",
     "output_type": "stream",
     "text": [
      " 88%|████████▊ | 380/430 [06:52<00:34,  1.47it/s]"
     ]
    },
    {
     "name": "stdout",
     "output_type": "stream",
     "text": [
      "Crawl comment page 1 success!!!\n",
      "Crawl comment for product 99621372\n",
      "Crawl comment page 0 success!!!\n"
     ]
    },
    {
     "name": "stderr",
     "output_type": "stream",
     "text": [
      " 89%|████████▊ | 381/430 [06:53<00:39,  1.23it/s]"
     ]
    },
    {
     "name": "stdout",
     "output_type": "stream",
     "text": [
      "Crawl comment page 1 success!!!\n",
      "Crawl comment for product 93095439\n",
      "Crawl comment page 0 success!!!\n"
     ]
    },
    {
     "name": "stderr",
     "output_type": "stream",
     "text": [
      " 89%|████████▉ | 382/430 [06:54<00:40,  1.19it/s]"
     ]
    },
    {
     "name": "stdout",
     "output_type": "stream",
     "text": [
      "Crawl comment page 1 success!!!\n",
      "Crawl comment for product 88928025\n",
      "Crawl comment page 0 success!!!\n"
     ]
    },
    {
     "name": "stderr",
     "output_type": "stream",
     "text": [
      " 89%|████████▉ | 383/430 [06:55<00:36,  1.28it/s]"
     ]
    },
    {
     "name": "stdout",
     "output_type": "stream",
     "text": [
      "Crawl comment page 1 success!!!\n",
      "Crawl comment for product 74695680\n",
      "Crawl comment page 0 success!!!\n"
     ]
    },
    {
     "name": "stderr",
     "output_type": "stream",
     "text": [
      " 89%|████████▉ | 384/430 [06:58<01:13,  1.60s/it]"
     ]
    },
    {
     "name": "stdout",
     "output_type": "stream",
     "text": [
      "Crawl comment page 1 success!!!\n",
      "Crawl comment for product 70820849\n",
      "Crawl comment page 0 success!!!\n"
     ]
    },
    {
     "name": "stderr",
     "output_type": "stream",
     "text": [
      " 90%|████████▉ | 385/430 [07:00<01:19,  1.76s/it]"
     ]
    },
    {
     "name": "stdout",
     "output_type": "stream",
     "text": [
      "Crawl comment page 1 success!!!\n",
      "Crawl comment for product 52885368\n",
      "Crawl comment page 0 success!!!\n"
     ]
    },
    {
     "name": "stderr",
     "output_type": "stream",
     "text": [
      " 90%|████████▉ | 386/430 [07:01<01:03,  1.44s/it]"
     ]
    },
    {
     "name": "stdout",
     "output_type": "stream",
     "text": [
      "Crawl comment page 1 success!!!\n",
      "Crawl comment for product 19761070\n",
      "Crawl comment page 0 success!!!\n"
     ]
    },
    {
     "name": "stderr",
     "output_type": "stream",
     "text": [
      " 90%|█████████ | 387/430 [07:02<00:54,  1.26s/it]"
     ]
    },
    {
     "name": "stdout",
     "output_type": "stream",
     "text": [
      "Crawl comment page 1 success!!!\n",
      "Crawl comment for product 15605817\n",
      "Crawl comment page 0 success!!!\n"
     ]
    },
    {
     "name": "stderr",
     "output_type": "stream",
     "text": [
      " 90%|█████████ | 388/430 [07:03<00:51,  1.22s/it]"
     ]
    },
    {
     "name": "stdout",
     "output_type": "stream",
     "text": [
      "Crawl comment page 1 success!!!\n",
      "Crawl comment for product 2432307\n",
      "Crawl comment page 0 success!!!\n"
     ]
    },
    {
     "name": "stderr",
     "output_type": "stream",
     "text": [
      " 90%|█████████ | 389/430 [07:04<00:42,  1.04s/it]"
     ]
    },
    {
     "name": "stdout",
     "output_type": "stream",
     "text": [
      "Crawl comment page 1 success!!!\n",
      "Crawl comment for product 2080755\n",
      "Crawl comment page 0 success!!!\n"
     ]
    },
    {
     "name": "stderr",
     "output_type": "stream",
     "text": [
      " 91%|█████████ | 390/430 [07:05<00:45,  1.14s/it]"
     ]
    },
    {
     "name": "stdout",
     "output_type": "stream",
     "text": [
      "Crawl comment page 1 success!!!\n",
      "Crawl comment for product 277557819\n",
      "Crawl comment page 0 success!!!\n"
     ]
    },
    {
     "name": "stderr",
     "output_type": "stream",
     "text": [
      " 91%|█████████ | 391/430 [07:05<00:34,  1.13it/s]"
     ]
    },
    {
     "name": "stdout",
     "output_type": "stream",
     "text": [
      "Crawl comment page 1 success!!!\n",
      "Crawl comment for product 276957582\n",
      "Crawl comment page 0 success!!!\n"
     ]
    },
    {
     "name": "stderr",
     "output_type": "stream",
     "text": [
      " 91%|█████████ | 392/430 [07:06<00:27,  1.40it/s]"
     ]
    },
    {
     "name": "stdout",
     "output_type": "stream",
     "text": [
      "Crawl comment page 1 success!!!\n",
      "Crawl comment for product 276933852\n",
      "Crawl comment page 0 success!!!\n"
     ]
    },
    {
     "name": "stderr",
     "output_type": "stream",
     "text": [
      " 91%|█████████▏| 393/430 [07:06<00:21,  1.71it/s]"
     ]
    },
    {
     "name": "stdout",
     "output_type": "stream",
     "text": [
      "Crawl comment page 1 success!!!\n",
      "Crawl comment for product 276933675\n",
      "Crawl comment page 0 success!!!\n"
     ]
    },
    {
     "name": "stderr",
     "output_type": "stream",
     "text": [
      " 92%|█████████▏| 394/430 [07:06<00:20,  1.72it/s]"
     ]
    },
    {
     "name": "stdout",
     "output_type": "stream",
     "text": [
      "Crawl comment page 1 success!!!\n",
      "Crawl comment for product 275924958\n",
      "Crawl comment page 0 success!!!\n"
     ]
    },
    {
     "name": "stderr",
     "output_type": "stream",
     "text": [
      " 92%|█████████▏| 395/430 [07:07<00:17,  1.96it/s]"
     ]
    },
    {
     "name": "stdout",
     "output_type": "stream",
     "text": [
      "Crawl comment page 1 success!!!\n",
      "Crawl comment for product 275906216\n",
      "Crawl comment page 0 success!!!\n"
     ]
    },
    {
     "name": "stderr",
     "output_type": "stream",
     "text": [
      " 92%|█████████▏| 396/430 [07:07<00:15,  2.26it/s]"
     ]
    },
    {
     "name": "stdout",
     "output_type": "stream",
     "text": [
      "Crawl comment page 1 success!!!\n",
      "Crawl comment for product 275407662\n",
      "Crawl comment page 0 success!!!\n"
     ]
    },
    {
     "name": "stderr",
     "output_type": "stream",
     "text": [
      " 92%|█████████▏| 397/430 [07:07<00:13,  2.40it/s]"
     ]
    },
    {
     "name": "stdout",
     "output_type": "stream",
     "text": [
      "Crawl comment page 1 success!!!\n",
      "Crawl comment for product 275376312\n",
      "Crawl comment page 0 success!!!\n"
     ]
    },
    {
     "name": "stderr",
     "output_type": "stream",
     "text": [
      " 93%|█████████▎| 398/430 [07:08<00:11,  2.80it/s]"
     ]
    },
    {
     "name": "stdout",
     "output_type": "stream",
     "text": [
      "Crawl comment page 1 success!!!\n",
      "Crawl comment for product 275246947\n",
      "Crawl comment page 0 success!!!\n"
     ]
    },
    {
     "name": "stderr",
     "output_type": "stream",
     "text": [
      " 93%|█████████▎| 399/430 [07:09<00:17,  1.77it/s]"
     ]
    },
    {
     "name": "stdout",
     "output_type": "stream",
     "text": [
      "Crawl comment page 1 success!!!\n",
      "Crawl comment for product 275238631\n",
      "Crawl comment page 0 success!!!\n"
     ]
    },
    {
     "name": "stderr",
     "output_type": "stream",
     "text": [
      " 93%|█████████▎| 400/430 [07:09<00:15,  1.88it/s]"
     ]
    },
    {
     "name": "stdout",
     "output_type": "stream",
     "text": [
      "Crawl comment page 1 success!!!\n",
      "Crawl comment for product 275228880\n",
      "Crawl comment page 0 success!!!\n"
     ]
    },
    {
     "name": "stderr",
     "output_type": "stream",
     "text": [
      " 93%|█████████▎| 401/430 [07:09<00:13,  2.17it/s]"
     ]
    },
    {
     "name": "stdout",
     "output_type": "stream",
     "text": [
      "Crawl comment page 1 success!!!\n",
      "Crawl comment for product 275213424\n",
      "Crawl comment page 0 success!!!\n"
     ]
    },
    {
     "name": "stderr",
     "output_type": "stream",
     "text": [
      " 93%|█████████▎| 402/430 [07:10<00:12,  2.30it/s]"
     ]
    },
    {
     "name": "stdout",
     "output_type": "stream",
     "text": [
      "Crawl comment page 1 success!!!\n",
      "Crawl comment for product 274867163\n",
      "Crawl comment page 0 success!!!\n"
     ]
    },
    {
     "name": "stderr",
     "output_type": "stream",
     "text": [
      " 94%|█████████▎| 403/430 [07:13<00:33,  1.25s/it]"
     ]
    },
    {
     "name": "stdout",
     "output_type": "stream",
     "text": [
      "Crawl comment page 1 success!!!\n",
      "Crawl comment for product 274828550\n",
      "Crawl comment page 0 success!!!\n"
     ]
    },
    {
     "name": "stderr",
     "output_type": "stream",
     "text": [
      " 94%|█████████▍| 404/430 [07:13<00:26,  1.02s/it]"
     ]
    },
    {
     "name": "stdout",
     "output_type": "stream",
     "text": [
      "Crawl comment page 1 success!!!\n",
      "Crawl comment for product 274758261\n",
      "Crawl comment page 0 success!!!\n"
     ]
    },
    {
     "name": "stderr",
     "output_type": "stream",
     "text": [
      " 94%|█████████▍| 405/430 [07:14<00:20,  1.24it/s]"
     ]
    },
    {
     "name": "stdout",
     "output_type": "stream",
     "text": [
      "Crawl comment page 1 success!!!\n",
      "Crawl comment for product 274558570\n",
      "Crawl comment page 0 success!!!\n"
     ]
    },
    {
     "name": "stderr",
     "output_type": "stream",
     "text": [
      " 94%|█████████▍| 406/430 [07:14<00:16,  1.47it/s]"
     ]
    },
    {
     "name": "stdout",
     "output_type": "stream",
     "text": [
      "Crawl comment page 1 success!!!\n",
      "Crawl comment for product 274133322\n",
      "Crawl comment page 0 success!!!\n"
     ]
    },
    {
     "name": "stderr",
     "output_type": "stream",
     "text": [
      " 95%|█████████▍| 407/430 [07:14<00:12,  1.84it/s]"
     ]
    },
    {
     "name": "stdout",
     "output_type": "stream",
     "text": [
      "Crawl comment page 1 success!!!\n",
      "Crawl comment for product 273546668\n",
      "Crawl comment page 0 success!!!\n"
     ]
    },
    {
     "name": "stderr",
     "output_type": "stream",
     "text": [
      " 95%|█████████▍| 408/430 [07:15<00:15,  1.38it/s]"
     ]
    },
    {
     "name": "stdout",
     "output_type": "stream",
     "text": [
      "Crawl comment page 1 success!!!\n",
      "Crawl comment for product 273009767\n",
      "Crawl comment page 0 success!!!\n"
     ]
    },
    {
     "name": "stderr",
     "output_type": "stream",
     "text": [
      " 95%|█████████▌| 409/430 [07:16<00:13,  1.55it/s]"
     ]
    },
    {
     "name": "stdout",
     "output_type": "stream",
     "text": [
      "Crawl comment page 1 success!!!\n",
      "Crawl comment for product 272484433\n",
      "Crawl comment page 0 success!!!\n"
     ]
    },
    {
     "name": "stderr",
     "output_type": "stream",
     "text": [
      " 95%|█████████▌| 410/430 [07:17<00:12,  1.55it/s]"
     ]
    },
    {
     "name": "stdout",
     "output_type": "stream",
     "text": [
      "Crawl comment page 1 success!!!\n",
      "Crawl comment for product 270303001\n",
      "Crawl comment page 0 success!!!\n"
     ]
    },
    {
     "name": "stderr",
     "output_type": "stream",
     "text": [
      " 96%|█████████▌| 411/430 [07:17<00:10,  1.77it/s]"
     ]
    },
    {
     "name": "stdout",
     "output_type": "stream",
     "text": [
      "Crawl comment page 1 success!!!\n",
      "Crawl comment for product 263239696\n",
      "Crawl comment page 0 success!!!\n"
     ]
    },
    {
     "name": "stderr",
     "output_type": "stream",
     "text": [
      " 96%|█████████▌| 412/430 [07:19<00:19,  1.08s/it]"
     ]
    },
    {
     "name": "stdout",
     "output_type": "stream",
     "text": [
      "Crawl comment page 1 success!!!\n",
      "Crawl comment for product 263239689\n",
      "Crawl comment page 0 success!!!\n"
     ]
    },
    {
     "name": "stderr",
     "output_type": "stream",
     "text": [
      " 96%|█████████▌| 413/430 [07:21<00:23,  1.37s/it]"
     ]
    },
    {
     "name": "stdout",
     "output_type": "stream",
     "text": [
      "Crawl comment page 1 success!!!\n",
      "Crawl comment for product 225240034\n",
      "Crawl comment page 0 success!!!\n"
     ]
    },
    {
     "name": "stderr",
     "output_type": "stream",
     "text": [
      " 96%|█████████▋| 414/430 [07:24<00:28,  1.80s/it]"
     ]
    },
    {
     "name": "stdout",
     "output_type": "stream",
     "text": [
      "Crawl comment page 1 success!!!\n",
      "Crawl comment for product 191385630\n",
      "Crawl comment page 0 success!!!\n"
     ]
    },
    {
     "name": "stderr",
     "output_type": "stream",
     "text": [
      " 97%|█████████▋| 415/430 [07:27<00:32,  2.18s/it]"
     ]
    },
    {
     "name": "stdout",
     "output_type": "stream",
     "text": [
      "Crawl comment page 1 success!!!\n",
      "Crawl comment for product 190791221\n",
      "Crawl comment page 0 success!!!\n"
     ]
    },
    {
     "name": "stderr",
     "output_type": "stream",
     "text": [
      " 97%|█████████▋| 416/430 [07:28<00:24,  1.77s/it]"
     ]
    },
    {
     "name": "stdout",
     "output_type": "stream",
     "text": [
      "Crawl comment page 1 success!!!\n",
      "Crawl comment for product 184591044\n",
      "Crawl comment page 0 success!!!\n"
     ]
    },
    {
     "name": "stderr",
     "output_type": "stream",
     "text": [
      " 97%|█████████▋| 417/430 [07:30<00:25,  1.99s/it]"
     ]
    },
    {
     "name": "stdout",
     "output_type": "stream",
     "text": [
      "Crawl comment page 1 success!!!\n",
      "Crawl comment for product 183907622\n",
      "Crawl comment page 0 success!!!\n"
     ]
    },
    {
     "name": "stderr",
     "output_type": "stream",
     "text": [
      " 97%|█████████▋| 418/430 [07:32<00:23,  1.93s/it]"
     ]
    },
    {
     "name": "stdout",
     "output_type": "stream",
     "text": [
      "Crawl comment page 1 success!!!\n",
      "Crawl comment for product 176592358\n",
      "Crawl comment page 0 success!!!\n"
     ]
    },
    {
     "name": "stderr",
     "output_type": "stream",
     "text": [
      " 97%|█████████▋| 419/430 [07:34<00:19,  1.81s/it]"
     ]
    },
    {
     "name": "stdout",
     "output_type": "stream",
     "text": [
      "Crawl comment page 1 success!!!\n",
      "Crawl comment for product 169581175\n",
      "Crawl comment page 0 success!!!\n"
     ]
    },
    {
     "name": "stderr",
     "output_type": "stream",
     "text": [
      " 98%|█████████▊| 420/430 [07:34<00:14,  1.43s/it]"
     ]
    },
    {
     "name": "stdout",
     "output_type": "stream",
     "text": [
      "Crawl comment page 1 success!!!\n",
      "Crawl comment for product 152446804\n",
      "Crawl comment page 0 success!!!\n"
     ]
    },
    {
     "name": "stderr",
     "output_type": "stream",
     "text": [
      " 98%|█████████▊| 421/430 [07:35<00:10,  1.18s/it]"
     ]
    },
    {
     "name": "stdout",
     "output_type": "stream",
     "text": [
      "Crawl comment page 1 success!!!\n",
      "Crawl comment for product 140953145\n",
      "Crawl comment page 0 success!!!\n"
     ]
    },
    {
     "name": "stderr",
     "output_type": "stream",
     "text": [
      " 98%|█████████▊| 422/430 [07:36<00:08,  1.07s/it]"
     ]
    },
    {
     "name": "stdout",
     "output_type": "stream",
     "text": [
      "Crawl comment page 1 success!!!\n",
      "Crawl comment for product 130769103\n",
      "Crawl comment page 0 success!!!\n"
     ]
    },
    {
     "name": "stderr",
     "output_type": "stream",
     "text": [
      " 98%|█████████▊| 423/430 [07:37<00:07,  1.10s/it]"
     ]
    },
    {
     "name": "stdout",
     "output_type": "stream",
     "text": [
      "Crawl comment page 1 success!!!\n",
      "Crawl comment for product 119112667\n",
      "Crawl comment page 0 success!!!\n"
     ]
    },
    {
     "name": "stderr",
     "output_type": "stream",
     "text": [
      " 99%|█████████▊| 424/430 [07:40<00:10,  1.71s/it]"
     ]
    },
    {
     "name": "stdout",
     "output_type": "stream",
     "text": [
      "Crawl comment page 1 success!!!\n",
      "Crawl comment for product 118898224\n",
      "Crawl comment page 0 success!!!\n"
     ]
    },
    {
     "name": "stderr",
     "output_type": "stream",
     "text": [
      " 99%|█████████▉| 425/430 [07:41<00:08,  1.62s/it]"
     ]
    },
    {
     "name": "stdout",
     "output_type": "stream",
     "text": [
      "Crawl comment page 1 success!!!\n",
      "Crawl comment for product 85029571\n",
      "Crawl comment page 0 success!!!\n"
     ]
    },
    {
     "name": "stderr",
     "output_type": "stream",
     "text": [
      " 99%|█████████▉| 426/430 [07:42<00:05,  1.39s/it]"
     ]
    },
    {
     "name": "stdout",
     "output_type": "stream",
     "text": [
      "Crawl comment page 1 success!!!\n",
      "Crawl comment for product 33507502\n",
      "Crawl comment page 0 success!!!\n"
     ]
    },
    {
     "name": "stderr",
     "output_type": "stream",
     "text": [
      " 99%|█████████▉| 427/430 [07:43<00:03,  1.22s/it]"
     ]
    },
    {
     "name": "stdout",
     "output_type": "stream",
     "text": [
      "Crawl comment page 1 success!!!\n",
      "Crawl comment for product 28079716\n",
      "Crawl comment page 0 success!!!\n"
     ]
    },
    {
     "name": "stderr",
     "output_type": "stream",
     "text": [
      "100%|█████████▉| 428/430 [07:44<00:02,  1.21s/it]"
     ]
    },
    {
     "name": "stdout",
     "output_type": "stream",
     "text": [
      "Crawl comment page 1 success!!!\n",
      "Crawl comment for product 23536038\n",
      "Crawl comment page 0 success!!!\n"
     ]
    },
    {
     "name": "stderr",
     "output_type": "stream",
     "text": [
      "100%|█████████▉| 429/430 [07:45<00:01,  1.06s/it]"
     ]
    },
    {
     "name": "stdout",
     "output_type": "stream",
     "text": [
      "Crawl comment page 1 success!!!\n",
      "Crawl comment for product 8282408\n",
      "Crawl comment page 0 success!!!\n"
     ]
    },
    {
     "name": "stderr",
     "output_type": "stream",
     "text": [
      "100%|██████████| 430/430 [07:48<00:00,  1.09s/it]"
     ]
    },
    {
     "name": "stdout",
     "output_type": "stream",
     "text": [
      "Crawl comment page 1 success!!!\n"
     ]
    },
    {
     "name": "stderr",
     "output_type": "stream",
     "text": [
      "\n"
     ]
    }
   ],
   "source": [
    "\n",
    "cookies = {\n",
    "    'TIKI_GUEST_TOKEN': '8jWSuIDBb2NGVzr6hsUZXpkP1FRin7lY',\n",
    "    'TOKENS': '{%22access_token%22:%228jWSuIDBb2NGVzr6hsUZXpkP1FRin7lY%22%2C%22expires_in%22:157680000%2C%22expires_at%22:1763654224277%2C%22guest_token%22:%228jWSuIDBb2NGVzr6hsUZXpkP1FRin7lY%22}',\n",
    "    'amp_99d374': 'eSc-_0HT1um7cb57E7dwA0...1enloc6a2.1enlrj4bc.1k.11.2l',\n",
    "    'amp_99d374_tiki.vn': 'eSc-_0HT1um7cb57E7dwA0...1enloc6a2.1enlrj2q9.3.1.1',\n",
    "    '_gcl_au': '1.1.559117409.1605974236',\n",
    "    '_ants_utm_v2': '',\n",
    "    '_pk_id.638735871.2fc5': 'b92ae025fbbdb31f.1605974236.1.1605977607.1605974236.',\n",
    "    '_pk_ses.638735871.2fc5': '*',\n",
    "    '_trackity': '70e316b0-96f2-dbe1-a2ed-43ff60419991',\n",
    "    '_ga_NKX31X43RV': 'GS1.1.1605974235.1.1.1605977607.0',\n",
    "    '_ga': 'GA1.2.657946765.1605974236',\n",
    "    'ai_client_id': '11935756853.1605974227',\n",
    "    'an_session': 'zizkzrzjzkzizhzkzlznzdzizizqzgzmzkzmzlzrzmzgzdzizlzjzmzqzkzlzjzgzjzdzizizdzizlzjzmzqzkzlzjzgzjzdzizlzjzmzqzkzlzjzgzjzdzjzdzhzqzdzizd2f27zdzjzdzlzmzmznzq',\n",
    "    'au_aid': '11935756853',\n",
    "    'dgs': '1605977598%3A3%3A0',\n",
    "    'au_gt': '1605974227146',\n",
    "    '_ants_services': '%5B%22cuid%22%5D',\n",
    "    '__admUTMtime': '1605974236',\n",
    "    '__iid': '749',\n",
    "    '__su': '0',\n",
    "    '_bs': 'bb9a32f6-ab13-ce80-92d6-57fd3fd6e4c8',\n",
    "    '_gid': 'GA1.2.867846791.1605974237',\n",
    "    '_fbp': 'fb.1.1605974237134.1297408816',\n",
    "    '_hjid': 'f152cf33-7323-4410-b9ae-79f6622ebc48',\n",
    "    '_hjFirstSeen': '1',\n",
    "    '_hjAbsoluteSessionInProgress': '0',\n",
    "    'tiki_client_id': '657946765.1605974236',\n",
    "    '__gads': 'ID=ae56424189ecccbe-227eb8e1d6c400a8:T=1605974229:RT=1605974229:S=ALNI_MZFWYf2BAjzCSiRNLC3bKI-W_7YHA',\n",
    "    'proxy_s_sv': '1605978058486',\n",
    "    'TKSESSID': '8bcd49b02e1e16aa1cdb795c54d7b460',\n",
    "    'TIKI_RECOMMENDATION': '21dd50e7f7c194df673ea3b717459249',\n",
    "    'cto_bundle': '7L6ha19NVXNkQmJ6aEVLcXNqbHdjcVZoQ0kzTUZwcEMyNCUyRm5nV3A2SThuOGxTRjI4Wlk1NU9xRnBEOG9tUjd2ekhyZEQxeE9qaVQ4MnFpbiUyRllGd2JiQUpTMW94MlNsTnYxd3dOYWtRcXhGdDNxSjdBVmNxU0FnUSUyQjlWYjhqTUtLdVl2cTBheWFvS0ZnY2pLdlpWRlEyUFF0Y1ElM0QlM0Q',\n",
    "    'TIKI_RECENTLYVIEWED': '58259141',\n",
    "    '_ants_event_his': '%7B%22action%22%3A%22view%22%2C%22time%22%3A1605977607258%7D',\n",
    "    '_hjIncludedInPageviewSample': '1',\n",
    "    '_hjIncludedInSessionSample': '1',\n",
    "    '_gat': '1',\n",
    "}\n",
    "\n",
    "headers = {\n",
    "    'User-Agent': 'Mozilla/5.0 (Windows NT 6.3; Win64; x64; rv:83.0) Gecko/20100101 Firefox/83.0',\n",
    "    'Accept': 'application/json, text/plain, */*',\n",
    "    'Accept-Language': 'vi-VN,vi;q=0.8,en-US;q=0.5,en;q=0.3',\n",
    "    'Referer': 'https://tiki.vn/dien-thoai-samsung-galaxy-m31-128gb-6gb-hang-chinh-hang-p58259141.html',\n",
    "    'x-guest-token': '8jWSuIDBb2NGVzr6hsUZXpkP1FRin7lY',\n",
    "    'Connection': 'keep-alive',\n",
    "    'TE': 'Trailers',\n",
    "}\n",
    "\n",
    "params = {\n",
    "    'product_id': '58259141',\n",
    "    'sort': 'score|desc,id|desc,stars|all',\n",
    "    'page': '1',\n",
    "    'limit': '10',\n",
    "    'include': 'comments'\n",
    "}\n",
    "\n",
    "def comment_parser(json):\n",
    "    d = dict()\n",
    "    d['id'] = json.get('id')\n",
    "    d['product_id'] = json.get('product_id')\n",
    "    d['title'] = json.get('title')\n",
    "    d['content'] = json.get('content')\n",
    "    d['thank_count'] = json.get('thank_count')\n",
    "    d['customer_id']  = json.get('customer_id')\n",
    "    d['rating'] = json.get('rating')\n",
    "    d['created_at'] = json.get('created_at')\n",
    "    d['customer_name'] = json.get('created_by').get('name')\n",
    "    d['purchased_at'] = json.get('created_by').get('purchased_at')\n",
    "    return d\n",
    "\n",
    "\n",
    "df_id = pd.read_csv('product_id_ncds.csv')\n",
    "p_ids = df_id.id.to_list()\n",
    "result = []\n",
    "for pid in tqdm(p_ids, total=len(p_ids)):\n",
    "    params['product_id'] = pid\n",
    "    print('Crawl comment for product {}'.format(pid))\n",
    "    for i in range(2):\n",
    "        params['page'] = i\n",
    "        response = requests.get('https://tiki.vn/api/v2/reviews', headers=headers, params=params, cookies=cookies)\n",
    "        if response.status_code == 200:\n",
    "            print('Crawl comment page {} success!!!'.format(i))\n",
    "            for comment in response.json().get('data'):\n",
    "                result.append(comment_parser(comment))\n",
    "df_comment = pd.DataFrame(result)"
   ]
  },
  {
   "cell_type": "code",
   "execution_count": 91,
   "id": "76ffc1ad",
   "metadata": {},
   "outputs": [
    {
     "data": {
      "text/html": [
       "<div>\n",
       "<style scoped>\n",
       "    .dataframe tbody tr th:only-of-type {\n",
       "        vertical-align: middle;\n",
       "    }\n",
       "\n",
       "    .dataframe tbody tr th {\n",
       "        vertical-align: top;\n",
       "    }\n",
       "\n",
       "    .dataframe thead th {\n",
       "        text-align: right;\n",
       "    }\n",
       "</style>\n",
       "<table border=\"1\" class=\"dataframe\">\n",
       "  <thead>\n",
       "    <tr style=\"text-align: right;\">\n",
       "      <th></th>\n",
       "      <th>id</th>\n",
       "      <th>product_id</th>\n",
       "      <th>title</th>\n",
       "      <th>content</th>\n",
       "      <th>thank_count</th>\n",
       "      <th>customer_id</th>\n",
       "      <th>rating</th>\n",
       "      <th>created_at</th>\n",
       "      <th>customer_name</th>\n",
       "      <th>purchased_at</th>\n",
       "      <th>PurchasedDate</th>\n",
       "    </tr>\n",
       "  </thead>\n",
       "  <tbody>\n",
       "    <tr>\n",
       "      <th>0</th>\n",
       "      <td>20120937</td>\n",
       "      <td>176309243</td>\n",
       "      <td>Cực kì hài lòng</td>\n",
       "      <td>Mua ở Tiki là an tâm nhất. Túi rác cũng dùng c...</td>\n",
       "      <td>1</td>\n",
       "      <td>47241</td>\n",
       "      <td>5</td>\n",
       "      <td>1746695940</td>\n",
       "      <td>Thu Hồi</td>\n",
       "      <td>1746688230</td>\n",
       "      <td>2025-05-08 07:10:30</td>\n",
       "    </tr>\n",
       "    <tr>\n",
       "      <th>1</th>\n",
       "      <td>20121413</td>\n",
       "      <td>176309243</td>\n",
       "      <td>Cực kì hài lòng</td>\n",
       "      <td>Túi rác dày, có quai nên dùng rất tiện. Tiki g...</td>\n",
       "      <td>1</td>\n",
       "      <td>5557046</td>\n",
       "      <td>5</td>\n",
       "      <td>1746781907</td>\n",
       "      <td>Nguyễn Phúc Trọng</td>\n",
       "      <td>1746686154</td>\n",
       "      <td>2025-05-08 06:35:54</td>\n",
       "    </tr>\n",
       "    <tr>\n",
       "      <th>2</th>\n",
       "      <td>20135334</td>\n",
       "      <td>176309243</td>\n",
       "      <td>Cực kì hài lòng</td>\n",
       "      <td>Có vẻ mỏng nhưng túi chắn chắn và khá lớn. Giá...</td>\n",
       "      <td>0</td>\n",
       "      <td>1596921</td>\n",
       "      <td>5</td>\n",
       "      <td>1749821079</td>\n",
       "      <td>Mai Huong</td>\n",
       "      <td>1749604281</td>\n",
       "      <td>2025-06-11 01:11:21</td>\n",
       "    </tr>\n",
       "    <tr>\n",
       "      <th>3</th>\n",
       "      <td>20121519</td>\n",
       "      <td>176309243</td>\n",
       "      <td>Cực kì hài lòng</td>\n",
       "      <td>Săn được deal xịn xò, túi 25L siêu chắc. Giao ...</td>\n",
       "      <td>1</td>\n",
       "      <td>15143103</td>\n",
       "      <td>5</td>\n",
       "      <td>1746800702</td>\n",
       "      <td>Võ Thị Kim Viên</td>\n",
       "      <td>1746693649</td>\n",
       "      <td>2025-05-08 08:40:49</td>\n",
       "    </tr>\n",
       "    <tr>\n",
       "      <th>4</th>\n",
       "      <td>20120853</td>\n",
       "      <td>176309243</td>\n",
       "      <td>Cực kì hài lòng</td>\n",
       "      <td>Túi dày chắc chắn giao siêu nhanh . Mua 2 comb...</td>\n",
       "      <td>1</td>\n",
       "      <td>1747824</td>\n",
       "      <td>5</td>\n",
       "      <td>1746691848</td>\n",
       "      <td>Lê thị thúy Kiều</td>\n",
       "      <td>1746687130</td>\n",
       "      <td>2025-05-08 06:52:10</td>\n",
       "    </tr>\n",
       "    <tr>\n",
       "      <th>5</th>\n",
       "      <td>20136132</td>\n",
       "      <td>176309243</td>\n",
       "      <td>Cực kì hài lòng</td>\n",
       "      <td>Miệng túi bó nên tròng vào thùng sẽ dễ bị rách</td>\n",
       "      <td>0</td>\n",
       "      <td>105402</td>\n",
       "      <td>5</td>\n",
       "      <td>1749998351</td>\n",
       "      <td>Quang Trung</td>\n",
       "      <td>1747752049</td>\n",
       "      <td>2025-05-20 14:40:49</td>\n",
       "    </tr>\n",
       "    <tr>\n",
       "      <th>6</th>\n",
       "      <td>20120944</td>\n",
       "      <td>176309243</td>\n",
       "      <td>Cực kì hài lòng</td>\n",
       "      <td>Chất lượng đảm bảo. Giao hàng đúng hẹn</td>\n",
       "      <td>1</td>\n",
       "      <td>29808899</td>\n",
       "      <td>5</td>\n",
       "      <td>1746697214</td>\n",
       "      <td>NGUYEN THU</td>\n",
       "      <td>1746686328</td>\n",
       "      <td>2025-05-08 06:38:48</td>\n",
       "    </tr>\n",
       "    <tr>\n",
       "      <th>7</th>\n",
       "      <td>20130380</td>\n",
       "      <td>176309243</td>\n",
       "      <td>Cực kì hài lòng</td>\n",
       "      <td>Giao hàng nhanh, có túi tiện dụng</td>\n",
       "      <td>0</td>\n",
       "      <td>11777713</td>\n",
       "      <td>5</td>\n",
       "      <td>1748765947</td>\n",
       "      <td>Lê Văn Thương</td>\n",
       "      <td>1748568303</td>\n",
       "      <td>2025-05-30 01:25:03</td>\n",
       "    </tr>\n",
       "    <tr>\n",
       "      <th>8</th>\n",
       "      <td>20138755</td>\n",
       "      <td>176309243</td>\n",
       "      <td>Cực kì hài lòng</td>\n",
       "      <td>Giao nhanh, okela quá ạ</td>\n",
       "      <td>0</td>\n",
       "      <td>13395152</td>\n",
       "      <td>5</td>\n",
       "      <td>1750571186</td>\n",
       "      <td>Phương Phạm</td>\n",
       "      <td>1750564129</td>\n",
       "      <td>2025-06-22 03:48:49</td>\n",
       "    </tr>\n",
       "    <tr>\n",
       "      <th>9</th>\n",
       "      <td>20134291</td>\n",
       "      <td>176309243</td>\n",
       "      <td>Cực kì hài lòng</td>\n",
       "      <td>Thiết kế tiện lợi.</td>\n",
       "      <td>0</td>\n",
       "      <td>1466599</td>\n",
       "      <td>5</td>\n",
       "      <td>1749605328</td>\n",
       "      <td>Phạm Tva</td>\n",
       "      <td>1748774361</td>\n",
       "      <td>2025-06-01 10:39:21</td>\n",
       "    </tr>\n",
       "    <tr>\n",
       "      <th>10</th>\n",
       "      <td>20120937</td>\n",
       "      <td>176309243</td>\n",
       "      <td>Cực kì hài lòng</td>\n",
       "      <td>Mua ở Tiki là an tâm nhất. Túi rác cũng dùng c...</td>\n",
       "      <td>1</td>\n",
       "      <td>47241</td>\n",
       "      <td>5</td>\n",
       "      <td>1746695940</td>\n",
       "      <td>Thu Hồi</td>\n",
       "      <td>1746688230</td>\n",
       "      <td>2025-05-08 07:10:30</td>\n",
       "    </tr>\n",
       "    <tr>\n",
       "      <th>11</th>\n",
       "      <td>20121413</td>\n",
       "      <td>176309243</td>\n",
       "      <td>Cực kì hài lòng</td>\n",
       "      <td>Túi rác dày, có quai nên dùng rất tiện. Tiki g...</td>\n",
       "      <td>1</td>\n",
       "      <td>5557046</td>\n",
       "      <td>5</td>\n",
       "      <td>1746781907</td>\n",
       "      <td>Nguyễn Phúc Trọng</td>\n",
       "      <td>1746686154</td>\n",
       "      <td>2025-05-08 06:35:54</td>\n",
       "    </tr>\n",
       "    <tr>\n",
       "      <th>12</th>\n",
       "      <td>20135334</td>\n",
       "      <td>176309243</td>\n",
       "      <td>Cực kì hài lòng</td>\n",
       "      <td>Có vẻ mỏng nhưng túi chắn chắn và khá lớn. Giá...</td>\n",
       "      <td>0</td>\n",
       "      <td>1596921</td>\n",
       "      <td>5</td>\n",
       "      <td>1749821079</td>\n",
       "      <td>Mai Huong</td>\n",
       "      <td>1749604281</td>\n",
       "      <td>2025-06-11 01:11:21</td>\n",
       "    </tr>\n",
       "    <tr>\n",
       "      <th>13</th>\n",
       "      <td>20121519</td>\n",
       "      <td>176309243</td>\n",
       "      <td>Cực kì hài lòng</td>\n",
       "      <td>Săn được deal xịn xò, túi 25L siêu chắc. Giao ...</td>\n",
       "      <td>1</td>\n",
       "      <td>15143103</td>\n",
       "      <td>5</td>\n",
       "      <td>1746800702</td>\n",
       "      <td>Võ Thị Kim Viên</td>\n",
       "      <td>1746693649</td>\n",
       "      <td>2025-05-08 08:40:49</td>\n",
       "    </tr>\n",
       "    <tr>\n",
       "      <th>14</th>\n",
       "      <td>20120853</td>\n",
       "      <td>176309243</td>\n",
       "      <td>Cực kì hài lòng</td>\n",
       "      <td>Túi dày chắc chắn giao siêu nhanh . Mua 2 comb...</td>\n",
       "      <td>1</td>\n",
       "      <td>1747824</td>\n",
       "      <td>5</td>\n",
       "      <td>1746691848</td>\n",
       "      <td>Lê thị thúy Kiều</td>\n",
       "      <td>1746687130</td>\n",
       "      <td>2025-05-08 06:52:10</td>\n",
       "    </tr>\n",
       "    <tr>\n",
       "      <th>15</th>\n",
       "      <td>20136132</td>\n",
       "      <td>176309243</td>\n",
       "      <td>Cực kì hài lòng</td>\n",
       "      <td>Miệng túi bó nên tròng vào thùng sẽ dễ bị rách</td>\n",
       "      <td>0</td>\n",
       "      <td>105402</td>\n",
       "      <td>5</td>\n",
       "      <td>1749998351</td>\n",
       "      <td>Quang Trung</td>\n",
       "      <td>1747752049</td>\n",
       "      <td>2025-05-20 14:40:49</td>\n",
       "    </tr>\n",
       "    <tr>\n",
       "      <th>16</th>\n",
       "      <td>20120944</td>\n",
       "      <td>176309243</td>\n",
       "      <td>Cực kì hài lòng</td>\n",
       "      <td>Chất lượng đảm bảo. Giao hàng đúng hẹn</td>\n",
       "      <td>1</td>\n",
       "      <td>29808899</td>\n",
       "      <td>5</td>\n",
       "      <td>1746697214</td>\n",
       "      <td>NGUYEN THU</td>\n",
       "      <td>1746686328</td>\n",
       "      <td>2025-05-08 06:38:48</td>\n",
       "    </tr>\n",
       "    <tr>\n",
       "      <th>17</th>\n",
       "      <td>20130380</td>\n",
       "      <td>176309243</td>\n",
       "      <td>Cực kì hài lòng</td>\n",
       "      <td>Giao hàng nhanh, có túi tiện dụng</td>\n",
       "      <td>0</td>\n",
       "      <td>11777713</td>\n",
       "      <td>5</td>\n",
       "      <td>1748765947</td>\n",
       "      <td>Lê Văn Thương</td>\n",
       "      <td>1748568303</td>\n",
       "      <td>2025-05-30 01:25:03</td>\n",
       "    </tr>\n",
       "    <tr>\n",
       "      <th>18</th>\n",
       "      <td>20138755</td>\n",
       "      <td>176309243</td>\n",
       "      <td>Cực kì hài lòng</td>\n",
       "      <td>Giao nhanh, okela quá ạ</td>\n",
       "      <td>0</td>\n",
       "      <td>13395152</td>\n",
       "      <td>5</td>\n",
       "      <td>1750571186</td>\n",
       "      <td>Phương Phạm</td>\n",
       "      <td>1750564129</td>\n",
       "      <td>2025-06-22 03:48:49</td>\n",
       "    </tr>\n",
       "    <tr>\n",
       "      <th>19</th>\n",
       "      <td>20134291</td>\n",
       "      <td>176309243</td>\n",
       "      <td>Cực kì hài lòng</td>\n",
       "      <td>Thiết kế tiện lợi.</td>\n",
       "      <td>0</td>\n",
       "      <td>1466599</td>\n",
       "      <td>5</td>\n",
       "      <td>1749605328</td>\n",
       "      <td>Phạm Tva</td>\n",
       "      <td>1748774361</td>\n",
       "      <td>2025-06-01 10:39:21</td>\n",
       "    </tr>\n",
       "  </tbody>\n",
       "</table>\n",
       "</div>"
      ],
      "text/plain": [
       "          id  product_id            title  \\\n",
       "0   20120937   176309243  Cực kì hài lòng   \n",
       "1   20121413   176309243  Cực kì hài lòng   \n",
       "2   20135334   176309243  Cực kì hài lòng   \n",
       "3   20121519   176309243  Cực kì hài lòng   \n",
       "4   20120853   176309243  Cực kì hài lòng   \n",
       "5   20136132   176309243  Cực kì hài lòng   \n",
       "6   20120944   176309243  Cực kì hài lòng   \n",
       "7   20130380   176309243  Cực kì hài lòng   \n",
       "8   20138755   176309243  Cực kì hài lòng   \n",
       "9   20134291   176309243  Cực kì hài lòng   \n",
       "10  20120937   176309243  Cực kì hài lòng   \n",
       "11  20121413   176309243  Cực kì hài lòng   \n",
       "12  20135334   176309243  Cực kì hài lòng   \n",
       "13  20121519   176309243  Cực kì hài lòng   \n",
       "14  20120853   176309243  Cực kì hài lòng   \n",
       "15  20136132   176309243  Cực kì hài lòng   \n",
       "16  20120944   176309243  Cực kì hài lòng   \n",
       "17  20130380   176309243  Cực kì hài lòng   \n",
       "18  20138755   176309243  Cực kì hài lòng   \n",
       "19  20134291   176309243  Cực kì hài lòng   \n",
       "\n",
       "                                              content  thank_count  \\\n",
       "0   Mua ở Tiki là an tâm nhất. Túi rác cũng dùng c...            1   \n",
       "1   Túi rác dày, có quai nên dùng rất tiện. Tiki g...            1   \n",
       "2   Có vẻ mỏng nhưng túi chắn chắn và khá lớn. Giá...            0   \n",
       "3   Săn được deal xịn xò, túi 25L siêu chắc. Giao ...            1   \n",
       "4   Túi dày chắc chắn giao siêu nhanh . Mua 2 comb...            1   \n",
       "5      Miệng túi bó nên tròng vào thùng sẽ dễ bị rách            0   \n",
       "6              Chất lượng đảm bảo. Giao hàng đúng hẹn            1   \n",
       "7                   Giao hàng nhanh, có túi tiện dụng            0   \n",
       "8                             Giao nhanh, okela quá ạ            0   \n",
       "9                                  Thiết kế tiện lợi.            0   \n",
       "10  Mua ở Tiki là an tâm nhất. Túi rác cũng dùng c...            1   \n",
       "11  Túi rác dày, có quai nên dùng rất tiện. Tiki g...            1   \n",
       "12  Có vẻ mỏng nhưng túi chắn chắn và khá lớn. Giá...            0   \n",
       "13  Săn được deal xịn xò, túi 25L siêu chắc. Giao ...            1   \n",
       "14  Túi dày chắc chắn giao siêu nhanh . Mua 2 comb...            1   \n",
       "15     Miệng túi bó nên tròng vào thùng sẽ dễ bị rách            0   \n",
       "16             Chất lượng đảm bảo. Giao hàng đúng hẹn            1   \n",
       "17                  Giao hàng nhanh, có túi tiện dụng            0   \n",
       "18                            Giao nhanh, okela quá ạ            0   \n",
       "19                                 Thiết kế tiện lợi.            0   \n",
       "\n",
       "    customer_id  rating  created_at      customer_name  purchased_at  \\\n",
       "0         47241       5  1746695940            Thu Hồi    1746688230   \n",
       "1       5557046       5  1746781907  Nguyễn Phúc Trọng    1746686154   \n",
       "2       1596921       5  1749821079          Mai Huong    1749604281   \n",
       "3      15143103       5  1746800702    Võ Thị Kim Viên    1746693649   \n",
       "4       1747824       5  1746691848   Lê thị thúy Kiều    1746687130   \n",
       "5        105402       5  1749998351        Quang Trung    1747752049   \n",
       "6      29808899       5  1746697214         NGUYEN THU    1746686328   \n",
       "7      11777713       5  1748765947      Lê Văn Thương    1748568303   \n",
       "8      13395152       5  1750571186        Phương Phạm    1750564129   \n",
       "9       1466599       5  1749605328           Phạm Tva    1748774361   \n",
       "10        47241       5  1746695940            Thu Hồi    1746688230   \n",
       "11      5557046       5  1746781907  Nguyễn Phúc Trọng    1746686154   \n",
       "12      1596921       5  1749821079          Mai Huong    1749604281   \n",
       "13     15143103       5  1746800702    Võ Thị Kim Viên    1746693649   \n",
       "14      1747824       5  1746691848   Lê thị thúy Kiều    1746687130   \n",
       "15       105402       5  1749998351        Quang Trung    1747752049   \n",
       "16     29808899       5  1746697214         NGUYEN THU    1746686328   \n",
       "17     11777713       5  1748765947      Lê Văn Thương    1748568303   \n",
       "18     13395152       5  1750571186        Phương Phạm    1750564129   \n",
       "19      1466599       5  1749605328           Phạm Tva    1748774361   \n",
       "\n",
       "         PurchasedDate  \n",
       "0  2025-05-08 07:10:30  \n",
       "1  2025-05-08 06:35:54  \n",
       "2  2025-06-11 01:11:21  \n",
       "3  2025-05-08 08:40:49  \n",
       "4  2025-05-08 06:52:10  \n",
       "5  2025-05-20 14:40:49  \n",
       "6  2025-05-08 06:38:48  \n",
       "7  2025-05-30 01:25:03  \n",
       "8  2025-06-22 03:48:49  \n",
       "9  2025-06-01 10:39:21  \n",
       "10 2025-05-08 07:10:30  \n",
       "11 2025-05-08 06:35:54  \n",
       "12 2025-06-11 01:11:21  \n",
       "13 2025-05-08 08:40:49  \n",
       "14 2025-05-08 06:52:10  \n",
       "15 2025-05-20 14:40:49  \n",
       "16 2025-05-08 06:38:48  \n",
       "17 2025-05-30 01:25:03  \n",
       "18 2025-06-22 03:48:49  \n",
       "19 2025-06-01 10:39:21  "
      ]
     },
     "execution_count": 91,
     "metadata": {},
     "output_type": "execute_result"
    }
   ],
   "source": [
    "df_comment.head(20)"
   ]
  }
 ],
 "metadata": {
  "kernelspec": {
   "display_name": ".venv",
   "language": "python",
   "name": "python3"
  },
  "language_info": {
   "codemirror_mode": {
    "name": "ipython",
    "version": 3
   },
   "file_extension": ".py",
   "mimetype": "text/x-python",
   "name": "python",
   "nbconvert_exporter": "python",
   "pygments_lexer": "ipython3",
   "version": "3.13.3"
  }
 },
 "nbformat": 4,
 "nbformat_minor": 5
}
